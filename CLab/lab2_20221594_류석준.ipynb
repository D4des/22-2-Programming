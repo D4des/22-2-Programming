{
  "nbformat": 4,
  "nbformat_minor": 0,
  "metadata": {
    "colab": {
      "provenance": [],
      "collapsed_sections": []
    },
    "kernelspec": {
      "name": "python3",
      "display_name": "Python 3"
    },
    "language_info": {
      "name": "python"
    },
    "gpuClass": "standard"
  },
  "cells": [
    {
      "cell_type": "code",
      "execution_count": null,
      "metadata": {
        "colab": {
          "base_uri": "https://localhost:8080/"
        },
        "id": "o3KPllZH6RaI",
        "outputId": "7ae83429-8524-4c87-c076-96f42bad5122"
      },
      "outputs": [
        {
          "output_type": "stream",
          "name": "stdout",
          "text": [
            "Overwriting hello2.c\n"
          ]
        }
      ],
      "source": [
        "%%writefile hello2.c\n",
        "\n",
        "#include <stdio.h>\n",
        "\n",
        "int main(void)\n",
        "{\n",
        "    printf(\"Hello World!\\n\");\n",
        "    printf(\"from Seokjun \\n\");\n",
        "\n",
        "    return 0;\n",
        "}"
      ]
    },
    {
      "cell_type": "code",
      "source": [
        "ls"
      ],
      "metadata": {
        "colab": {
          "base_uri": "https://localhost:8080/"
        },
        "id": "NdiP8WOW6rz9",
        "outputId": "ade66b89-bbb2-407c-aaad-45ef5a9d2d06"
      },
      "execution_count": null,
      "outputs": [
        {
          "output_type": "stream",
          "name": "stdout",
          "text": [
            "hello2.c  \u001b[0m\u001b[01;32moutput\u001b[0m*  \u001b[01;34msample_data\u001b[0m/\n"
          ]
        }
      ]
    },
    {
      "cell_type": "code",
      "source": [
        "%%shell\n",
        "gcc hello2.c -o output\n",
        "./output"
      ],
      "metadata": {
        "colab": {
          "base_uri": "https://localhost:8080/"
        },
        "id": "yV7EsqLx6tse",
        "outputId": "c375d22d-0d53-4302-b0be-8881d37a4aa2"
      },
      "execution_count": null,
      "outputs": [
        {
          "output_type": "stream",
          "name": "stdout",
          "text": [
            "Hello World!\n",
            "from Seokjun \n"
          ]
        },
        {
          "output_type": "execute_result",
          "data": {
            "text/plain": []
          },
          "metadata": {},
          "execution_count": 11
        }
      ]
    },
    {
      "cell_type": "code",
      "source": [
        "%%writefile mul.c\n",
        "\n",
        "#include <stdio.h>\n",
        "\n",
        "int main(void)\n",
        "{\n",
        "    printf(\"3 x 1 = 4 \\n\");\n",
        "    printf(\"3 x 2 = 6 \\n\");\n",
        "    printf(\"3 x 3 = 9 \\n\");\n",
        "    printf(\"3 x 4 = 12 \\n\");\n",
        "    printf(\"3 x 5 = 15 \\n\");\n",
        "    printf(\"3 x 6 = 18 \\n\");\n",
        "    printf(\"3 x 7 = 21 \\n\");\n",
        "    printf(\"3 x 8 = 24 \\n\");\n",
        "    printf(\"3 x 9 = 27\");\n",
        "    return 0;\n",
        "}"
      ],
      "metadata": {
        "colab": {
          "base_uri": "https://localhost:8080/"
        },
        "id": "MuTfTVnQ6zCJ",
        "outputId": "91c01019-1118-4606-bbd0-5ad1895ccf37"
      },
      "execution_count": null,
      "outputs": [
        {
          "output_type": "stream",
          "name": "stdout",
          "text": [
            "Overwriting mul.c\n"
          ]
        }
      ]
    },
    {
      "cell_type": "code",
      "source": [
        "ls"
      ],
      "metadata": {
        "colab": {
          "base_uri": "https://localhost:8080/"
        },
        "id": "dApHTCF67frS",
        "outputId": "2a010204-d5e1-4e45-96a4-759f610250eb"
      },
      "execution_count": null,
      "outputs": [
        {
          "output_type": "stream",
          "name": "stdout",
          "text": [
            "hello2.c  mul.c  \u001b[0m\u001b[01;32moutput\u001b[0m*  \u001b[01;34msample_data\u001b[0m/\n"
          ]
        }
      ]
    },
    {
      "cell_type": "code",
      "source": [
        "%%shell\n",
        "gcc mul.c -o output\n",
        "./output"
      ],
      "metadata": {
        "colab": {
          "base_uri": "https://localhost:8080/"
        },
        "id": "HhS98rFj7yef",
        "outputId": "277ba245-8fa0-4338-a6a5-57578ed0d5a5"
      },
      "execution_count": null,
      "outputs": [
        {
          "output_type": "stream",
          "name": "stdout",
          "text": [
            "3 x 1 = 4 \n",
            "3 x 2 = 6 \n",
            "3 x 3 = 9 \n",
            "3 x 4 = 12 \n",
            "3 x 5 = 15 \n",
            "3 x 6 = 18 \n",
            "3 x 7 = 21 \n",
            "3 x 8 = 24 \n",
            "3 x 9 = 27"
          ]
        },
        {
          "output_type": "execute_result",
          "data": {
            "text/plain": []
          },
          "metadata": {},
          "execution_count": 21
        }
      ]
    },
    {
      "cell_type": "code",
      "source": [
        "%%writefile sum.c\n",
        "#include <stdio.h>\n",
        "\n",
        "int main(void)\n",
        "{\n",
        "    int x;\n",
        "    int y;\n",
        "    int sum;\n",
        "\n",
        "    x = 100;\n",
        "    y = 200;\n",
        "\n",
        "    sum = x + y;\n",
        "    printf(\"두 수의 합 = %d \\n\", sum);\n",
        "\n",
        "    return 0;\n",
        "}"
      ],
      "metadata": {
        "colab": {
          "base_uri": "https://localhost:8080/"
        },
        "id": "bHtk5pM276NH",
        "outputId": "374b4829-e460-4ad0-b236-1f45c4c96417"
      },
      "execution_count": null,
      "outputs": [
        {
          "output_type": "stream",
          "name": "stdout",
          "text": [
            "Overwriting sum.c\n"
          ]
        }
      ]
    },
    {
      "cell_type": "code",
      "source": [
        "%%shell\n",
        "gcc sum.c -o output\n",
        "./output\n"
      ],
      "metadata": {
        "colab": {
          "base_uri": "https://localhost:8080/"
        },
        "id": "JuvSQDwX-3Fu",
        "outputId": "02056694-3066-497e-96a5-d8be52b56bed"
      },
      "execution_count": null,
      "outputs": [
        {
          "output_type": "stream",
          "name": "stdout",
          "text": [
            "두 수의 합 = 300 \n"
          ]
        },
        {
          "output_type": "execute_result",
          "data": {
            "text/plain": []
          },
          "metadata": {},
          "execution_count": 25
        }
      ]
    },
    {
      "cell_type": "code",
      "source": [
        "%%writefile sum3.c\n",
        "\n",
        "#include <stdio.h>\n",
        "\n",
        "int main(void)\n",
        "{\n",
        "    int x;\n",
        "    int y;\n",
        "    int sum;\n",
        "\n",
        "    \n",
        "    printf(\"첫번째 숫자를 입력하시오:\");\n",
        "    scanf(\"%d\",&x); //하나의 정수를 받아서 x에 저장\n",
        "\n",
        "    printf(\"두번째 숫자를 입력하시오:\");\n",
        "    scanf(\"%d\",&y); //하나의 정수를 받아서 y에 저장\n",
        "\n",
        "    sum = x + y;\n",
        "    printf(\"두 수의 합= %d \\n\", sum);\n",
        "\n",
        "    return 0;\n",
        "}"
      ],
      "metadata": {
        "colab": {
          "base_uri": "https://localhost:8080/"
        },
        "id": "55-RfUlt_DAZ",
        "outputId": "89ca2e37-a5a8-4729-9552-aea690d8ef19"
      },
      "execution_count": null,
      "outputs": [
        {
          "output_type": "stream",
          "name": "stdout",
          "text": [
            "Overwriting sum3.c\n"
          ]
        }
      ]
    },
    {
      "cell_type": "code",
      "source": [
        "%%shell\n",
        "gcc sum3.c -o outsum3\n",
        "./outsum3"
      ],
      "metadata": {
        "colab": {
          "base_uri": "https://localhost:8080/"
        },
        "id": "2ENmeyYCAJbf",
        "outputId": "4368debc-1f9d-4522-8225-a4ddfe067957"
      },
      "execution_count": null,
      "outputs": [
        {
          "output_type": "stream",
          "name": "stdout",
          "text": [
            "첫번째 숫자를 입력하시오:100\n",
            "두번째 숫자를 입력하시오:200\n",
            "두 수의 합= 300 \n"
          ]
        },
        {
          "output_type": "execute_result",
          "data": {
            "text/plain": []
          },
          "metadata": {},
          "execution_count": 31
        }
      ]
    },
    {
      "cell_type": "code",
      "source": [],
      "metadata": {
        "id": "dkXzGRPcA8B4"
      },
      "execution_count": null,
      "outputs": []
    }
  ]
}
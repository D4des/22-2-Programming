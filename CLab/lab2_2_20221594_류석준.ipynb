{
  "nbformat": 4,
  "nbformat_minor": 0,
  "metadata": {
    "colab": {
      "provenance": [],
      "collapsed_sections": []
    },
    "kernelspec": {
      "name": "python3",
      "display_name": "Python 3"
    },
    "language_info": {
      "name": "python"
    },
    "gpuClass": "standard"
  },
  "cells": [
    {
      "cell_type": "code",
      "execution_count": null,
      "metadata": {
        "colab": {
          "base_uri": "https://localhost:8080/"
        },
        "id": "kVZ44QEnDusl",
        "outputId": "e539b573-1c31-421d-adc9-94f1d9b6ca89"
      },
      "outputs": [
        {
          "output_type": "stream",
          "name": "stdout",
          "text": [
            "Overwriting oper.c\n"
          ]
        }
      ],
      "source": [
        "%%writefile oper.c\n",
        "\n",
        "#include <stdio.h>\n",
        "\n",
        "int main(void)\n",
        "{\n",
        "    int x;\n",
        "    int y;\n",
        "    int calc;\n",
        "\n",
        "    printf(\"첫 번째 숫자를 입력하시오:\");\n",
        "    scanf(\"%d\",&x);\n",
        "\n",
        "    printf(\"두 번째 숫자를 입력하시오:\");\n",
        "    scanf(\"%d\",&y);\n",
        "\n",
        "    calc = x + y;\n",
        "    printf(\"두수의 합 = %d \\n\", calc);\n",
        "    calc = x - y;\n",
        "    printf(\"두수의 차 = %d \\n\", calc);\n",
        "    calc = x * y;\n",
        "    printf(\"두수의 곱 = %d \\n\", calc);\n",
        "    calc = x / y;\n",
        "    printf(\"두수의 몫 = %d \\n\", calc);\n",
        "\n",
        "    return 0;\n",
        "}"
      ]
    },
    {
      "cell_type": "code",
      "source": [
        "%%shell\n",
        "gcc oper.c -o outoper\n",
        "./outoper"
      ],
      "metadata": {
        "colab": {
          "base_uri": "https://localhost:8080/"
        },
        "id": "0CV8ZzqqAmfu",
        "outputId": "7418fada-8379-4eb5-d3af-0ec331e0b27c"
      },
      "execution_count": null,
      "outputs": [
        {
          "output_type": "stream",
          "name": "stdout",
          "text": [
            "첫 번째 숫자를 입력하시오:100\n",
            "두 번째 숫자를 입력하시오:200\n",
            "두수의 합 = 300 \n",
            "두수의 차 = -100 \n",
            "두수의 곱 = 20000 \n",
            "두수의 몫 = 0 \n"
          ]
        },
        {
          "output_type": "execute_result",
          "data": {
            "text/plain": []
          },
          "metadata": {},
          "execution_count": 10
        }
      ]
    },
    {
      "cell_type": "code",
      "source": [
        "%%writefile avg.c\n",
        "\n",
        "#include <stdio.h>\n",
        "\n",
        "int main(void) \n",
        "{ \n",
        "    int p1; \n",
        "    int p2; \n",
        "    int ave;\n",
        "    \n",
        "    printf(\"첫 번째 상품의 가격을 입력하시오:\");\n",
        "    scanf(\"%d\",&p1);\n",
        "    \n",
        "    printf(\"두 번째 상품의 가격을 입력하시오:\");\n",
        "    scanf(\"%d\",&p2);\n",
        "    \n",
        "    ave = (p1+p2) / 2.0;\n",
        "    printf(\"상품의 평균 가격 = %d \\n\", ave);\n",
        "    \n",
        "    return 0;\n",
        "}"
      ],
      "metadata": {
        "colab": {
          "base_uri": "https://localhost:8080/"
        },
        "id": "PBAIaoDhF0a7",
        "outputId": "40024491-4f2c-4f96-908d-1d9703eec44c"
      },
      "execution_count": null,
      "outputs": [
        {
          "output_type": "stream",
          "name": "stdout",
          "text": [
            "Overwriting avg.c\n"
          ]
        }
      ]
    },
    {
      "cell_type": "code",
      "source": [
        "%%shell\n",
        "gcc avg.c -o outavg\n",
        "./outavg"
      ],
      "metadata": {
        "colab": {
          "base_uri": "https://localhost:8080/"
        },
        "id": "rvtcj6gUDX-X",
        "outputId": "4442f815-e879-40a7-e19b-308faf39c4c8"
      },
      "execution_count": null,
      "outputs": [
        {
          "output_type": "stream",
          "name": "stdout",
          "text": [
            "첫 번째 상품의 가격을 입력하시오:2450\n",
            "두 번째 상품의 가격을 입력하시오:4500\n",
            "상품의 평균 가격 = 3475 \n"
          ]
        },
        {
          "output_type": "execute_result",
          "data": {
            "text/plain": []
          },
          "metadata": {},
          "execution_count": 36
        }
      ]
    },
    {
      "cell_type": "code",
      "source": [
        "%%writefile trav.c\n",
        "\n",
        "#include <stdio.h>\n",
        "\n",
        "int main(void)\n",
        "{\n",
        "    int sum;\n",
        "    int price;\n",
        "    int nights;\n",
        "\n",
        "    sum = 0;\n",
        "    printf(\"여행은 몇박인가요?:\");\n",
        "    scanf(\"%d\",&nights);\n",
        "\n",
        "    printf(\"항공권 가격:\");\n",
        "    scanf(\"%d\",&price);\n",
        "    sum = sum + price;\n",
        "\n",
        "    printf(\"호텔 1박 가격:\");\n",
        "    scanf(\"%d\",&price);\n",
        "    sum = sum + nights*price;\n",
        "\n",
        "    printf(\"하루에 필요한 용돈:\");\n",
        "    scanf(\"%d\",&price);\n",
        "    sum = sum + nights*price;\n",
        "\n",
        "    printf(\"=============================== \\n\");\n",
        "    printf(\"총 여행 비용: %d \\n\", sum);\n",
        "    printf(\"=============================== \\n\");\n",
        "\n",
        "    return 0;\n",
        "}"
      ],
      "metadata": {
        "colab": {
          "base_uri": "https://localhost:8080/"
        },
        "id": "wz10igwHEbpV",
        "outputId": "93602c26-07a4-4140-e4f9-1b582d3e0de1"
      },
      "execution_count": null,
      "outputs": [
        {
          "output_type": "stream",
          "name": "stdout",
          "text": [
            "Overwriting trav.c\n"
          ]
        }
      ]
    },
    {
      "cell_type": "code",
      "source": [
        "%%shell\n",
        "gcc trav.c -o outtrav\n",
        "./outtrav"
      ],
      "metadata": {
        "colab": {
          "base_uri": "https://localhost:8080/"
        },
        "id": "WuJW9MhpKVcY",
        "outputId": "129f394f-07b2-4edb-a8a0-f074d97f1206"
      },
      "execution_count": null,
      "outputs": [
        {
          "output_type": "stream",
          "name": "stdout",
          "text": [
            "여행은 몇박인가요?:3\n",
            "항공권 가격:1000000\n",
            "호텔 1박 가격:200000\n",
            "하루에 필요한 용돈:50000\n",
            "=============================== \n",
            "총 여행 비용: 1750000 \n",
            "=============================== \n"
          ]
        },
        {
          "output_type": "execute_result",
          "data": {
            "text/plain": []
          },
          "metadata": {},
          "execution_count": 50
        }
      ]
    }
  ]
}
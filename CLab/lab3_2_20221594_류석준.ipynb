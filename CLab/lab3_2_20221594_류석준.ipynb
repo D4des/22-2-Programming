{
  "nbformat": 4,
  "nbformat_minor": 0,
  "metadata": {
    "colab": {
      "provenance": []
    },
    "kernelspec": {
      "name": "python3",
      "display_name": "Python 3"
    },
    "language_info": {
      "name": "python"
    }
  },
  "cells": [
    {
      "cell_type": "code",
      "execution_count": null,
      "metadata": {
        "colab": {
          "base_uri": "https://localhost:8080/"
        },
        "id": "-YIoARJBSJSX",
        "outputId": "2720a68e-5dd9-4407-a74d-8bf188adcadd"
      },
      "outputs": [
        {
          "output_type": "stream",
          "name": "stdout",
          "text": [
            "Writing lab3_1.c\n"
          ]
        }
      ],
      "source": [
        "%%writefile lab3_1.c\n",
        "\n",
        "#define _CRT_SECURE_NO_WARNINGS\n",
        "#include <stdio.h>\n",
        "#define EXCHANGE_RATE   1120 //기호 상수 정의\n",
        "\n",
        "int main(void)\n",
        "{\n",
        "    int usd;    //달러화\n",
        "    int krw;    //원화\n",
        "\n",
        "    printf(\"달러화 금액을 입력하시오: \");\n",
        "    scanf(\"%d\", &usd);\n",
        "\n",
        "    krw = EXCHANGE_RATE*usd;\n",
        "    printf(\"달러화 %d달러는 %d원입니다.\\n\",usd ,krw);\n",
        "\n",
        "    return 0;\n",
        "}"
      ]
    },
    {
      "cell_type": "code",
      "source": [
        "%%shell\n",
        "\n",
        "gcc lab3_1.c -o output\n",
        "./output"
      ],
      "metadata": {
        "colab": {
          "base_uri": "https://localhost:8080/"
        },
        "id": "Orp-IJvJSyst",
        "outputId": "7da86684-c854-4646-961e-d165c707064e"
      },
      "execution_count": null,
      "outputs": [
        {
          "output_type": "stream",
          "name": "stdout",
          "text": [
            "달러화 금액을 입력하시오: 1000\n",
            "달러화 1000달러는 1120000원입니다.\n"
          ]
        },
        {
          "output_type": "execute_result",
          "data": {
            "text/plain": []
          },
          "metadata": {},
          "execution_count": 16
        }
      ]
    },
    {
      "cell_type": "code",
      "source": [
        "%%writefile lab3_2.c\n",
        "\n",
        "#define _CRT_SECURE_NO_WARNINGS\n",
        "#include <stdio.h>\n",
        "\n",
        "int main(void)\n",
        "{\n",
        "    int property;\n",
        "    int saving;\n",
        "\n",
        "    printf(\"매달 저축 금액을 입력하시오: \");\n",
        "    scanf(\"%d\", &saving);\n",
        "\n",
        "    property = saving*12*30;\n",
        "    printf(\"30년 후의 재산 = %d원 \\n\", property);\n",
        "    \n",
        "    return 0;\n",
        "}"
      ],
      "metadata": {
        "colab": {
          "base_uri": "https://localhost:8080/"
        },
        "id": "VZpW7pRcTXP4",
        "outputId": "7db69fbd-e070-4aa6-f3cb-d99a778da25d"
      },
      "execution_count": null,
      "outputs": [
        {
          "output_type": "stream",
          "name": "stdout",
          "text": [
            "Writing lab3_2.c\n"
          ]
        }
      ]
    },
    {
      "cell_type": "code",
      "source": [
        "%%shell\n",
        "\n",
        "gcc lab3_2.c -o output\n",
        "./output"
      ],
      "metadata": {
        "colab": {
          "base_uri": "https://localhost:8080/"
        },
        "id": "Moakw5wXT7wc",
        "outputId": "1e925495-9cbb-4af0-d09c-a25458256539"
      },
      "execution_count": null,
      "outputs": [
        {
          "output_type": "stream",
          "name": "stdout",
          "text": [
            "매달 저축 금액을 입력하시오: 5000000\n",
            "30년 후의 재산 = 1800000000원 \n"
          ]
        },
        {
          "output_type": "execute_result",
          "data": {
            "text/plain": []
          },
          "metadata": {},
          "execution_count": 18
        }
      ]
    },
    {
      "cell_type": "code",
      "source": [
        "%%writefile lab3_2_long.c\n",
        "\n",
        "#define _CRT_SECURE_NO_WARNINGS\n",
        "#include <stdio.h>\n",
        "int main(void)\n",
        "{\n",
        "    long long int property;\n",
        "    long long int saving;\n",
        "\n",
        "    printf(\"매달 저축 금액을 입력하시오:\");\n",
        "    scanf(\"%lld\", &saving);\n",
        "    \n",
        "    property = saving*12*30;\n",
        "    printf(\"30년 후의 재산 = %lld원 \\n\", property);\n",
        "\n",
        "    return 0;\n",
        "}"
      ],
      "metadata": {
        "colab": {
          "base_uri": "https://localhost:8080/"
        },
        "id": "S8Y1_PXmUcsK",
        "outputId": "84e3401f-00a7-4ca7-c90f-ca7e36daada7"
      },
      "execution_count": null,
      "outputs": [
        {
          "output_type": "stream",
          "name": "stdout",
          "text": [
            "Writing lab3_2_long.c\n"
          ]
        }
      ]
    },
    {
      "cell_type": "code",
      "source": [
        "%%shell\n",
        "\n",
        "gcc lab3_2_long.c -o output\n",
        "./output"
      ],
      "metadata": {
        "colab": {
          "base_uri": "https://localhost:8080/"
        },
        "id": "rFfEbZLKWVZE",
        "outputId": "79e28a51-edf6-4cbd-8c62-1d59865db599"
      },
      "execution_count": null,
      "outputs": [
        {
          "output_type": "stream",
          "name": "stdout",
          "text": [
            "매달 저축 금액을 입력하시오:10000000\n",
            "30년 후의 재산 = 3600000000원 \n"
          ]
        },
        {
          "output_type": "execute_result",
          "data": {
            "text/plain": []
          },
          "metadata": {},
          "execution_count": 20
        }
      ]
    },
    {
      "cell_type": "code",
      "source": [
        "%%writefile lab3_3.c\n",
        "\n",
        "int a = 100;\n",
        "int b = 200;\n",
        "int tmp;\n",
        "\n",
        "tmp = a;\n",
        "a = b;\n",
        "b = tmp;"
      ],
      "metadata": {
        "colab": {
          "base_uri": "https://localhost:8080/"
        },
        "id": "wuxeinSRWe-D",
        "outputId": "c4a89dab-3831-4cb8-96b7-201e4e877018"
      },
      "execution_count": null,
      "outputs": [
        {
          "output_type": "stream",
          "name": "stdout",
          "text": [
            "Overwriting lab3_3.c\n"
          ]
        }
      ]
    },
    {
      "cell_type": "code",
      "source": [
        "%%writefile lab3_4.c\n",
        "\n",
        "//첫 번째 LED를 빛나게 하려면 다음과 같은 비트를 출력포트에 써야한다.\n",
        "1 0 0 0 0 0 0 0\n",
        "{ 0x8 } { 0x0 }\n",
        "16진수로 바꾸면 1000은 '8'이 되고 0000은 '0'이 되므로 위 비트 패턴은 16진수 0x80이다."
      ],
      "metadata": {
        "colab": {
          "base_uri": "https://localhost:8080/"
        },
        "id": "__CP1NUoXbvb",
        "outputId": "200136d6-6f22-45fc-b61f-d9c0b0b41669"
      },
      "execution_count": null,
      "outputs": [
        {
          "output_type": "stream",
          "name": "stdout",
          "text": [
            "Writing lab3_4.c\n"
          ]
        }
      ]
    },
    {
      "cell_type": "code",
      "source": [
        "%%writefile lab3_5.c\n",
        "\n",
        "#include <stdio.h>\n",
        "\n",
        "int main(void)\n",
        "{\n",
        "    double light_speed = 300000;    // 빛의 속도 저장하는 변수\n",
        "    double distance = 149600000;    // 태양과 지구 사이 거리 저장하는 변수\n",
        "                                    // 149600000km로 초기화한다.\n",
        "    double time;                    // 시간을 나타내는 변수\n",
        "\n",
        "    time = distance / light_speed; // 거리를 빛의 속도로 나눈다.\n",
        "    time = time / 60.0;            // 초를 분으로 변환한다.\n",
        "\n",
        "    printf(\"빛의 속도는 %lfkm/s \\n\", light_speed);\n",
        "    printf(\"태양과 지구와의 거리 %lfkm/s \\n\", distance);\n",
        "    printf(\"도달 시간은 %lf분 \\n\", time); // 시간을 출력한다.\n",
        "\n",
        "    return 0;\n",
        "}"
      ],
      "metadata": {
        "colab": {
          "base_uri": "https://localhost:8080/"
        },
        "id": "5NhHfBBmbWO2",
        "outputId": "d120a073-beb3-4407-aaa1-1c6bc9c5832b"
      },
      "execution_count": null,
      "outputs": [
        {
          "output_type": "stream",
          "name": "stdout",
          "text": [
            "Overwriting lab3_5.c\n"
          ]
        }
      ]
    },
    {
      "cell_type": "code",
      "source": [
        "%%shell\n",
        "\n",
        "gcc lab3_5.c -o output\n",
        "./output"
      ],
      "metadata": {
        "colab": {
          "base_uri": "https://localhost:8080/"
        },
        "id": "CMxYPTtnb_vt",
        "outputId": "41c14277-4f55-47fc-f954-580185c41296"
      },
      "execution_count": null,
      "outputs": [
        {
          "output_type": "stream",
          "name": "stdout",
          "text": [
            "빛의 속도는 300000.000000km/s \n",
            "태양과 지구와의 거리 149600000.000000km/s \n",
            "도달 시간은 8.311111분 \n"
          ]
        },
        {
          "output_type": "execute_result",
          "data": {
            "text/plain": []
          },
          "metadata": {},
          "execution_count": 34
        }
      ]
    },
    {
      "cell_type": "code",
      "source": [
        "%%writefile lab3_6.c\n",
        "\n",
        "#define _CRT_SECURE_NO_WARNINGS\n",
        "#include <stdio.h>\n",
        "\n",
        "int main(void)\n",
        "{\n",
        "    double celsius, fahrenheit; // 변수 선언\n",
        "\n",
        "    printf(\"화씨온도=\");\n",
        "    scanf(\"%lf\", &fahrenheit);\n",
        "\n",
        "    celsius = (fahrenheit - 32.0)*5.0/9.0;\n",
        "    printf(\"섭씨온도=%lf \\n\", celsius);\n",
        "\n",
        "    return 0;\n",
        "}"
      ],
      "metadata": {
        "colab": {
          "base_uri": "https://localhost:8080/"
        },
        "id": "yER04rishYMI",
        "outputId": "8bd3f6b0-caf7-44ee-b148-996268e49c92"
      },
      "execution_count": null,
      "outputs": [
        {
          "output_type": "stream",
          "name": "stdout",
          "text": [
            "Writing lab3_6.c\n"
          ]
        }
      ]
    },
    {
      "cell_type": "code",
      "source": [
        "%%shell\n",
        "\n",
        "gcc lab3_6.c -o output\n",
        "./output"
      ],
      "metadata": {
        "colab": {
          "base_uri": "https://localhost:8080/"
        },
        "id": "EKIcBLcAiNx_",
        "outputId": "d12071b2-25f1-418b-c6ef-34cfeb7fb4e1"
      },
      "execution_count": null,
      "outputs": [
        {
          "output_type": "stream",
          "name": "stdout",
          "text": [
            "화씨온도=100\n",
            "섭씨온도=37.777778 \n"
          ]
        },
        {
          "output_type": "execute_result",
          "data": {
            "text/plain": []
          },
          "metadata": {},
          "execution_count": 38
        }
      ]
    },
    {
      "cell_type": "code",
      "source": [
        "%%writefile lab3_7.c\n",
        "\n",
        "#define _CRT_SECURE_NO_WARNINGS\n",
        "#include <stdio.h>\n",
        "#define PI          3.141592\n",
        "\n",
        "int main(void)\n",
        "{\n",
        "    double radius;\n",
        "    double area;\n",
        "\n",
        "    printf(\"원의 반지름을 입력하시오:\");\n",
        "    scanf(\"%lf\", &radius);\n",
        "\n",
        "    area = PI*radius*radius;\n",
        "    printf(\"원의 면적:%f \\n\", area);\n",
        "\n",
        "    return 0;\n",
        "}"
      ],
      "metadata": {
        "colab": {
          "base_uri": "https://localhost:8080/"
        },
        "id": "niQoXp9LiQ6m",
        "outputId": "30283f4d-b4b8-4015-f83c-cb4d2723679c"
      },
      "execution_count": null,
      "outputs": [
        {
          "output_type": "stream",
          "name": "stdout",
          "text": [
            "Overwriting lab3_7.c\n"
          ]
        }
      ]
    },
    {
      "cell_type": "code",
      "source": [
        "%%shell\n",
        "\n",
        "gcc lab3_7.c -o output\n",
        "./output"
      ],
      "metadata": {
        "colab": {
          "base_uri": "https://localhost:8080/"
        },
        "id": "SvlDNOoUjEtX",
        "outputId": "1021475b-e8ea-4016-84cf-5a998eae2ba2"
      },
      "execution_count": null,
      "outputs": [
        {
          "output_type": "stream",
          "name": "stdout",
          "text": [
            "원의 반지름을 입력하시오:10.0\n",
            "원의 면적:314.159200 \n"
          ]
        },
        {
          "output_type": "execute_result",
          "data": {
            "text/plain": []
          },
          "metadata": {},
          "execution_count": 40
        }
      ]
    },
    {
      "cell_type": "code",
      "source": [
        "%%writefile lab3_8.c\n",
        "\n",
        "#define _CRT_SECURE_NO_WARNINGS\n",
        "#include <stdio.h>\n",
        "\n",
        "int main(void)\n",
        "{\n",
        "    short age;\n",
        "    int id;\n",
        "    int annual_output;\n",
        "    double stars;\n",
        "    char alphabet;\n",
        "\n",
        "    printf(\"나이를 입력하시오:\");\n",
        "    scanf(\"%hi\", &age);\n",
        "    printf(\"나이: %d \\n\", age);\n",
        "\n",
        "    printf(\"직원아이디를 입력하시오:\");\n",
        "    scanf(\"%d\", &id);\n",
        "    printf(\"아이디: %d \\n\", id);\n",
        "\n",
        "    printf(\"생산량을 입력하시오:\");\n",
        "    scanf(\"%d\", &annual_output);\n",
        "    printf(\"생산량: %d \\n\", annual_output);\n",
        "\n",
        "    printf(\"별의 개수를 입력하시오:\");\n",
        "    scanf(\"%lf\", &stars);\n",
        "    printf(\"별의 개수: %e \\n\", stars);\n",
        "\n",
        "    getchar();\n",
        "\n",
        "    printf(\"글자를 입력하시오:\");\n",
        "    scanf(\"%c\", &alphabet);\n",
        "    printf(\"글자: %c\", alphabet);\n",
        "    \n",
        "    return 0;\n",
        "}"
      ],
      "metadata": {
        "colab": {
          "base_uri": "https://localhost:8080/"
        },
        "id": "zTqXxIPVjLwy",
        "outputId": "37e6be55-2cb2-4b1b-f129-782e33765d11"
      },
      "execution_count": null,
      "outputs": [
        {
          "output_type": "stream",
          "name": "stdout",
          "text": [
            "Overwriting lab3_8.c\n"
          ]
        }
      ]
    },
    {
      "cell_type": "code",
      "source": [
        "%%shell\n",
        "\n",
        "gcc lab3_8.c -o output\n",
        "./output"
      ],
      "metadata": {
        "colab": {
          "base_uri": "https://localhost:8080/"
        },
        "id": "bs2tzX_vkN3j",
        "outputId": "471990d7-4750-4b21-840b-a129810c6d27"
      },
      "execution_count": null,
      "outputs": [
        {
          "output_type": "stream",
          "name": "stdout",
          "text": [
            "나이를 입력하시오:20\n",
            "나이: 20 \n",
            "직원아이디를 입력하시오:123\n",
            "아이디: 123 \n",
            "생산량을 입력하시오:1000000\n",
            "생산량: 1000000 \n",
            "별의 개수를 입력하시오:7e22\n",
            "별의 개수: 7.000000e+22 \n",
            "글자를 입력하시오:a\n",
            "글자: a"
          ]
        },
        {
          "output_type": "execute_result",
          "data": {
            "text/plain": []
          },
          "metadata": {},
          "execution_count": 82
        }
      ]
    },
    {
      "cell_type": "code",
      "source": [],
      "metadata": {
        "id": "8pDt8AJ6kPs2"
      },
      "execution_count": null,
      "outputs": []
    }
  ]
}
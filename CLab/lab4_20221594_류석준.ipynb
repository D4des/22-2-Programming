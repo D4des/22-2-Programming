{
  "nbformat": 4,
  "nbformat_minor": 0,
  "metadata": {
    "colab": {
      "provenance": [],
      "collapsed_sections": []
    },
    "kernelspec": {
      "name": "python3",
      "display_name": "Python 3"
    },
    "language_info": {
      "name": "python"
    }
  },
  "cells": [
    {
      "cell_type": "code",
      "execution_count": null,
      "metadata": {
        "colab": {
          "base_uri": "https://localhost:8080/"
        },
        "id": "Z0QCb0mzHXZt",
        "outputId": "2244bb8a-a70a-4860-c210-401a3d2ccf3c"
      },
      "outputs": [
        {
          "output_type": "stream",
          "name": "stdout",
          "text": [
            "Overwriting arithmetic1.c\n"
          ]
        }
      ],
      "source": [
        "%%writefile arithmetic1.c\n",
        "\n",
        "#include <stdio.h>\n",
        "\n",
        "int main() \n",
        "{\n",
        "  int x, y, result;\n",
        "  printf(\"두개의 정수를 입력하시오: \");\n",
        "  scanf(\"%d %d\", &x, &y);\n",
        "\n",
        "  result = x+y;\n",
        "  printf(\"%d + %d = %d \\n\", x, y, result);\n",
        "\n",
        "  result = x-y;\n",
        "  printf(\"%d - %d = %d \\n\", x, y, result);\n",
        "  result = x*y;\n",
        "  printf(\"%d * %d = %d \\n\", x, y, result);\n",
        "  result = x/y;\n",
        "  printf(\"%d / %d = %d \\n\", x, y, result);\n",
        "  result = x%y;\n",
        "  printf(\"%d %% %d = %d \\n\", x, y, result);\n",
        "  \n",
        "  return 0;\n",
        "}"
      ]
    },
    {
      "cell_type": "code",
      "source": [
        "%%shell\n",
        "gcc arithmetic1.c -o output\n",
        "./output"
      ],
      "metadata": {
        "id": "hI_sRH0TH7Ym",
        "colab": {
          "base_uri": "https://localhost:8080/"
        },
        "outputId": "c6b38624-3b05-41e8-b4fd-31d29cc9283b"
      },
      "execution_count": null,
      "outputs": [
        {
          "output_type": "stream",
          "name": "stdout",
          "text": [
            "두개의 정수를 입력하시오: 7\n",
            "4\n",
            "7 + 4 = 11 \n",
            "7 - 4 = 3 \n",
            "7 * 4 = 28 \n",
            "7 / 4 = 1 \n",
            "7 % 4 = 3 \n"
          ]
        },
        {
          "output_type": "execute_result",
          "data": {
            "text/plain": []
          },
          "metadata": {},
          "execution_count": 24
        }
      ]
    },
    {
      "cell_type": "code",
      "source": [
        "%%writefile arithmetic2.c\n",
        "\n",
        "#include <stdio.h>\n",
        "\n",
        "int main() \n",
        "{\n",
        "  double x, y, result;\n",
        "  printf(\"두개의 실수를 입력하시오: \");\n",
        "  scanf(\"%lf %lf\", &x, &y);\n",
        "\n",
        "  result = x+y;\n",
        "  printf(\"%lf + %lf = %lf \\n\", x, y, result);\n",
        "\n",
        "  result = x-y;\n",
        "  printf(\"%lf - %lf = %lf \\n\", x, y, result);\n",
        "  result = x*y;\n",
        "  printf(\"%lf * %lf = %lf \\n\", x, y, result);\n",
        "  result = x/y;\n",
        "  printf(\"%lf / %lf = %lf \\n\", x, y, result);\n",
        "\n",
        "  return 0;\n",
        "}"
      ],
      "metadata": {
        "id": "oSEjxvFeNhur",
        "colab": {
          "base_uri": "https://localhost:8080/"
        },
        "outputId": "50db4944-9755-43ac-d105-163f4dd852c6"
      },
      "execution_count": null,
      "outputs": [
        {
          "output_type": "stream",
          "name": "stdout",
          "text": [
            "Overwriting arithmetic2.c\n"
          ]
        }
      ]
    },
    {
      "cell_type": "code",
      "source": [
        "%%shell\n",
        "gcc arithmetic2.c -o output\n",
        "./output"
      ],
      "metadata": {
        "colab": {
          "base_uri": "https://localhost:8080/"
        },
        "id": "p4tTWXpuSVik",
        "outputId": "ff056388-96c1-43b2-b915-7280b0affe1e"
      },
      "execution_count": null,
      "outputs": [
        {
          "output_type": "stream",
          "name": "stdout",
          "text": [
            "두개의 실수를 입력하시오: 7.0\n",
            "4.0\n",
            "7.000000 + 4.000000 = 11.000000 \n",
            "7.000000 - 4.000000 = 3.000000 \n",
            "7.000000 * 4.000000 = 28.000000 \n",
            "7.000000 / 4.000000 = 1.750000 \n"
          ]
        },
        {
          "output_type": "execute_result",
          "data": {
            "text/plain": []
          },
          "metadata": {},
          "execution_count": 14
        }
      ]
    },
    {
      "cell_type": "code",
      "source": [
        "%%writefile modulo.c\n",
        "\n",
        "#include <stdio.h>\n",
        "#define SEC_PER_MINUTE  60\n",
        "\n",
        "int main() \n",
        "{\n",
        "  int input, minute, second;\n",
        "\n",
        "  printf(\"초단위의 시간을 입력하시오:(32억초이하)\");\n",
        "  scanf(\"%d\", &input);\n",
        "\n",
        "  minute = input/ SEC_PER_MINUTE;\n",
        "  second = input% SEC_PER_MINUTE;\n",
        "\n",
        "  printf(\"%d초는 %d분 %d초입니다. \\n\", input, minute, second);\n",
        "\n",
        "  return 0;\n",
        "}"
      ],
      "metadata": {
        "colab": {
          "base_uri": "https://localhost:8080/"
        },
        "id": "Ifce5TWGS0hQ",
        "outputId": "4f3e6f18-27a7-45c2-8766-07fb22f11191"
      },
      "execution_count": null,
      "outputs": [
        {
          "output_type": "stream",
          "name": "stdout",
          "text": [
            "Writing modulo.c\n"
          ]
        }
      ]
    },
    {
      "cell_type": "code",
      "source": [
        "%%shell\n",
        "gcc modulo.c -o output\n",
        "./output"
      ],
      "metadata": {
        "colab": {
          "base_uri": "https://localhost:8080/"
        },
        "id": "CxBywvsUTAFa",
        "outputId": "7027d509-4faf-4ab1-deb9-5c584a513081"
      },
      "execution_count": null,
      "outputs": [
        {
          "output_type": "stream",
          "name": "stdout",
          "text": [
            "초단위의 시간을 입력하시오:(32억초이하)1000\n",
            "1000초는 16분 40초입니다. \n"
          ]
        },
        {
          "output_type": "execute_result",
          "data": {
            "text/plain": []
          },
          "metadata": {},
          "execution_count": 16
        }
      ]
    },
    {
      "cell_type": "code",
      "source": [
        "%%writefile plus.c\n",
        "\n",
        "#include <stdio.h>\n",
        "\n",
        "int main() \n",
        "{\n",
        "  int x, y;\n",
        "  x =1;\n",
        "  y = ++x;\n",
        "  printf(\"x=%d y=%d \\n\", x, y);\n",
        "\n",
        "  y = x++;\n",
        "  printf(\"x=%d y=%d \\n\", x, y);\n",
        "\n",
        "  return 0;\n",
        "}"
      ],
      "metadata": {
        "colab": {
          "base_uri": "https://localhost:8080/"
        },
        "id": "H_X2hJ2reivL",
        "outputId": "63b9534e-daf9-45c0-ff32-e22e8c5ef173"
      },
      "execution_count": null,
      "outputs": [
        {
          "output_type": "stream",
          "name": "stdout",
          "text": [
            "Overwriting plus.c\n"
          ]
        }
      ]
    },
    {
      "cell_type": "code",
      "source": [
        "%%shell\n",
        "gcc plus.c -o output\n",
        "./output"
      ],
      "metadata": {
        "colab": {
          "base_uri": "https://localhost:8080/"
        },
        "id": "sR9HODgyfO5k",
        "outputId": "1e62676a-975b-4925-9bbd-2464b4f85e45"
      },
      "execution_count": null,
      "outputs": [
        {
          "output_type": "stream",
          "name": "stdout",
          "text": [
            "x=2 y=2 \n",
            "x=3 y=2 \n"
          ]
        },
        {
          "output_type": "execute_result",
          "data": {
            "text/plain": []
          },
          "metadata": {},
          "execution_count": 22
        }
      ]
    },
    {
      "cell_type": "code",
      "source": [
        "%%writefile plus2.c\n",
        "#include <stdio.h>\n",
        "\n",
        "int main()\n",
        "{\n",
        "  int x=10, y=10;\n",
        "  printf(\"x= %d y=%d \\n\", x,y);\n",
        "\n",
        "  x+=1; //x = x+1\n",
        "  printf(\"(x+=1)이후 x= %d \\n\", x);\n",
        "\n",
        "  y += 2; //y = y+2\n",
        "  printf(\"(y += 2 )이후 y= %d \\n\", y);\n",
        "\n",
        "  return 0;\n",
        "}"
      ],
      "metadata": {
        "colab": {
          "base_uri": "https://localhost:8080/"
        },
        "id": "HeU2UHgUfTDb",
        "outputId": "a212736f-f9aa-4aa5-cec3-e736b3081509"
      },
      "execution_count": null,
      "outputs": [
        {
          "output_type": "stream",
          "name": "stdout",
          "text": [
            "Overwriting plus2.c\n"
          ]
        }
      ]
    },
    {
      "cell_type": "code",
      "source": [
        "%%shell\n",
        "\n",
        "gcc plus2.c -o output\n",
        "./output"
      ],
      "metadata": {
        "colab": {
          "base_uri": "https://localhost:8080/"
        },
        "id": "iYqTB-b-jsOy",
        "outputId": "59eec7d7-4643-43fa-ac24-5dd0aa5f8701"
      },
      "execution_count": null,
      "outputs": [
        {
          "output_type": "stream",
          "name": "stdout",
          "text": [
            "x= 10 y=10 \n",
            "(x+=1)이후 x= 11 \n",
            "(y += 2 )이후 y= 12 \n"
          ]
        },
        {
          "output_type": "execute_result",
          "data": {
            "text/plain": []
          },
          "metadata": {},
          "execution_count": 28
        }
      ]
    },
    {
      "cell_type": "code",
      "source": [
        "%%writefile rel.c\n",
        "#include <stdio.h>\n",
        "\n",
        "int main()\n",
        "{\n",
        "  int x, y;\n",
        "\n",
        "  printf(\"두개의 정수를 입력하시오:\");\n",
        "  scanf(\"%d %d\", &x, &y);\n",
        "\n",
        "  printf(\"x==y의 결과값: %d \\n\", x==y);\n",
        "  printf(\"x!=y의 결과값: %d \\n\", x!=y);\n",
        "  printf(\"x>y의 결과값: %d \\n\", x>y);\n",
        "  printf(\"x<y의 결과값: %d \\n\", x<y);\n",
        "  printf(\"x>=y의 결과값: %d \\n\", x>=y);\n",
        "  printf(\"x<=y의 결과값: %d \\n\", x<=y);\n",
        "\n",
        "  return 0;\n",
        "}"
      ],
      "metadata": {
        "colab": {
          "base_uri": "https://localhost:8080/"
        },
        "id": "KoGs3m8Yj2Pf",
        "outputId": "8f022aa5-bc25-44f3-8fe3-6fe7c99bd5c5"
      },
      "execution_count": null,
      "outputs": [
        {
          "output_type": "stream",
          "name": "stdout",
          "text": [
            "Overwriting rel.c\n"
          ]
        }
      ]
    },
    {
      "cell_type": "code",
      "source": [
        "%%shell\n",
        "\n",
        "gcc rel.c -o output\n",
        "./output"
      ],
      "metadata": {
        "colab": {
          "base_uri": "https://localhost:8080/"
        },
        "id": "35SCao_slmB6",
        "outputId": "cbe434f9-5505-4b48-9d63-e31f46ca2ab9"
      },
      "execution_count": null,
      "outputs": [
        {
          "output_type": "stream",
          "name": "stdout",
          "text": [
            "두개의 정수를 입력하시오:4\n",
            "0\n",
            "x==y의 결과값: 0 \n",
            "x!=y의 결과값: 1 \n",
            "x>y의 결과값: 1 \n",
            "x<y의 결과값: 0 \n",
            "x>=y의 결과값: 1 \n",
            "x<=y의 결과값: 0 \n"
          ]
        },
        {
          "output_type": "execute_result",
          "data": {
            "text/plain": []
          },
          "metadata": {},
          "execution_count": 33
        }
      ]
    },
    {
      "cell_type": "code",
      "source": [
        "%%writefile bit.c\n",
        "\n",
        "#include <stdio.h>\n",
        "\n",
        "int main()\n",
        "{\n",
        "  int x=9;\n",
        "  int y = 10;\n",
        "\n",
        "  printf(\"%08X & %08X = %08X \\n\", x, y, x & y);//8자리의 16진수로 표시하라\n",
        "  printf(\"%08X | %08X = %08X \\n\", x, y, x | y);//8자리의 16진수로 표시하라\n",
        "  printf(\"%08X ^ %08X = %08X \\n\", x, y, x ^ y);//8자리의 16진수로 표시하라\n",
        "  printf(\"~%08X = %08X \\n\", x, ~x);//8자리의 16진수로 표시하라\n",
        "\n",
        "  return 0;\n",
        "}"
      ],
      "metadata": {
        "colab": {
          "base_uri": "https://localhost:8080/"
        },
        "id": "nIlVWVQylyfu",
        "outputId": "b9412d40-c252-4578-eb14-bd4e880c81a7"
      },
      "execution_count": null,
      "outputs": [
        {
          "output_type": "stream",
          "name": "stdout",
          "text": [
            "Overwriting bit.c\n"
          ]
        }
      ]
    },
    {
      "cell_type": "code",
      "source": [
        "%%shell\n",
        "\n",
        "gcc bit.c -o output\n",
        "./output"
      ],
      "metadata": {
        "colab": {
          "base_uri": "https://localhost:8080/"
        },
        "id": "2Fw2DBvtnXh0",
        "outputId": "a50d4b02-33fc-4234-ee70-64cb161e5284"
      },
      "execution_count": null,
      "outputs": [
        {
          "output_type": "stream",
          "name": "stdout",
          "text": [
            "00000009 & 0000000A = 00000008 \n",
            "00000009 | 0000000A = 0000000B \n",
            "00000009 ^ 0000000A = 00000003 \n",
            "~00000009 = FFFFFFF6 \n"
          ]
        },
        {
          "output_type": "execute_result",
          "data": {
            "text/plain": []
          },
          "metadata": {},
          "execution_count": 36
        }
      ]
    },
    {
      "cell_type": "code",
      "source": [
        "%%writefile bit2.c\n",
        "\n",
        "#include <stdio.h>\n",
        "\n",
        "int main()\n",
        "{\n",
        "  int x=9; //1001\n",
        "\n",
        "  printf(\"%d <<2 = %d \\n\", x, x<<1);\n",
        "  printf(\"%d >>2 = %d \\n\", x, x>>1); \n",
        "\n",
        "  return 0;\n",
        "}"
      ],
      "metadata": {
        "colab": {
          "base_uri": "https://localhost:8080/"
        },
        "id": "HqdqdvHXpYUf",
        "outputId": "b85b716c-b59b-4400-faeb-1338ea75913b"
      },
      "execution_count": null,
      "outputs": [
        {
          "output_type": "stream",
          "name": "stdout",
          "text": [
            "Overwriting bit2.c\n"
          ]
        }
      ]
    },
    {
      "cell_type": "code",
      "source": [
        "%%shell\n",
        "\n",
        "gcc bit2.c -o output\n",
        "./output"
      ],
      "metadata": {
        "colab": {
          "base_uri": "https://localhost:8080/"
        },
        "id": "2COmRxcfskJl",
        "outputId": "68200c87-a4b4-4835-81c0-080129ddac92"
      },
      "execution_count": null,
      "outputs": [
        {
          "output_type": "stream",
          "name": "stdout",
          "text": [
            "9 <<2 = 18 \n",
            "9 >>2 = 4 \n"
          ]
        },
        {
          "output_type": "execute_result",
          "data": {
            "text/plain": []
          },
          "metadata": {},
          "execution_count": 44
        }
      ]
    },
    {
      "cell_type": "code",
      "source": [
        "%%writefile order.c\n",
        "\n",
        "#include <stdio.h>\n",
        "\n",
        "int main()\n",
        "{\n",
        "  int a = 10;\n",
        "  int b = 20;\n",
        "  int c = 30;\n",
        "  int d = 3;\n",
        "  int result;\n",
        "\n",
        "  result = a + b * c / d; //10 + 20*30/3 = 10+200\n",
        "  printf(\"연산값: %d \\n\", result);\n",
        "  result = (a+b)*c/ d; // 30 * 30 /3\n",
        "  printf(\"연산값: %d \\n\", result);\n",
        "  result = a = b= 1;\n",
        "  printf(\"연산값: %d \\n\", result);\n",
        "\n",
        "  return 0;\n",
        "}"
      ],
      "metadata": {
        "colab": {
          "base_uri": "https://localhost:8080/"
        },
        "id": "DQdUTMSKuuwd",
        "outputId": "07339c21-0080-4f32-c147-7b36af90a2fb"
      },
      "execution_count": null,
      "outputs": [
        {
          "output_type": "stream",
          "name": "stdout",
          "text": [
            "Overwriting order.c\n"
          ]
        }
      ]
    },
    {
      "cell_type": "code",
      "source": [
        "%%shell\n",
        "\n",
        "gcc order.c -o output\n",
        "./output"
      ],
      "metadata": {
        "colab": {
          "base_uri": "https://localhost:8080/"
        },
        "id": "Mdaw-qh-wHgT",
        "outputId": "d689cc35-f128-41ba-d7de-4c649b10e473"
      },
      "execution_count": null,
      "outputs": [
        {
          "output_type": "stream",
          "name": "stdout",
          "text": [
            "연산값: 210 \n",
            "연산값: 300 \n",
            "연산값: 1 \n"
          ]
        },
        {
          "output_type": "execute_result",
          "data": {
            "text/plain": []
          },
          "metadata": {},
          "execution_count": 54
        }
      ]
    },
    {
      "cell_type": "code",
      "source": [
        "%%writefile conv.c\n",
        "\n",
        "#include <stdio.h>\n",
        "\n",
        "int main()\n",
        "{\n",
        "  int i;\n",
        "  double f;\n",
        "  f = 5/4;\n",
        "  printf(\"(5/4)= %lf \\n\", f);\n",
        "  f = (double)5 /4;\n",
        "  printf(\"(double)5/4= %lf \\n\", f);\n",
        "\n",
        "  i = 1.3 +1.8;\n",
        "  printf(\"1.3+1.8 = %d \\n\", i);\n",
        "  i = (int)1.3 +(int)1.8;\n",
        "  printf(\"(int)1.3 +(int)1.8 = %d \\n\", i);\n",
        "\n",
        "  return 0;\n",
        "}"
      ],
      "metadata": {
        "id": "9Wxtd3YSx3ku",
        "colab": {
          "base_uri": "https://localhost:8080/"
        },
        "outputId": "2a8abb93-077e-44f7-d25a-c9fb90a92577"
      },
      "execution_count": null,
      "outputs": [
        {
          "output_type": "stream",
          "name": "stdout",
          "text": [
            "Writing conv.c\n"
          ]
        }
      ]
    },
    {
      "cell_type": "code",
      "source": [
        "%%shell\n",
        "\n",
        "gcc conv.c -o output\n",
        "./output"
      ],
      "metadata": {
        "colab": {
          "base_uri": "https://localhost:8080/"
        },
        "id": "tW0xoiGatNb0",
        "outputId": "904fe874-1cc5-4ed4-a3b4-d294d39f1c26"
      },
      "execution_count": null,
      "outputs": [
        {
          "output_type": "stream",
          "name": "stdout",
          "text": [
            "(5/4)= 1.000000 \n",
            "(double)5/4= 1.250000 \n",
            "1.3+1.8 = 3 \n",
            "(int)1.3 +(int)1.8 = 2 \n"
          ]
        },
        {
          "output_type": "execute_result",
          "data": {
            "text/plain": []
          },
          "metadata": {},
          "execution_count": 2
        }
      ]
    },
    {
      "cell_type": "code",
      "source": [],
      "metadata": {
        "id": "Aw6ZDjvgtRxc"
      },
      "execution_count": null,
      "outputs": []
    }
  ]
}
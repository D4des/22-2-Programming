{
  "nbformat": 4,
  "nbformat_minor": 0,
  "metadata": {
    "colab": {
      "provenance": []
    },
    "kernelspec": {
      "name": "python3",
      "display_name": "Python 3"
    },
    "language_info": {
      "name": "python"
    }
  },
  "cells": [
    {
      "cell_type": "code",
      "execution_count": null,
      "metadata": {
        "colab": {
          "base_uri": "https://localhost:8080/"
        },
        "id": "YpS2_ZHOuUQn",
        "outputId": "cdc5f0a5-c156-49d5-d1b3-868dab0a3692"
      },
      "outputs": [
        {
          "output_type": "stream",
          "name": "stdout",
          "text": [
            "Overwriting lab.c\n"
          ]
        }
      ],
      "source": [
        "%%writefile lab.c\n",
        "\n",
        "#include <stdio.h>\n",
        "\n",
        "int main(void)\n",
        "{\n",
        "  double x =2.0;\n",
        "  double y;\n",
        "\n",
        "  y = 3.0*x*x +7.0*x +9.0;\n",
        "  printf(\"y=3.0*x*x + 7.0*x + 9.0=%f \\n\", y);\n",
        "\n",
        "  return 0;\n",
        "}"
      ]
    },
    {
      "cell_type": "code",
      "source": [
        "%%shell\n",
        "\n",
        "gcc lab.c -o output\n",
        "./output"
      ],
      "metadata": {
        "colab": {
          "base_uri": "https://localhost:8080/"
        },
        "id": "AuCXCaTPvEQi",
        "outputId": "4aa7882b-6394-4626-a639-010bff4c0c70"
      },
      "execution_count": null,
      "outputs": [
        {
          "output_type": "stream",
          "name": "stdout",
          "text": [
            "y=3.0*x*x + 7.0*x + 9.0=35.000000 \n"
          ]
        },
        {
          "output_type": "execute_result",
          "data": {
            "text/plain": []
          },
          "metadata": {},
          "execution_count": 4
        }
      ]
    },
    {
      "cell_type": "code",
      "source": [
        "%%writefile mini_project.c\n",
        "\n",
        "#include <stdio.h>\n",
        "#include <math.h>\n",
        "\n",
        "int main(void)\n",
        "{\n",
        "  double initial_savings, interest_rate, savings_period, principal_n_interest;\n",
        "\n",
        "  printf(\"초기저금액: \");\n",
        "  scanf(\"%lf\", &initial_savings);\n",
        "  printf(\"이율: \");\n",
        "  scanf(\"%lf\", &interest_rate);\n",
        "  printf(\"저축기간: \");\n",
        "  scanf(\"%lf\", &savings_period);\n",
        "\n",
        "  principal_n_interest = initial_savings *pow(1.0 +interest_rate ,savings_period);\n",
        "  printf(\"382년 후의 원리금=%lf\", principal_n_interest);\n",
        "\n",
        "  return 0;\n",
        "}"
      ],
      "metadata": {
        "colab": {
          "base_uri": "https://localhost:8080/"
        },
        "id": "o-T-ORtFvJNw",
        "outputId": "325cdec5-b419-4081-a613-e5814d0b383b"
      },
      "execution_count": null,
      "outputs": [
        {
          "output_type": "stream",
          "name": "stdout",
          "text": [
            "Overwriting mini_project.c\n"
          ]
        }
      ]
    },
    {
      "cell_type": "code",
      "source": [
        "%%shell\n",
        "\n",
        "gcc mini_project.c -o output -lm\n",
        "./output"
      ],
      "metadata": {
        "colab": {
          "base_uri": "https://localhost:8080/"
        },
        "id": "e0-agQDjvg78",
        "outputId": "2e95dc2d-df5d-482b-a5a8-d91cf6d62499"
      },
      "execution_count": null,
      "outputs": [
        {
          "output_type": "stream",
          "name": "stdout",
          "text": [
            "초기저금액: 24.0\n",
            "이율: 0.06\n",
            "저축기간: 382\n",
            "382년 후의 원리금=111442737812.288422"
          ]
        },
        {
          "output_type": "execute_result",
          "data": {
            "text/plain": []
          },
          "metadata": {},
          "execution_count": 33
        }
      ]
    },
    {
      "cell_type": "code",
      "source": [],
      "metadata": {
        "id": "Ntcy30b7wNUz"
      },
      "execution_count": null,
      "outputs": []
    }
  ]
}
{
  "nbformat": 4,
  "nbformat_minor": 0,
  "metadata": {
    "colab": {
      "provenance": []
    },
    "kernelspec": {
      "name": "python3",
      "display_name": "Python 3"
    },
    "language_info": {
      "name": "python"
    }
  },
  "cells": [
    {
      "cell_type": "code",
      "execution_count": null,
      "metadata": {
        "colab": {
          "base_uri": "https://localhost:8080/"
        },
        "id": "BjxXnOI1Xv_A",
        "outputId": "fe5c5461-417e-43d3-9746-42eefe58d46c"
      },
      "outputs": [
        {
          "output_type": "stream",
          "name": "stdout",
          "text": [
            "Overwriting temp.c\n"
          ]
        }
      ],
      "source": [
        "%%writefile temp.c\n",
        "\n",
        "#include <stdio.h>\n",
        "\n",
        "int main(void)\n",
        "{\n",
        "  int temperature;\n",
        "  printf(\"온도를 입력하시오:\");\n",
        "  scanf(\"%d\", &temperature);\n",
        "\n",
        "  if (temperature >0)\n",
        "    printf(\"영상의 날씨입니다. \\n\");\n",
        "  else\n",
        "    printf(\"영하의 날씨입니다. \\n\");\n",
        "\n",
        "  printf(\"현재 온도는 %d도입니다. \\n\", temperature);\n",
        "  return 0;\n",
        "}"
      ]
    },
    {
      "cell_type": "code",
      "source": [
        "%%shell\n",
        "\n",
        "gcc temp.c -o output\n",
        "./output"
      ],
      "metadata": {
        "colab": {
          "base_uri": "https://localhost:8080/"
        },
        "id": "gBpImmV-j9S5",
        "outputId": "3c9acd9c-c2d0-4990-932d-b62e79e192fb"
      },
      "execution_count": null,
      "outputs": [
        {
          "output_type": "stream",
          "name": "stdout",
          "text": [
            "온도를 입력하시오:5\n",
            "영상의 날씨입니다. \n",
            "현재 온도는 5도입니다. \n"
          ]
        },
        {
          "output_type": "execute_result",
          "data": {
            "text/plain": []
          },
          "metadata": {},
          "execution_count": 5
        }
      ]
    },
    {
      "cell_type": "code",
      "source": [
        "%%writefile mod2.c\n",
        "\n",
        "#include <stdio.h>\n",
        "\n",
        "int main(void)\n",
        "{\n",
        "  int number;\n",
        "  printf(\"정수를 입력하시오:\");\n",
        "  scanf(\"%d\", &number);\n",
        "\n",
        "  if (number %2 == 0)\n",
        "    printf(\"짝수입니다. \\n\");\n",
        "  else\n",
        "    printf(\"홀수입니다. \\n\");\n",
        "\n",
        "  return 0;\n",
        "}"
      ],
      "metadata": {
        "colab": {
          "base_uri": "https://localhost:8080/"
        },
        "id": "vLRUnmyXkCWp",
        "outputId": "3a426327-61df-4485-84e7-72534d4ef01c"
      },
      "execution_count": null,
      "outputs": [
        {
          "output_type": "stream",
          "name": "stdout",
          "text": [
            "Overwriting mod2.c\n"
          ]
        }
      ]
    },
    {
      "cell_type": "code",
      "source": [
        "%%shell\n",
        "\n",
        "gcc mod2.c -o output\n",
        "./output"
      ],
      "metadata": {
        "colab": {
          "base_uri": "https://localhost:8080/"
        },
        "id": "a007YVWUkxv1",
        "outputId": "ea52df31-c1e5-4381-b382-85021b53f5dc"
      },
      "execution_count": null,
      "outputs": [
        {
          "output_type": "stream",
          "name": "stdout",
          "text": [
            "정수를 입력하시오:11\n",
            "홀수입니다. \n"
          ]
        },
        {
          "output_type": "execute_result",
          "data": {
            "text/plain": []
          },
          "metadata": {},
          "execution_count": 9
        }
      ]
    },
    {
      "cell_type": "code",
      "source": [
        "%%writefile block.c\n",
        "\n",
        "#include <stdio.h>\n",
        "\n",
        "int main(void)\n",
        "{\n",
        "  int score;\n",
        "\n",
        "  printf(\"성적을 입력하시오:\");\n",
        "  scanf(\"%d\", &score);\n",
        "  if (score >=60)\n",
        "  {\n",
        "    printf(\"합격입니다. \\n\");\n",
        "\n",
        "    printf(\"장학금도 받을 수 있습니다. \\n\");\n",
        "  }\n",
        "\n",
        "  else\n",
        "  {\n",
        "    printf(\"불합격입니다. \\n\");\n",
        "\n",
        "    printf(\"다시 도전하세요. \\n\");\n",
        "  }\n",
        "\n",
        "  return 0;\n",
        "}"
      ],
      "metadata": {
        "colab": {
          "base_uri": "https://localhost:8080/"
        },
        "id": "pg8ajtS0lAQQ",
        "outputId": "fc082a1d-18c8-4cd2-f29a-c0b4911603c4"
      },
      "execution_count": null,
      "outputs": [
        {
          "output_type": "stream",
          "name": "stdout",
          "text": [
            "Overwriting block.c\n"
          ]
        }
      ]
    },
    {
      "cell_type": "code",
      "source": [
        "%%shell\n",
        "\n",
        "gcc block.c -o output\n",
        "./output"
      ],
      "metadata": {
        "colab": {
          "base_uri": "https://localhost:8080/"
        },
        "id": "8DGHj6uylpbm",
        "outputId": "5dad28aa-b0eb-4f0f-dea1-9f32e8e6a011"
      },
      "execution_count": null,
      "outputs": [
        {
          "output_type": "stream",
          "name": "stdout",
          "text": [
            "성적을 입력하시오:99\n",
            "합격입니다. \n",
            "장학금도 받을 수 있습니다. \n"
          ]
        },
        {
          "output_type": "execute_result",
          "data": {
            "text/plain": []
          },
          "metadata": {},
          "execution_count": 21
        }
      ]
    },
    {
      "cell_type": "code",
      "source": [
        "%%writefile big.c\n",
        "\n",
        "#include <stdio.h>\n",
        "\n",
        "int main(void)\n",
        "{\n",
        "  int x,y;\n",
        "\n",
        "  printf(\"첫번째 수 = \");\n",
        "  scanf(\"%d\", &x);\n",
        "  printf(\"두번째 수 = \");\n",
        "  scanf(\"%d\", &y);\n",
        "\n",
        "  printf(\"큰수 = %d \\n\", (x>y)? x:y);\n",
        "  printf(\"작은수 = %d \\n\", (x<y)? x:y);\n",
        "  \n",
        "  return 0;\n",
        "}"
      ],
      "metadata": {
        "colab": {
          "base_uri": "https://localhost:8080/"
        },
        "id": "hNwFL8vNmCfY",
        "outputId": "cd5ec4ae-3bf9-426f-aebb-390458409e60"
      },
      "execution_count": null,
      "outputs": [
        {
          "output_type": "stream",
          "name": "stdout",
          "text": [
            "Writing big.c\n"
          ]
        }
      ]
    },
    {
      "cell_type": "code",
      "source": [
        "%%shell\n",
        "\n",
        "gcc big.c -o output\n",
        "./output"
      ],
      "metadata": {
        "colab": {
          "base_uri": "https://localhost:8080/"
        },
        "id": "4oay85DGng_O",
        "outputId": "70b36011-22d1-4bd4-8f8a-6a4b79206569"
      },
      "execution_count": null,
      "outputs": [
        {
          "output_type": "stream",
          "name": "stdout",
          "text": [
            "첫번째 수 = 1\n",
            "두번째 수 = 100\n",
            "큰수 = 100 \n",
            "작은수 = 1 \n"
          ]
        },
        {
          "output_type": "execute_result",
          "data": {
            "text/plain": []
          },
          "metadata": {},
          "execution_count": 24
        }
      ]
    },
    {
      "cell_type": "code",
      "source": [
        "%%writefile true.c\n",
        "\n",
        "#include <stdio.h>\n",
        "\n",
        "int main(void)\n",
        "{\n",
        "  int number;\n",
        "\n",
        "  printf(\"정수를 입력하시오:\");\n",
        "  scanf(\"%d\", &number);\n",
        "\n",
        "  if (number >=0 && number <=100)\n",
        "    printf(\"입력한 정수가 0에서 100사이에 있습니다. \\n\");\n",
        "\n",
        "  else\n",
        "    printf(\"입력한 정수가 0에서 100사이가 아닙니다. \\n\");\n",
        "  return 0;\n",
        "}"
      ],
      "metadata": {
        "colab": {
          "base_uri": "https://localhost:8080/"
        },
        "id": "7_4bGA-PnkcW",
        "outputId": "b97be084-59fd-4cc0-f964-1c84f23e9e2d"
      },
      "execution_count": null,
      "outputs": [
        {
          "output_type": "stream",
          "name": "stdout",
          "text": [
            "Writing true.c\n"
          ]
        }
      ]
    },
    {
      "cell_type": "code",
      "source": [
        "%%shell\n",
        "\n",
        "gcc true.c -o output\n",
        "./output"
      ],
      "metadata": {
        "colab": {
          "base_uri": "https://localhost:8080/"
        },
        "id": "oEcdx57spBm5",
        "outputId": "77ebe2a2-cd91-4a79-934a-2435e588e7eb"
      },
      "execution_count": null,
      "outputs": [
        {
          "output_type": "stream",
          "name": "stdout",
          "text": [
            "정수를 입력하시오:101\n",
            "입력한 정수가 0에서 100사이가 아닙니다. \n"
          ]
        },
        {
          "output_type": "execute_result",
          "data": {
            "text/plain": []
          },
          "metadata": {},
          "execution_count": 27
        }
      ]
    },
    {
      "cell_type": "code",
      "source": [
        "%%writefile grade.c\n",
        "\n",
        "#include <stdio.h>\n",
        "\n",
        "int main(void)\n",
        "{\n",
        "  int score;\n",
        "  char grade; //grade를 위한 character형의 변수를 선언\n",
        "\n",
        "  printf(\"성적을 입력하시오:\");\n",
        "  scanf(\"%d\", &score);\n",
        "\n",
        "  if (score >= 90)\n",
        "    grade = 'A';\n",
        "  else if (score >= 80)\n",
        "    grade = 'B';\n",
        "  else if (score >= 70)\n",
        "    grade = 'C';\n",
        "  else if (score >= 60)\n",
        "    grade = 'D';\n",
        "  else //위에 다 거짓이면 이게 실행됨\n",
        "    grade = 'F';\n",
        "\n",
        "  printf(\"학점: %c \\n\", grade);\n",
        "  \n",
        "  return 0;\n",
        "}"
      ],
      "metadata": {
        "colab": {
          "base_uri": "https://localhost:8080/"
        },
        "id": "ijZG5giWpERt",
        "outputId": "3714901a-11fe-470d-d469-aca0915b1d3a"
      },
      "execution_count": null,
      "outputs": [
        {
          "output_type": "stream",
          "name": "stdout",
          "text": [
            "Writing grade.c\n"
          ]
        }
      ]
    },
    {
      "cell_type": "code",
      "source": [
        "%%shell\n",
        "\n",
        "gcc grade.c -o output\n",
        "./output"
      ],
      "metadata": {
        "colab": {
          "base_uri": "https://localhost:8080/"
        },
        "id": "-H1OT9Myqv7_",
        "outputId": "79f810c0-70d7-466c-bad4-758af80664e4"
      },
      "execution_count": null,
      "outputs": [
        {
          "output_type": "stream",
          "name": "stdout",
          "text": [
            "성적을 입력하시오:10\n",
            "학점: F \n"
          ]
        },
        {
          "output_type": "execute_result",
          "data": {
            "text/plain": []
          },
          "metadata": {},
          "execution_count": 30
        }
      ]
    },
    {
      "cell_type": "code",
      "source": [
        "%%writefile grade.c\n",
        "\n",
        "#include <stdio.h>\n",
        "\n",
        "int main(void)\n",
        "{\n",
        "  char op;\n",
        "  int x, y;\n",
        "\n",
        "  printf(\"수식을 입력하시오:\");\n",
        "  scanf(\"%d %c %d\", &x, &op, &y);\n",
        "\n",
        "  if (op == '+')\n",
        "    printf(\"%d \\n\", x+y);\n",
        "  else if (op == '-')\n",
        "    printf(\"%d \\n\", x-y);\n",
        "  else if (op == '*')\n",
        "    printf(\"%d \\n\", x*y);\n",
        "  else if (op == '/')\n",
        "    printf(\"%d \\n\", x/y);\n",
        "  else\n",
        "    printf(\"지원되지 않는 연산자 입니다. \\n\");\n",
        "  \n",
        "  return 0;\n",
        "}"
      ],
      "metadata": {
        "colab": {
          "base_uri": "https://localhost:8080/"
        },
        "id": "TJ-KA8fQqxtj",
        "outputId": "add15ec5-4622-42ba-b31d-ea75e785c879"
      },
      "execution_count": null,
      "outputs": [
        {
          "output_type": "stream",
          "name": "stdout",
          "text": [
            "Overwriting grade.c\n"
          ]
        }
      ]
    },
    {
      "cell_type": "code",
      "source": [
        "%%shell\n",
        "\n",
        "gcc grade.c -o output\n",
        "./output"
      ],
      "metadata": {
        "colab": {
          "base_uri": "https://localhost:8080/"
        },
        "id": "A25whAFnrOev",
        "outputId": "f111e162-3c40-416a-8fb7-1384606e0f03"
      },
      "execution_count": null,
      "outputs": [
        {
          "output_type": "stream",
          "name": "stdout",
          "text": [
            "수식을 입력하시오:100!10\n",
            "지원되지 않는 연산자 입니다. \n"
          ]
        },
        {
          "output_type": "execute_result",
          "data": {
            "text/plain": []
          },
          "metadata": {},
          "execution_count": 37
        }
      ]
    },
    {
      "cell_type": "code",
      "source": [
        "%%writefile month.c\n",
        "\n",
        "#include <stdio.h>\n",
        "\n",
        "int main(void)\n",
        "{\n",
        "  int month, days;\n",
        "  printf(\"일수를 알고 싶은 달을 입력하시오:\");\n",
        "  scanf(\"%d\", &month);\n",
        "\n",
        "  switch(month)\n",
        "  {\n",
        "    case 2:\n",
        "      days = 28;\n",
        "      break;\n",
        "    case 4:\n",
        "    case 6:\n",
        "    case 9:\n",
        "    case 11:\n",
        "      days = 30;\n",
        "      break;\n",
        "\n",
        "    default:\n",
        "      days = 31;\n",
        "      break;\n",
        "  }\n",
        "\n",
        "  printf(\"%d월의 일수는 %d입니다. \\n\", month, days);\n",
        "  return 0;\n",
        "}"
      ],
      "metadata": {
        "colab": {
          "base_uri": "https://localhost:8080/"
        },
        "id": "csXz01umr_oE",
        "outputId": "8badbb93-187b-4fda-dc18-2c12b8df9020"
      },
      "execution_count": null,
      "outputs": [
        {
          "output_type": "stream",
          "name": "stdout",
          "text": [
            "Overwriting month.c\n"
          ]
        }
      ]
    },
    {
      "cell_type": "code",
      "source": [
        "%%shell\n",
        "\n",
        "gcc month.c -o output\n",
        "./output"
      ],
      "metadata": {
        "colab": {
          "base_uri": "https://localhost:8080/"
        },
        "id": "fTB93HNEtrxi",
        "outputId": "0a3a240e-192e-4ac9-b89c-cd22a114332a"
      },
      "execution_count": null,
      "outputs": [
        {
          "output_type": "stream",
          "name": "stdout",
          "text": [
            "일수를 알고 싶은 달을 입력하시오:2\n",
            "2월의 일수는 28입니다. \n"
          ]
        },
        {
          "output_type": "execute_result",
          "data": {
            "text/plain": []
          },
          "metadata": {},
          "execution_count": 44
        }
      ]
    },
    {
      "cell_type": "code",
      "source": [],
      "metadata": {
        "id": "ZCUiza4Jtxb_"
      },
      "execution_count": null,
      "outputs": []
    }
  ]
}
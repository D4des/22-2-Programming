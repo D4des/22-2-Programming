{
  "nbformat": 4,
  "nbformat_minor": 0,
  "metadata": {
    "colab": {
      "provenance": [],
      "collapsed_sections": []
    },
    "kernelspec": {
      "name": "python3",
      "display_name": "Python 3"
    },
    "language_info": {
      "name": "python"
    }
  },
  "cells": [
    {
      "cell_type": "code",
      "execution_count": null,
      "metadata": {
        "colab": {
          "base_uri": "https://localhost:8080/"
        },
        "id": "8MG5rUJfunYP",
        "outputId": "0758fd8c-aba0-42ee-ad8b-338dea8367e4"
      },
      "outputs": [
        {
          "output_type": "stream",
          "name": "stdout",
          "text": [
            "Writing sign_up.c\n"
          ]
        }
      ],
      "source": [
        "%%writefile sign_up.c\n",
        "\n",
        "#define _CRT_SECURE_NO_WARNINGS\n",
        "#include <stdio.h>\n",
        "\n",
        "int main(void)\n",
        "{\n",
        "  int math, phy, chem;\n",
        "  printf(\"수학, 물리, 화학 점수를 한줄에 입력하시오: \");\n",
        "  scanf(\"%d %d %d\", &math, &phy, &chem);\n",
        "\n",
        "  if (math >= 50 && phy >= 50 &&  chem >= 50) \n",
        "  {\n",
        "    if ((math +phy) >=150 || (math +chem) >=150)\n",
        "      printf(\"가입할 수 있습니다. \\n\\n\");\n",
        "    else\n",
        "      printf(\"다음 기회에 가입해주세요. \\n\\n\");\n",
        "  }\n",
        "  else \n",
        "  {\n",
        "    printf(\"다음 기회에 가입해주세요. \\n\\n\");\n",
        "  }\n",
        "\n",
        "  return 0;\n",
        "}"
      ]
    },
    {
      "cell_type": "code",
      "source": [
        "%%shell\n",
        "\n",
        "gcc sign_up.c -o output\n",
        "./output"
      ],
      "metadata": {
        "colab": {
          "base_uri": "https://localhost:8080/"
        },
        "id": "ry35JBOWu-vu",
        "outputId": "871a539a-c1ce-41bc-91a9-b0d3cdeaf027"
      },
      "execution_count": null,
      "outputs": [
        {
          "output_type": "stream",
          "name": "stdout",
          "text": [
            "수학, 물리, 화학 점수를 한줄에 입력하시오: 90 60 60\n",
            "가입할 수 있습니다. \n",
            "\n"
          ]
        },
        {
          "output_type": "execute_result",
          "data": {
            "text/plain": []
          },
          "metadata": {},
          "execution_count": 3
        }
      ]
    },
    {
      "cell_type": "code",
      "source": [
        "%%writefile triangle.c\n",
        "\n",
        "#define _CRT_SECURE_NO_WARNINGS\n",
        "#include <stdio.h>\n",
        "\n",
        "int main(void)\n",
        "{\n",
        "  int a, b, c;\n",
        "\n",
        "  printf(\"삼각형의 세변 입력 :\");\n",
        "  scanf(\"%d %d %d\", &a, &b, &c);\n",
        "\n",
        "  //삼각형의 유효성 확인\n",
        "  if ((a +b >c) && (a +c >b) && (b +c >a))\n",
        "    printf(\"유효한 삼각형. \\n\");\n",
        "  else\n",
        "    printf(\"유효한 삼각형이 아닙니다. \\n\");\n",
        "    \n",
        "  return 0;\n",
        "}"
      ],
      "metadata": {
        "colab": {
          "base_uri": "https://localhost:8080/"
        },
        "id": "-R3idv_twEnm",
        "outputId": "70db3883-e5a2-429e-8e5f-330fc9471050"
      },
      "execution_count": null,
      "outputs": [
        {
          "output_type": "stream",
          "name": "stdout",
          "text": [
            "Overwriting triangle.c\n"
          ]
        }
      ]
    },
    {
      "cell_type": "code",
      "source": [
        "%%shell\n",
        "\n",
        "gcc triangle.c -o output\n",
        "./output"
      ],
      "metadata": {
        "colab": {
          "base_uri": "https://localhost:8080/"
        },
        "id": "pgintlXWwoWp",
        "outputId": "3ba02576-72df-4456-d576-c2f35467dac4"
      },
      "execution_count": null,
      "outputs": [
        {
          "output_type": "stream",
          "name": "stdout",
          "text": [
            "삼각형의 세변 입력 :30 20 40\n",
            "유효한 삼각형. \n"
          ]
        },
        {
          "output_type": "execute_result",
          "data": {
            "text/plain": []
          },
          "metadata": {},
          "execution_count": 6
        }
      ]
    },
    {
      "cell_type": "code",
      "source": [
        "%%writefile quadratic_equation.c\n",
        "\n",
        "#define _CRT_SECURE_NO_WARNINGS\n",
        "#include <stdio.h>\n",
        "#include <math.h>\n",
        "\n",
        "int main(void)\n",
        "{\n",
        "  int a, b, c;\n",
        "  double d, x1, x2;\n",
        "\n",
        "  printf(\"계수 a,b c를 입력하시오: \");\n",
        "  scanf(\"%d %d %d\", &a, &b, &c);\n",
        "  d = b *b -4.0 *a *c;\n",
        "\n",
        "  if (d ==0)\n",
        "  {\n",
        "    x1 = -b / (2*a);\n",
        "    printf(\"중근 =%f \\n\", x1);\n",
        "  }\n",
        "  else if (d >0)\n",
        "  {\n",
        "    x1 = (-b +sqrt(d)) / (2.0 *a);\n",
        "    x2 = (-b +sqrt(d)) / (2.0 *a);\n",
        "    printf(\"첫 번째 실근 =%f \\n\", x1);\n",
        "    printf(\"두 번째 실근 =%f \\n\", x2);\n",
        "  }\n",
        "  else printf(\"허수근입니다. \\n\");\n",
        "\n",
        "  return 0;\n",
        "}"
      ],
      "metadata": {
        "colab": {
          "base_uri": "https://localhost:8080/"
        },
        "id": "y3Z37z_3w1VE",
        "outputId": "933dad5b-0ed6-4cd4-c120-cf16c8da73f2"
      },
      "execution_count": null,
      "outputs": [
        {
          "output_type": "stream",
          "name": "stdout",
          "text": [
            "Overwriting quadratic_equation.c\n"
          ]
        }
      ]
    },
    {
      "cell_type": "code",
      "source": [
        "%%shell\n",
        "\n",
        "gcc quadratic_equation.c -o output -lm\n",
        "./output"
      ],
      "metadata": {
        "colab": {
          "base_uri": "https://localhost:8080/"
        },
        "id": "GXGqt-Hkyf3N",
        "outputId": "d48c5fa9-ab7a-4361-8e6a-12b0a8e06d03"
      },
      "execution_count": null,
      "outputs": [
        {
          "output_type": "stream",
          "name": "stdout",
          "text": [
            "계수 a,b c를 입력하시오: 2 4 2\n",
            "중근 =-1.000000 \n"
          ]
        },
        {
          "output_type": "execute_result",
          "data": {
            "text/plain": []
          },
          "metadata": {},
          "execution_count": 15
        }
      ]
    },
    {
      "cell_type": "code",
      "source": [
        "%%writefile weather.c\n",
        "\n",
        "#define _CRT_SECURE_NO_WARNINGS\n",
        "#include <stdio.h>\n",
        "\n",
        "int main(void)\n",
        "{\n",
        "  int tmp;\n",
        "\n",
        "  printf(\"오늘의 기온을 입력하시오: \");\n",
        "  scanf(\"%d\", &tmp);\n",
        "\n",
        "  if (tmp <-10)\n",
        "    printf(\"매우 추운 날씨입니다. \\n\");\n",
        "  else if (tmp <0)\n",
        "    printf(\"추운 날씨입니다. \\n\");\n",
        "  else if (tmp <10)\n",
        "    printf(\"쌀쌀한 날씨입니다. \\n\");\n",
        "  else if (tmp <20)\n",
        "    printf(\"쾌적한 날씨입니다. \\n\");\n",
        "  else if (tmp <30)\n",
        "    printf(\"더운 날씨입니다. \\n\");\n",
        "  else\n",
        "    printf(\"무더운 날씨입니다. \\n\");\n",
        "\n",
        "  return 0;\n",
        "}"
      ],
      "metadata": {
        "colab": {
          "base_uri": "https://localhost:8080/"
        },
        "id": "7r69J2QGymzs",
        "outputId": "cdb56988-47ef-4994-ed1d-3601b3a6d2dc"
      },
      "execution_count": null,
      "outputs": [
        {
          "output_type": "stream",
          "name": "stdout",
          "text": [
            "Writing weather.c\n"
          ]
        }
      ]
    },
    {
      "cell_type": "code",
      "source": [
        "%%shell\n",
        "\n",
        "gcc weather.c -o output \n",
        "./output"
      ],
      "metadata": {
        "colab": {
          "base_uri": "https://localhost:8080/"
        },
        "id": "XX4Onsxw0HkO",
        "outputId": "4a489432-91ad-47fa-c639-84d9e27bd16a"
      },
      "execution_count": null,
      "outputs": [
        {
          "output_type": "stream",
          "name": "stdout",
          "text": [
            "오늘의 기온을 입력하시오: -30\n",
            "매우 추운 날씨입니다. \n"
          ]
        },
        {
          "output_type": "execute_result",
          "data": {
            "text/plain": []
          },
          "metadata": {},
          "execution_count": 18
        }
      ]
    },
    {
      "cell_type": "code",
      "source": [
        "%%writefile rock_paper_scissors.c\n",
        "\n",
        "#define _CRT_SECURE_NO_WARNINGS\n",
        "#include <stdio.h>\n",
        "\n",
        "int main(void)\n",
        "{\n",
        "  int rps; //가위바위보 변수 선언\n",
        "\n",
        "  printf(\"가위, 바위, 보 게임에 오신 것을 환영합니다. \\n\");\n",
        "  printf(\"하나를 선택하세요(가위-0, 바위-1, 보-2): \");\n",
        "  scanf(\"%d\", &rps);\n",
        "\n",
        "  printf(\"사용자=%d \\n\", rps);\n",
        "  printf(\"컴퓨터=2 \\n\");\n",
        "\n",
        "  switch (rps)\n",
        "  {\n",
        "    case 0:\n",
        "      printf(\"사용자 승리\");\n",
        "      break;\n",
        "    case 1:\n",
        "      printf(\"사용자 패배\");\n",
        "      break;\n",
        "    case 2:\n",
        "      printf(\"비김\");\n",
        "      break;\n",
        "  }\n",
        "\n",
        "  return 0;\n",
        "}"
      ],
      "metadata": {
        "colab": {
          "base_uri": "https://localhost:8080/"
        },
        "id": "iF64Yp0_0Lf_",
        "outputId": "efb0386a-0e07-4d21-9b37-d3d6cfa8e00b"
      },
      "execution_count": null,
      "outputs": [
        {
          "output_type": "stream",
          "name": "stdout",
          "text": [
            "Overwriting rock_paper_scissors.c\n"
          ]
        }
      ]
    },
    {
      "cell_type": "code",
      "source": [
        "%%shell\n",
        "\n",
        "gcc rock_paper_scissors.c -o output \n",
        "./output"
      ],
      "metadata": {
        "colab": {
          "base_uri": "https://localhost:8080/"
        },
        "id": "tUkkgnpe3e0f",
        "outputId": "c345e853-6f42-434d-e5e5-6b3b2c7cb243"
      },
      "execution_count": null,
      "outputs": [
        {
          "output_type": "stream",
          "name": "stdout",
          "text": [
            "가위, 바위, 보 게임에 오신 것을 환영합니다. \n",
            "하나를 선택하세요(가위-0, 바위-1, 보-2): 0\n",
            "사용자=0 \n",
            "컴퓨터=2 \n",
            "사용자 승리"
          ]
        },
        {
          "output_type": "execute_result",
          "data": {
            "text/plain": []
          },
          "metadata": {},
          "execution_count": 31
        }
      ]
    },
    {
      "cell_type": "code",
      "source": [
        "%%writefile rock_paper_scissors1.c\n",
        "\n",
        "#define _CRT_SECURE_NO_WARNINGS\n",
        "#include <stdio.h>\n",
        "\n",
        "int main(void)\n",
        "{\n",
        "  int rps; //가위바위보 변수 선언\n",
        "\n",
        "  printf(\"가위, 바위, 보 게임에 오신 것을 환영합니다. \\n\");\n",
        "  printf(\"하나를 선택하세요(가위-0, 바위-1, 보-2): \");\n",
        "  scanf(\"%d\", &rps);\n",
        "\n",
        "  printf(\"사용자=%d \\n\", rps);\n",
        "  printf(\"컴퓨터=2 \\n\");\n",
        "\n",
        "  switch (rps)\n",
        "  {\n",
        "    case 0:\n",
        "      if (rps <-10)\n",
        "        printf(\"매우 추운 날씨입니다. \\n\");\n",
        "      else\n",
        "        printf(\"무더운 날씨입니다. \\n\");\n",
        "      break;\n",
        "    case 1:\n",
        "      printf(\"사용자 패배\");\n",
        "      break;\n",
        "    case 2:\n",
        "      printf(\"비김\");\n",
        "      break;\n",
        "  }\n",
        "\n",
        "  return 0;\n",
        "}"
      ],
      "metadata": {
        "id": "tgOo5E583jSZ",
        "colab": {
          "base_uri": "https://localhost:8080/"
        },
        "outputId": "8582e1a2-2438-4a16-abf0-f009e618ed2d"
      },
      "execution_count": null,
      "outputs": [
        {
          "output_type": "stream",
          "name": "stdout",
          "text": [
            "Overwriting rock_paper_scissors1.c\n"
          ]
        }
      ]
    },
    {
      "cell_type": "code",
      "source": [
        "%%shell\n",
        "\n",
        "gcc rock_paper_scissors1.c -o output \n",
        "./output"
      ],
      "metadata": {
        "colab": {
          "base_uri": "https://localhost:8080/"
        },
        "id": "Le66rivQx9iK",
        "outputId": "d4ce65cc-dc1c-459a-95b7-28c6398f6285"
      },
      "execution_count": null,
      "outputs": [
        {
          "output_type": "stream",
          "name": "stdout",
          "text": [
            "가위, 바위, 보 게임에 오신 것을 환영합니다. \n",
            "하나를 선택하세요(가위-0, 바위-1, 보-2): 0\n",
            "사용자=0 \n",
            "컴퓨터=2 \n"
          ]
        },
        {
          "output_type": "execute_result",
          "data": {
            "text/plain": []
          },
          "metadata": {},
          "execution_count": 3
        }
      ]
    }
  ]
}
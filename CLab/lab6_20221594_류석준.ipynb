{
  "nbformat": 4,
  "nbformat_minor": 0,
  "metadata": {
    "colab": {
      "provenance": [],
      "collapsed_sections": []
    },
    "kernelspec": {
      "name": "python3",
      "display_name": "Python 3"
    },
    "language_info": {
      "name": "python"
    }
  },
  "cells": [
    {
      "cell_type": "code",
      "execution_count": null,
      "metadata": {
        "colab": {
          "base_uri": "https://localhost:8080/"
        },
        "id": "Hyplqjq8fL-k",
        "outputId": "68a5e32d-3768-4ceb-f729-8856634d7028"
      },
      "outputs": [
        {
          "output_type": "stream",
          "name": "stdout",
          "text": [
            "Overwriting repeat.c\n"
          ]
        }
      ],
      "source": [
        "%%writefile repeat.c\n",
        "\n",
        "#include <stdio.h>\n",
        "\n",
        "int main(void)\n",
        "{\n",
        "  int i = 0;\n",
        "  while (i <10)\n",
        "  {\n",
        "    printf(\"수업 시간에 떠들지 않겠습니다. \\n\");\n",
        "    printf(\"i는 %d \\n\", i);\n",
        "    i++;\n",
        "  }\n",
        "  return 0;\n",
        "}"
      ]
    },
    {
      "cell_type": "code",
      "source": [
        "%%shell\n",
        "\n",
        "gcc repeat.c -o output\n",
        "./output"
      ],
      "metadata": {
        "colab": {
          "base_uri": "https://localhost:8080/"
        },
        "id": "6z80ISIyfadD",
        "outputId": "fb21626d-df5f-4af8-f4c5-00a9ec89cb60"
      },
      "execution_count": null,
      "outputs": [
        {
          "output_type": "stream",
          "name": "stdout",
          "text": [
            "수업 시간에 떠들지 않겠습니다. \n",
            "i는 0 \n",
            "수업 시간에 떠들지 않겠습니다. \n",
            "i는 1 \n",
            "수업 시간에 떠들지 않겠습니다. \n",
            "i는 2 \n",
            "수업 시간에 떠들지 않겠습니다. \n",
            "i는 3 \n",
            "수업 시간에 떠들지 않겠습니다. \n",
            "i는 4 \n",
            "수업 시간에 떠들지 않겠습니다. \n",
            "i는 5 \n",
            "수업 시간에 떠들지 않겠습니다. \n",
            "i는 6 \n",
            "수업 시간에 떠들지 않겠습니다. \n",
            "i는 7 \n",
            "수업 시간에 떠들지 않겠습니다. \n",
            "i는 8 \n",
            "수업 시간에 떠들지 않겠습니다. \n",
            "i는 9 \n"
          ]
        },
        {
          "output_type": "execute_result",
          "data": {
            "text/plain": []
          },
          "metadata": {},
          "execution_count": 3
        }
      ]
    },
    {
      "cell_type": "code",
      "source": [
        "%%writefile mile.c\n",
        "\n",
        "#include <stdio.h>\n",
        "\n",
        "int main(void)\n",
        "{\n",
        "  int meter;\n",
        "  int i = 0;\n",
        "\n",
        "  while (i<=10)\n",
        "  {\n",
        "    meter = i * 1609;\n",
        "    printf(\"%d 마일은 %d미터입니다 \\n\", i, meter);\n",
        "    i++;\n",
        "  }\n",
        "\n",
        "  return 0;\n",
        "}"
      ],
      "metadata": {
        "colab": {
          "base_uri": "https://localhost:8080/"
        },
        "id": "imwghVLIfx8r",
        "outputId": "133d4158-5829-4763-c96c-d5f380b96b4c"
      },
      "execution_count": null,
      "outputs": [
        {
          "output_type": "stream",
          "name": "stdout",
          "text": [
            "Overwriting mile.c\n"
          ]
        }
      ]
    },
    {
      "cell_type": "code",
      "source": [
        "%%shell\n",
        "\n",
        "gcc mile.c -o output\n",
        "./output"
      ],
      "metadata": {
        "colab": {
          "base_uri": "https://localhost:8080/"
        },
        "id": "QX7WfsgAgYaC",
        "outputId": "f120502c-9cff-4e7e-f696-6d7bb124d6e0"
      },
      "execution_count": null,
      "outputs": [
        {
          "output_type": "stream",
          "name": "stdout",
          "text": [
            "0 마일은 0미터입니다 \n",
            "1 마일은 1609미터입니다 \n",
            "2 마일은 3218미터입니다 \n",
            "3 마일은 4827미터입니다 \n",
            "4 마일은 6436미터입니다 \n",
            "5 마일은 8045미터입니다 \n",
            "6 마일은 9654미터입니다 \n",
            "7 마일은 11263미터입니다 \n",
            "8 마일은 12872미터입니다 \n",
            "9 마일은 14481미터입니다 \n",
            "10 마일은 16090미터입니다 \n"
          ]
        },
        {
          "output_type": "execute_result",
          "data": {
            "text/plain": []
          },
          "metadata": {},
          "execution_count": 7
        }
      ]
    },
    {
      "cell_type": "code",
      "source": [
        "%%writefile fact.c\n",
        "\n",
        "#include <stdio.h>\n",
        "\n",
        "int main(void)\n",
        "{\n",
        "  int i = 10;\n",
        "  int factorial = 1;\n",
        "\n",
        "  while (i>=1)\n",
        "  {\n",
        "    factorial *= i;\n",
        "    i--;\n",
        "  }\n",
        "  printf(\"%d \\n\", factorial);\n",
        "  return 0;\n",
        "}"
      ],
      "metadata": {
        "colab": {
          "base_uri": "https://localhost:8080/"
        },
        "id": "ZZrv1MXhgb4I",
        "outputId": "209709b5-28fc-4eaf-dac8-0a1e8a1f22e0"
      },
      "execution_count": null,
      "outputs": [
        {
          "output_type": "stream",
          "name": "stdout",
          "text": [
            "Overwriting fact.c\n"
          ]
        }
      ]
    },
    {
      "cell_type": "code",
      "source": [
        "%%shell\n",
        "\n",
        "gcc fact.c -o output\n",
        "./output"
      ],
      "metadata": {
        "colab": {
          "base_uri": "https://localhost:8080/"
        },
        "id": "zgnQWpvKg--h",
        "outputId": "7afa4a46-19f2-4ec3-942c-bcd7268c1c8c"
      },
      "execution_count": null,
      "outputs": [
        {
          "output_type": "stream",
          "name": "stdout",
          "text": [
            "3628800 \n"
          ]
        },
        {
          "output_type": "execute_result",
          "data": {
            "text/plain": []
          },
          "metadata": {},
          "execution_count": 13
        }
      ]
    },
    {
      "cell_type": "code",
      "source": [
        "%%writefile cal.c\n",
        "\n",
        "#include <stdio.h>\n",
        "\n",
        "int main(void)\n",
        "{\n",
        "  int n;\n",
        "  int i = 1;\n",
        "\n",
        "  printf(\"구구단 중에서 출력하고 싶은 단을 입력하시오:\");\n",
        "  scanf(\"%d\", &n);\n",
        "\n",
        "  while (i<=9)\n",
        "  {\n",
        "    printf(\"%d x %d = %d \\n\", n, i, n*i);\n",
        "    i++;\n",
        "  }\n",
        "  return 0;\n",
        "}"
      ],
      "metadata": {
        "colab": {
          "base_uri": "https://localhost:8080/"
        },
        "id": "ryM6DhrihD0O",
        "outputId": "38ebac6c-4fb3-4d38-d44f-9eeb5a43efd6"
      },
      "execution_count": null,
      "outputs": [
        {
          "output_type": "stream",
          "name": "stdout",
          "text": [
            "Overwriting cal.c\n"
          ]
        }
      ]
    },
    {
      "cell_type": "code",
      "source": [
        "%%shell\n",
        "\n",
        "gcc cal.c -o output\n",
        "./output"
      ],
      "metadata": {
        "colab": {
          "base_uri": "https://localhost:8080/"
        },
        "id": "pDAsNioXhx0V",
        "outputId": "739f20df-b7b3-44ed-fa11-272526a64076"
      },
      "execution_count": null,
      "outputs": [
        {
          "output_type": "stream",
          "name": "stdout",
          "text": [
            "구구단 중에서 출력하고 싶은 단을 입력하시오:7\n",
            "7 x 1 = 7 \n",
            "7 x 2 = 14 \n",
            "7 x 3 = 21 \n",
            "7 x 4 = 28 \n",
            "7 x 5 = 35 \n",
            "7 x 6 = 42 \n",
            "7 x 7 = 49 \n",
            "7 x 8 = 56 \n",
            "7 x 9 = 63 \n"
          ]
        },
        {
          "output_type": "execute_result",
          "data": {
            "text/plain": []
          },
          "metadata": {},
          "execution_count": 21
        }
      ]
    },
    {
      "cell_type": "code",
      "source": [
        "%%writefile sum.c\n",
        "\n",
        "#include <stdio.h>\n",
        "\n",
        "int main(void)\n",
        "{\n",
        "  int i, sum;\n",
        "  i = 1;\n",
        "  sum = 0;\n",
        "  while (i <= 1000)\n",
        "  {\n",
        "    sum += i;\n",
        "    i++;\n",
        "  }\n",
        "  printf(\"합은 %d입니다. \\n\", sum);\n",
        "  return 0;\n",
        "}"
      ],
      "metadata": {
        "colab": {
          "base_uri": "https://localhost:8080/"
        },
        "id": "GlryjdGIh0nT",
        "outputId": "68c1beaa-e82c-4273-e86c-1519552edf8d"
      },
      "execution_count": null,
      "outputs": [
        {
          "output_type": "stream",
          "name": "stdout",
          "text": [
            "Overwriting sum.c\n"
          ]
        }
      ]
    },
    {
      "cell_type": "code",
      "source": [
        "%%shell\n",
        "\n",
        "gcc sum.c -o output\n",
        "./output"
      ],
      "metadata": {
        "colab": {
          "base_uri": "https://localhost:8080/"
        },
        "id": "dyffZgFHisOa",
        "outputId": "9c787d5f-7d63-4669-d00e-81478e49c24d"
      },
      "execution_count": null,
      "outputs": [
        {
          "output_type": "stream",
          "name": "stdout",
          "text": [
            "합은 500500입니다. \n"
          ]
        },
        {
          "output_type": "execute_result",
          "data": {
            "text/plain": []
          },
          "metadata": {},
          "execution_count": 24
        }
      ]
    },
    {
      "cell_type": "code",
      "source": [
        "%%writefile dowhile.c\n",
        "\n",
        "#include <stdio.h>\n",
        "\n",
        "int main(void)\n",
        "{\n",
        "  int i = 0;\n",
        "  do\n",
        "  {\n",
        "    printf(\"1--파일열기 \\n\");\n",
        "    printf(\"2--파일저장하기 \\n\");\n",
        "    printf(\"3--종료 \\n\");\n",
        "    printf(\"하나를 선택하시오:\");\n",
        "    scanf(\"%d\", &i);\n",
        "  } while (i<1 || i>3);\n",
        "\n",
        "  printf(\"선택된 메뉴=%d \\n\", i);\n",
        "  return 0;\n",
        "}"
      ],
      "metadata": {
        "colab": {
          "base_uri": "https://localhost:8080/"
        },
        "id": "FbAG4u-gjQMr",
        "outputId": "f035ec09-9f31-4ac6-e4c5-5585742aa876"
      },
      "execution_count": null,
      "outputs": [
        {
          "output_type": "stream",
          "name": "stdout",
          "text": [
            "Writing dowhile.c\n"
          ]
        }
      ]
    },
    {
      "cell_type": "code",
      "source": [
        "%%shell\n",
        "\n",
        "gcc dowhile.c -o output\n",
        "./output"
      ],
      "metadata": {
        "colab": {
          "base_uri": "https://localhost:8080/"
        },
        "id": "Fz0yA1-TlolY",
        "outputId": "23fe3c43-6d9f-4cc7-bcf5-a9343d63d0ab"
      },
      "execution_count": null,
      "outputs": [
        {
          "output_type": "stream",
          "name": "stdout",
          "text": [
            "1--파일열기 \n",
            "2--파일저장하기 \n",
            "3--종료 \n",
            "하나를 선택하시오:0\n",
            "1--파일열기 \n",
            "2--파일저장하기 \n",
            "3--종료 \n",
            "하나를 선택하시오:100\n",
            "1--파일열기 \n",
            "2--파일저장하기 \n",
            "3--종료 \n",
            "하나를 선택하시오:5\n",
            "1--파일열기 \n",
            "2--파일저장하기 \n",
            "3--종료 \n",
            "하나를 선택하시오:1\n",
            "선택된 메뉴=1 \n"
          ]
        },
        {
          "output_type": "execute_result",
          "data": {
            "text/plain": []
          },
          "metadata": {},
          "execution_count": 28
        }
      ]
    },
    {
      "cell_type": "code",
      "source": [
        "%%writefile sum.c\n",
        "\n",
        "#include <stdio.h>\n",
        "\n",
        "int main(void)\n",
        "{\n",
        "  int i, sum;\n",
        "  sum = 0;\n",
        "\n",
        "  for (i=1; i<=50; i++)\n",
        "    sum +=i;\n",
        "\n",
        "  printf(\"1부터 50까지의 정수의 합= %d \\n\", sum);\n",
        "  return 0;\n",
        "}"
      ],
      "metadata": {
        "colab": {
          "base_uri": "https://localhost:8080/"
        },
        "id": "-R5xpFOslutT",
        "outputId": "d7af1aaf-ac41-4641-bc4a-fc92c34a1808"
      },
      "execution_count": null,
      "outputs": [
        {
          "output_type": "stream",
          "name": "stdout",
          "text": [
            "Overwriting sum.c\n"
          ]
        }
      ]
    },
    {
      "cell_type": "code",
      "source": [
        "%%shell\n",
        "\n",
        "gcc sum.c -o output\n",
        "./output"
      ],
      "metadata": {
        "colab": {
          "base_uri": "https://localhost:8080/"
        },
        "id": "ExT4Re40n96j",
        "outputId": "32595758-2e4f-497c-db40-a2fe41c78832"
      },
      "execution_count": null,
      "outputs": [
        {
          "output_type": "stream",
          "name": "stdout",
          "text": [
            "1부터 50까지의 정수의 합= 1275 \n"
          ]
        },
        {
          "output_type": "execute_result",
          "data": {
            "text/plain": []
          },
          "metadata": {},
          "execution_count": 36
        }
      ]
    },
    {
      "cell_type": "code",
      "source": [
        "%%writefile square.c\n",
        "\n",
        "#include <stdio.h>\n",
        "\n",
        "int main(void)\n",
        "{\n",
        "  int i;\n",
        "  printf(\"**********\\n\");\n",
        "\n",
        "  for(i=0; i<5; i++)\n",
        "    printf(\"*        *\\n\");\n",
        "\n",
        "  printf(\"**********\");\n",
        "\n",
        "  return 0;\n",
        "}"
      ],
      "metadata": {
        "colab": {
          "base_uri": "https://localhost:8080/"
        },
        "id": "SzrwVXImn_fe",
        "outputId": "49205fde-7a5d-434d-fca5-e8ab0a8c78f6"
      },
      "execution_count": null,
      "outputs": [
        {
          "output_type": "stream",
          "name": "stdout",
          "text": [
            "Overwriting square.c\n"
          ]
        }
      ]
    },
    {
      "cell_type": "code",
      "source": [
        "%%shell\n",
        "\n",
        "gcc square.c -o output\n",
        "./output"
      ],
      "metadata": {
        "colab": {
          "base_uri": "https://localhost:8080/"
        },
        "id": "nzGyUKx-o7Q0",
        "outputId": "8b5ab59e-ab88-4fe7-9d15-5b67db8b11bd"
      },
      "execution_count": null,
      "outputs": [
        {
          "output_type": "stream",
          "name": "stdout",
          "text": [
            "**********\n",
            "*        *\n",
            "*        *\n",
            "*        *\n",
            "*        *\n",
            "*        *\n",
            "**********"
          ]
        },
        {
          "output_type": "execute_result",
          "data": {
            "text/plain": []
          },
          "metadata": {},
          "execution_count": 53
        }
      ]
    },
    {
      "cell_type": "code",
      "source": [
        "%%writefile fact.c\n",
        "\n",
        "#include <stdio.h>\n",
        "\n",
        "int main(void)\n",
        "{\n",
        "  int fact = 1;\n",
        "  int i, n;\n",
        "\n",
        "  printf(\"정수를 입력하시오:\");\n",
        "  scanf(\"%d\", &n);\n",
        "\n",
        "  for (i =1; i <=n; i++)\n",
        "    fact = fact *i;\n",
        "\n",
        "  printf(\"%d!은 %d입니다. \\n\", n, fact);\n",
        "  return 0;\n",
        "}"
      ],
      "metadata": {
        "colab": {
          "base_uri": "https://localhost:8080/"
        },
        "id": "iYK0vafqps_M",
        "outputId": "0e531bdf-195d-4b5e-c5e8-9f453ef85473"
      },
      "execution_count": null,
      "outputs": [
        {
          "output_type": "stream",
          "name": "stdout",
          "text": [
            "Overwriting fact.c\n"
          ]
        }
      ]
    },
    {
      "cell_type": "code",
      "source": [
        "%%shell\n",
        "\n",
        "gcc fact.c -o output\n",
        "./output"
      ],
      "metadata": {
        "colab": {
          "base_uri": "https://localhost:8080/"
        },
        "id": "IDrHtJrKqRR9",
        "outputId": "a73027b7-3837-4401-edcc-bf2c6b42ab48"
      },
      "execution_count": null,
      "outputs": [
        {
          "output_type": "stream",
          "name": "stdout",
          "text": [
            "정수를 입력하시오:5\n",
            "5!은 120입니다. \n"
          ]
        },
        {
          "output_type": "execute_result",
          "data": {
            "text/plain": []
          },
          "metadata": {},
          "execution_count": 55
        }
      ]
    },
    {
      "cell_type": "code",
      "source": [
        "%%writefile nest.c\n",
        "\n",
        "#include <stdio.h>\n",
        "\n",
        "int main(void)\n",
        "{\n",
        "  int x, y;\n",
        "\n",
        "  for(y=0; y<5; y++)\n",
        "  {\n",
        "    for(x=0; x<10; x++)\n",
        "      printf(\"*\");\n",
        "    printf(\"\\n\"); //x에 대한게 아니라 y에 대한 프린트\n",
        "  }\n",
        "  return 0;\n",
        "}"
      ],
      "metadata": {
        "colab": {
          "base_uri": "https://localhost:8080/"
        },
        "id": "FPCJoiozqULc",
        "outputId": "c112a651-e337-4dd0-9337-5f3ef0446b01"
      },
      "execution_count": null,
      "outputs": [
        {
          "output_type": "stream",
          "name": "stdout",
          "text": [
            "Writing nest.c\n"
          ]
        }
      ]
    },
    {
      "cell_type": "code",
      "source": [
        "%%shell\n",
        "\n",
        "gcc nest.c -o output\n",
        "./output"
      ],
      "metadata": {
        "colab": {
          "base_uri": "https://localhost:8080/"
        },
        "id": "qf3oBhB1rWjg",
        "outputId": "0257ab13-d1fa-455f-a1f1-360917d92e13"
      },
      "execution_count": null,
      "outputs": [
        {
          "output_type": "stream",
          "name": "stdout",
          "text": [
            "**********\n",
            "**********\n",
            "**********\n",
            "**********\n",
            "**********\n"
          ]
        },
        {
          "output_type": "execute_result",
          "data": {
            "text/plain": []
          },
          "metadata": {},
          "execution_count": 57
        }
      ]
    },
    {
      "cell_type": "code",
      "source": [
        "%%writefile nest.c\n",
        "\n",
        "#include <stdio.h>\n",
        "\n",
        "int main(void)\n",
        "{\n",
        "  int i;\n",
        "  double number, sum = 0.0;\n",
        "\n",
        "  for (i =1;i<=10; i++)\n",
        "  {\n",
        "    printf(\"%d번째 실수를 입력하시오:\", i);\n",
        "    scanf(\"%lf\", &number);\n",
        "\n",
        "    if(number<0.0)\n",
        "      break;\n",
        "    sum += number;\n",
        "  }\n",
        "  printf(\"합계 = %f\", sum);\n",
        "  return 0;\n",
        "}"
      ],
      "metadata": {
        "colab": {
          "base_uri": "https://localhost:8080/"
        },
        "id": "lbfyDZUgrasl",
        "outputId": "3b75865e-50f5-44d0-bcf3-da6ccc9dccf7"
      },
      "execution_count": null,
      "outputs": [
        {
          "output_type": "stream",
          "name": "stdout",
          "text": [
            "Overwriting nest.c\n"
          ]
        }
      ]
    },
    {
      "cell_type": "code",
      "source": [
        "%%shell\n",
        "\n",
        "gcc nest.c -o output\n",
        "./output"
      ],
      "metadata": {
        "colab": {
          "base_uri": "https://localhost:8080/"
        },
        "id": "kwcq7u3jscan",
        "outputId": "32a0946f-1fb3-4da8-e665-60d229619802"
      },
      "execution_count": null,
      "outputs": [
        {
          "output_type": "stream",
          "name": "stdout",
          "text": [
            "1번째 실수를 입력하시오:5.5\n",
            "2번째 실수를 입력하시오:3.4\n",
            "3번째 실수를 입력하시오:-100\n",
            "합계 = 8.900000"
          ]
        },
        {
          "output_type": "execute_result",
          "data": {
            "text/plain": []
          },
          "metadata": {},
          "execution_count": 61
        }
      ]
    },
    {
      "cell_type": "code",
      "source": [
        "%%writefile nest.c\n",
        "\n",
        "#include <stdio.h>\n",
        "\n",
        "int main(void)\n",
        "{\n",
        "  int i;\n",
        "  for (i=0; i<10; i++){\n",
        "    if(i%2 == 1)\n",
        "    continue;\n",
        "  printf(\"정수:%d \\n\", i);\n",
        "  }\n",
        "  return 0;\n",
        "}"
      ],
      "metadata": {
        "colab": {
          "base_uri": "https://localhost:8080/"
        },
        "id": "QvFpN5U0sqbB",
        "outputId": "720b879f-8f1e-431e-d7f8-e92c0f44f437"
      },
      "execution_count": null,
      "outputs": [
        {
          "output_type": "stream",
          "name": "stdout",
          "text": [
            "Overwriting nest.c\n"
          ]
        }
      ]
    },
    {
      "cell_type": "code",
      "source": [
        "%%shell\n",
        "\n",
        "gcc nest.c -o output\n",
        "./output"
      ],
      "metadata": {
        "colab": {
          "base_uri": "https://localhost:8080/"
        },
        "id": "cjjU20xntF-M",
        "outputId": "11bf2bcd-9d03-449f-a80c-313f018d3e79"
      },
      "execution_count": null,
      "outputs": [
        {
          "output_type": "stream",
          "name": "stdout",
          "text": [
            "정수:0 \n",
            "정수:2 \n",
            "정수:4 \n",
            "정수:6 \n",
            "정수:8 \n"
          ]
        },
        {
          "output_type": "execute_result",
          "data": {
            "text/plain": []
          },
          "metadata": {},
          "execution_count": 63
        }
      ]
    }
  ]
}
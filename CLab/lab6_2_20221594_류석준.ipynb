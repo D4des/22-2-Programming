{
  "nbformat": 4,
  "nbformat_minor": 0,
  "metadata": {
    "colab": {
      "provenance": [],
      "collapsed_sections": []
    },
    "kernelspec": {
      "name": "python3",
      "display_name": "Python 3"
    },
    "language_info": {
      "name": "python"
    }
  },
  "cells": [
    {
      "cell_type": "code",
      "execution_count": null,
      "metadata": {
        "colab": {
          "base_uri": "https://localhost:8080/"
        },
        "id": "fYk9vVNJtmkn",
        "outputId": "7b6d5959-683d-4513-a377-47154c4f3b39"
      },
      "outputs": [
        {
          "output_type": "stream",
          "name": "stdout",
          "text": [
            "Overwriting lab6_1.c\n"
          ]
        }
      ],
      "source": [
        "%%writefile lab6_1.c\n",
        "\n",
        "#include <stdio.h>\n",
        "\n",
        "int main(void)\n",
        "{\n",
        "  double pheight = 0.001; //미터 단위\n",
        "  const double everest = 8800.0; //미터 단위\n",
        "  int count = 0;\n",
        "\n",
        "  while (pheight < everest) \n",
        "  {\n",
        "    pheight *= 2.0;\n",
        "    count++;\n",
        "  }\n",
        "  printf(\"종이 접는 횟수=%d \\n\\n\", count);\n",
        "  return 0;\n",
        "}"
      ]
    },
    {
      "cell_type": "code",
      "source": [
        "%%shell\n",
        "\n",
        "gcc lab6_1.c -o output\n",
        "./output"
      ],
      "metadata": {
        "colab": {
          "base_uri": "https://localhost:8080/"
        },
        "id": "ll60u_OduYAQ",
        "outputId": "bc1c20bc-63f0-4126-9988-fd0ca15bb41c"
      },
      "execution_count": null,
      "outputs": [
        {
          "output_type": "stream",
          "name": "stdout",
          "text": [
            "종이 접는 횟수=24 \n",
            "\n"
          ]
        },
        {
          "output_type": "execute_result",
          "data": {
            "text/plain": []
          },
          "metadata": {},
          "execution_count": 4
        }
      ]
    },
    {
      "cell_type": "code",
      "source": [
        "%%writefile lab6_2.c\n",
        "#include <stdio.h>\n",
        "#include <stdlib.h>\n",
        "#include <unistd.h>\n",
        "\n",
        "int main(void)\n",
        "{\n",
        "  int hour, min, sec;\n",
        "  hour = min = sec = 0;\n",
        "\n",
        "  while (1)\n",
        "  {\n",
        "    printf(\"%02d: %02d: %02d\\n\", hour, min, sec);\n",
        "    sec++;\n",
        "    if (sec == 60) \n",
        "    {\n",
        "      min++;\n",
        "      sec = 0;\n",
        "    }\n",
        "    if (min == 60)\n",
        "    {\n",
        "      hour++;\n",
        "      min = 0;\n",
        "    }\n",
        "    if (hour == 24)\n",
        "    {\n",
        "      hour = min = sec = 0;\n",
        "    }\n",
        "    sleep(1);\n",
        "  }\n",
        "  return 0;\n",
        "}"
      ],
      "metadata": {
        "colab": {
          "base_uri": "https://localhost:8080/"
        },
        "id": "0g9BSbd-uatG",
        "outputId": "ae62fe2d-1d60-4726-b5cd-929181781b10"
      },
      "execution_count": null,
      "outputs": [
        {
          "output_type": "stream",
          "name": "stdout",
          "text": [
            "Overwriting lab6_2.c\n"
          ]
        }
      ]
    },
    {
      "cell_type": "code",
      "source": [
        "%%shell\n",
        "\n",
        "gcc lab6_2.c -o output \n",
        "./output"
      ],
      "metadata": {
        "colab": {
          "base_uri": "https://localhost:8080/",
          "height": 807
        },
        "id": "ZcdsCyAXvZPu",
        "outputId": "bf0963e3-7efa-4051-88a9-60fd18cc3fa1"
      },
      "execution_count": null,
      "outputs": [
        {
          "output_type": "stream",
          "name": "stdout",
          "text": [
            "00: 00: 00\n",
            "00: 00: 01\n",
            "00: 00: 02\n",
            "00: 00: 03\n",
            "00: 00: 04\n",
            "00: 00: 05\n",
            "00: 00: 06\n",
            "00: 00: 07\n",
            "00: 00: 08\n",
            "00: 00: 09\n",
            "00: 00: 10\n",
            "00: 00: 11\n",
            "00: 00: 12\n",
            "00: 00: 13\n",
            "00: 00: 14\n",
            "00: 00: 15\n",
            "00: 00: 16\n",
            "00: 00: 17\n",
            "00: 00: 18\n",
            "00: 00: 19\n",
            "00: 00: 20\n",
            "00: 00: 21\n",
            "00: 00: 22\n"
          ]
        },
        {
          "output_type": "error",
          "ename": "CalledProcessError",
          "evalue": "ignored",
          "traceback": [
            "\u001b[0;31m---------------------------------------------------------------------------\u001b[0m",
            "\u001b[0;31mCalledProcessError\u001b[0m                        Traceback (most recent call last)",
            "\u001b[0;32m<ipython-input-8-c55c24a4ae5f>\u001b[0m in \u001b[0;36m<module>\u001b[0;34m\u001b[0m\n\u001b[0;32m----> 1\u001b[0;31m \u001b[0mget_ipython\u001b[0m\u001b[0;34m(\u001b[0m\u001b[0;34m)\u001b[0m\u001b[0;34m.\u001b[0m\u001b[0mrun_cell_magic\u001b[0m\u001b[0;34m(\u001b[0m\u001b[0;34m'shell'\u001b[0m\u001b[0;34m,\u001b[0m \u001b[0;34m''\u001b[0m\u001b[0;34m,\u001b[0m \u001b[0;34m'\\ngcc lab6_2.c -o output \\n./output\\n'\u001b[0m\u001b[0;34m)\u001b[0m\u001b[0;34m\u001b[0m\u001b[0;34m\u001b[0m\u001b[0m\n\u001b[0m",
            "\u001b[0;32m/usr/local/lib/python3.7/dist-packages/IPython/core/interactiveshell.py\u001b[0m in \u001b[0;36mrun_cell_magic\u001b[0;34m(self, magic_name, line, cell)\u001b[0m\n\u001b[1;32m   2357\u001b[0m             \u001b[0;32mwith\u001b[0m \u001b[0mself\u001b[0m\u001b[0;34m.\u001b[0m\u001b[0mbuiltin_trap\u001b[0m\u001b[0;34m:\u001b[0m\u001b[0;34m\u001b[0m\u001b[0;34m\u001b[0m\u001b[0m\n\u001b[1;32m   2358\u001b[0m                 \u001b[0margs\u001b[0m \u001b[0;34m=\u001b[0m \u001b[0;34m(\u001b[0m\u001b[0mmagic_arg_s\u001b[0m\u001b[0;34m,\u001b[0m \u001b[0mcell\u001b[0m\u001b[0;34m)\u001b[0m\u001b[0;34m\u001b[0m\u001b[0;34m\u001b[0m\u001b[0m\n\u001b[0;32m-> 2359\u001b[0;31m                 \u001b[0mresult\u001b[0m \u001b[0;34m=\u001b[0m \u001b[0mfn\u001b[0m\u001b[0;34m(\u001b[0m\u001b[0;34m*\u001b[0m\u001b[0margs\u001b[0m\u001b[0;34m,\u001b[0m \u001b[0;34m**\u001b[0m\u001b[0mkwargs\u001b[0m\u001b[0;34m)\u001b[0m\u001b[0;34m\u001b[0m\u001b[0;34m\u001b[0m\u001b[0m\n\u001b[0m\u001b[1;32m   2360\u001b[0m             \u001b[0;32mreturn\u001b[0m \u001b[0mresult\u001b[0m\u001b[0;34m\u001b[0m\u001b[0;34m\u001b[0m\u001b[0m\n\u001b[1;32m   2361\u001b[0m \u001b[0;34m\u001b[0m\u001b[0m\n",
            "\u001b[0;32m/usr/local/lib/python3.7/dist-packages/google/colab/_system_commands.py\u001b[0m in \u001b[0;36m_shell_cell_magic\u001b[0;34m(args, cmd)\u001b[0m\n\u001b[1;32m    107\u001b[0m   \u001b[0mresult\u001b[0m \u001b[0;34m=\u001b[0m \u001b[0m_run_command\u001b[0m\u001b[0;34m(\u001b[0m\u001b[0mcmd\u001b[0m\u001b[0;34m,\u001b[0m \u001b[0mclear_streamed_output\u001b[0m\u001b[0;34m=\u001b[0m\u001b[0;32mFalse\u001b[0m\u001b[0;34m)\u001b[0m\u001b[0;34m\u001b[0m\u001b[0;34m\u001b[0m\u001b[0m\n\u001b[1;32m    108\u001b[0m   \u001b[0;32mif\u001b[0m \u001b[0;32mnot\u001b[0m \u001b[0mparsed_args\u001b[0m\u001b[0;34m.\u001b[0m\u001b[0mignore_errors\u001b[0m\u001b[0;34m:\u001b[0m\u001b[0;34m\u001b[0m\u001b[0;34m\u001b[0m\u001b[0m\n\u001b[0;32m--> 109\u001b[0;31m     \u001b[0mresult\u001b[0m\u001b[0;34m.\u001b[0m\u001b[0mcheck_returncode\u001b[0m\u001b[0;34m(\u001b[0m\u001b[0;34m)\u001b[0m\u001b[0;34m\u001b[0m\u001b[0;34m\u001b[0m\u001b[0m\n\u001b[0m\u001b[1;32m    110\u001b[0m   \u001b[0;32mreturn\u001b[0m \u001b[0mresult\u001b[0m\u001b[0;34m\u001b[0m\u001b[0;34m\u001b[0m\u001b[0m\n\u001b[1;32m    111\u001b[0m \u001b[0;34m\u001b[0m\u001b[0m\n",
            "\u001b[0;32m/usr/local/lib/python3.7/dist-packages/google/colab/_system_commands.py\u001b[0m in \u001b[0;36mcheck_returncode\u001b[0;34m(self)\u001b[0m\n\u001b[1;32m    133\u001b[0m     \u001b[0;32mif\u001b[0m \u001b[0mself\u001b[0m\u001b[0;34m.\u001b[0m\u001b[0mreturncode\u001b[0m\u001b[0;34m:\u001b[0m\u001b[0;34m\u001b[0m\u001b[0;34m\u001b[0m\u001b[0m\n\u001b[1;32m    134\u001b[0m       raise subprocess.CalledProcessError(\n\u001b[0;32m--> 135\u001b[0;31m           returncode=self.returncode, cmd=self.args, output=self.output)\n\u001b[0m\u001b[1;32m    136\u001b[0m \u001b[0;34m\u001b[0m\u001b[0m\n\u001b[1;32m    137\u001b[0m   \u001b[0;32mdef\u001b[0m \u001b[0m_repr_pretty_\u001b[0m\u001b[0;34m(\u001b[0m\u001b[0mself\u001b[0m\u001b[0;34m,\u001b[0m \u001b[0mp\u001b[0m\u001b[0;34m,\u001b[0m \u001b[0mcycle\u001b[0m\u001b[0;34m)\u001b[0m\u001b[0;34m:\u001b[0m  \u001b[0;31m# pylint:disable=unused-argument\u001b[0m\u001b[0;34m\u001b[0m\u001b[0;34m\u001b[0m\u001b[0m\n",
            "\u001b[0;31mCalledProcessError\u001b[0m: Command '\ngcc lab6_2.c -o output \n./output\n' died with <Signals.SIGINT: 2>."
          ]
        }
      ]
    },
    {
      "cell_type": "code",
      "source": [
        "%%writefile lab6_3.c\n",
        "\n",
        "#include <stdio.h>\n",
        "#include <stdlib.h>\n",
        "#include <time.h>\n",
        "\n",
        "int main(void)\n",
        "{\n",
        "  int answer;\n",
        "  int guess;\n",
        "  int tries = 0;\n",
        "  srand(time(NULL));\n",
        "  answer = rand() % 100;\n",
        "\n",
        "  do \n",
        "  {\n",
        "    printf(\"정답을 추측하여 보시오:\");\n",
        "    scanf(\"%d\", &guess);\n",
        "    tries++;\n",
        "\n",
        "    if (guess > answer)\n",
        "      printf(\"제시한 정수가 높습니다. \\n\");\n",
        "    if (guess < answer)\n",
        "      printf(\"제시한 정수가 낮습니다. \\n\");\n",
        "  } while (guess != answer);\n",
        "\n",
        "  printf(\"축하합니다. 시도횟수=%d \\n\", tries);\n",
        "  return 0;\n",
        "}"
      ],
      "metadata": {
        "colab": {
          "base_uri": "https://localhost:8080/"
        },
        "id": "bX83ayWdvcRU",
        "outputId": "f886bb9b-1860-46b9-ec8c-d11c9c97d3e1"
      },
      "execution_count": null,
      "outputs": [
        {
          "output_type": "stream",
          "name": "stdout",
          "text": [
            "Overwriting lab6_3.c\n"
          ]
        }
      ]
    },
    {
      "cell_type": "code",
      "source": [
        "%%shell\n",
        "\n",
        "gcc lab6_3.c -o output\n",
        "./output"
      ],
      "metadata": {
        "colab": {
          "base_uri": "https://localhost:8080/"
        },
        "id": "0nCqhtLMxCI0",
        "outputId": "80989d3b-5f6f-4966-ea9b-6235ca451654"
      },
      "execution_count": null,
      "outputs": [
        {
          "output_type": "stream",
          "name": "stdout",
          "text": [
            "정답을 추측하여 보시오:50\n",
            "제시한 정수가 낮습니다. \n",
            "정답을 추측하여 보시오:61\n",
            "제시한 정수가 낮습니다. \n",
            "정답을 추측하여 보시오:100\n",
            "제시한 정수가 높습니다. \n",
            "정답을 추측하여 보시오:80\n",
            "제시한 정수가 높습니다. \n",
            "정답을 추측하여 보시오:70\n",
            "제시한 정수가 낮습니다. \n",
            "정답을 추측하여 보시오:75\n",
            "제시한 정수가 낮습니다. \n",
            "정답을 추측하여 보시오:77\n",
            "축하합니다. 시도횟수=7 \n"
          ]
        },
        {
          "output_type": "execute_result",
          "data": {
            "text/plain": []
          },
          "metadata": {},
          "execution_count": 17
        }
      ]
    },
    {
      "cell_type": "code",
      "source": [
        "%%writefile lab6_4.c\n",
        "\n",
        "#include <stdio.h>\n",
        "\n",
        "int main(void)\n",
        "{\n",
        "  long long num;\n",
        "  int count = 0;\n",
        "\n",
        "  printf(\"정수를 입력하시오:\");\n",
        "  scanf(\"%lld\", &num);\n",
        "\n",
        "  do\n",
        "  {\n",
        "    count++;\n",
        "    num /= 10;\n",
        "  } while (num != 0);\n",
        "\n",
        "  printf(\"총 자리수: %d\", count);\n",
        "  return 0;\n",
        "}"
      ],
      "metadata": {
        "colab": {
          "base_uri": "https://localhost:8080/"
        },
        "id": "7xjFcZPAxFZo",
        "outputId": "a75e9a1a-c89e-4e0a-d4bc-47608cbff34c"
      },
      "execution_count": null,
      "outputs": [
        {
          "output_type": "stream",
          "name": "stdout",
          "text": [
            "Writing lab6_4.c\n"
          ]
        }
      ]
    },
    {
      "cell_type": "code",
      "source": [
        "%%shell\n",
        "\n",
        "gcc lab6_4.c -o output\n",
        "./output"
      ],
      "metadata": {
        "colab": {
          "base_uri": "https://localhost:8080/"
        },
        "id": "mPFiGCcEyfnX",
        "outputId": "12ac014c-82a9-4ea6-b6c2-5454ffb29979"
      },
      "execution_count": null,
      "outputs": [
        {
          "output_type": "stream",
          "name": "stdout",
          "text": [
            "정수를 입력하시오:111222233333\n",
            "총 자리수: 12"
          ]
        },
        {
          "output_type": "execute_result",
          "data": {
            "text/plain": []
          },
          "metadata": {},
          "execution_count": 19
        }
      ]
    },
    {
      "cell_type": "code",
      "source": [
        "%%writefile lab6_5.c\n",
        "\n",
        "#include <stdio.h>\n",
        "\n",
        "int main(void)\n",
        "{\n",
        "  double money = 1.0;\n",
        "\n",
        "  for (int i=0; i<=30; i++)\n",
        "  {\n",
        "    money *= 2.0;\n",
        "    printf(\"%d일날 현재 금액=%lf \\n\", i, money);\n",
        "  }\n",
        "  return 0;\n",
        "}"
      ],
      "metadata": {
        "colab": {
          "base_uri": "https://localhost:8080/"
        },
        "id": "jqQ3jYIDyigw",
        "outputId": "db3170be-f49c-4d98-af02-fd0e0d33aa5d"
      },
      "execution_count": null,
      "outputs": [
        {
          "output_type": "stream",
          "name": "stdout",
          "text": [
            "Writing lab6_5.c\n"
          ]
        }
      ]
    },
    {
      "cell_type": "code",
      "source": [
        "%%shell\n",
        "\n",
        "gcc lab6_5.c -o output\n",
        "./output"
      ],
      "metadata": {
        "colab": {
          "base_uri": "https://localhost:8080/"
        },
        "id": "joq07ewLzFil",
        "outputId": "79e7dbd7-ec7c-4d57-88f1-268c478d6284"
      },
      "execution_count": null,
      "outputs": [
        {
          "output_type": "stream",
          "name": "stdout",
          "text": [
            "0일날 현재 금액=2.000000 \n",
            "1일날 현재 금액=4.000000 \n",
            "2일날 현재 금액=8.000000 \n",
            "3일날 현재 금액=16.000000 \n",
            "4일날 현재 금액=32.000000 \n",
            "5일날 현재 금액=64.000000 \n",
            "6일날 현재 금액=128.000000 \n",
            "7일날 현재 금액=256.000000 \n",
            "8일날 현재 금액=512.000000 \n",
            "9일날 현재 금액=1024.000000 \n",
            "10일날 현재 금액=2048.000000 \n",
            "11일날 현재 금액=4096.000000 \n",
            "12일날 현재 금액=8192.000000 \n",
            "13일날 현재 금액=16384.000000 \n",
            "14일날 현재 금액=32768.000000 \n",
            "15일날 현재 금액=65536.000000 \n",
            "16일날 현재 금액=131072.000000 \n",
            "17일날 현재 금액=262144.000000 \n",
            "18일날 현재 금액=524288.000000 \n",
            "19일날 현재 금액=1048576.000000 \n",
            "20일날 현재 금액=2097152.000000 \n",
            "21일날 현재 금액=4194304.000000 \n",
            "22일날 현재 금액=8388608.000000 \n",
            "23일날 현재 금액=16777216.000000 \n",
            "24일날 현재 금액=33554432.000000 \n",
            "25일날 현재 금액=67108864.000000 \n",
            "26일날 현재 금액=134217728.000000 \n",
            "27일날 현재 금액=268435456.000000 \n",
            "28일날 현재 금액=536870912.000000 \n",
            "29일날 현재 금액=1073741824.000000 \n",
            "30일날 현재 금액=2147483648.000000 \n"
          ]
        },
        {
          "output_type": "execute_result",
          "data": {
            "text/plain": []
          },
          "metadata": {},
          "execution_count": 21
        }
      ]
    },
    {
      "cell_type": "code",
      "source": [
        "%%writefile lab6_6.c\n",
        "\n",
        "#include <stdio.h>\n",
        "\n",
        "int main(void)\n",
        "{\n",
        "  int num, i = 1;\n",
        "  printf(\"정수를 입력하시오:\");\n",
        "  scanf(\"%d\", &num);\n",
        "  while (i <= num)\n",
        "  {\n",
        "    if (num % i == 0)\n",
        "      printf(\"%d \", i);\n",
        "    i++;\n",
        "  }\n",
        "  printf(\"\\n\\n\");\n",
        "  return 0;\n",
        "}"
      ],
      "metadata": {
        "colab": {
          "base_uri": "https://localhost:8080/"
        },
        "id": "31qB007xzJ5c",
        "outputId": "697d67cc-f648-46b5-b245-e8130085f193"
      },
      "execution_count": null,
      "outputs": [
        {
          "output_type": "stream",
          "name": "stdout",
          "text": [
            "Overwriting lab6_6.c\n"
          ]
        }
      ]
    },
    {
      "cell_type": "code",
      "source": [
        "%%shell\n",
        "\n",
        "gcc lab6_6.c -o output\n",
        "./output"
      ],
      "metadata": {
        "colab": {
          "base_uri": "https://localhost:8080/"
        },
        "id": "0QY7B6YfzkqB",
        "outputId": "a0fb56c4-cbcd-4756-c0d3-eccb14dc21f8"
      },
      "execution_count": null,
      "outputs": [
        {
          "output_type": "stream",
          "name": "stdout",
          "text": [
            "정수를 입력하시오:36\n",
            "1 2 3 4 6 9 12 18 36 \n",
            "\n"
          ]
        },
        {
          "output_type": "execute_result",
          "data": {
            "text/plain": []
          },
          "metadata": {},
          "execution_count": 31
        }
      ]
    },
    {
      "cell_type": "code",
      "source": [
        "%%writefile lab6_7.c\n",
        "\n",
        "#include <stdio.h>\n",
        "\n",
        "int main(void)\n",
        "{\n",
        "  int i, n;\n",
        "  double sum = 0.0;\n",
        "\n",
        "  printf(\"항의 개수: \");\n",
        "  scanf(\"%d\", &n);\n",
        "\n",
        "  for (i=1; i<=n; i++)\n",
        "    sum += 1.0 / (double)i;\n",
        "\n",
        "  printf(\"수열의 합=%lf \\n\\n\", sum);\n",
        "  return 0;\n",
        "}"
      ],
      "metadata": {
        "colab": {
          "base_uri": "https://localhost:8080/"
        },
        "id": "rxOkfPX7zm8v",
        "outputId": "fbea6e74-43b9-4997-c548-8b9799a00204"
      },
      "execution_count": null,
      "outputs": [
        {
          "output_type": "stream",
          "name": "stdout",
          "text": [
            "Writing lab6_7.c\n"
          ]
        }
      ]
    },
    {
      "cell_type": "code",
      "source": [
        "%%shell\n",
        "\n",
        "gcc lab6_7.c -o output\n",
        "./output"
      ],
      "metadata": {
        "colab": {
          "base_uri": "https://localhost:8080/"
        },
        "id": "XF4I99nf1D7c",
        "outputId": "bc63da42-18de-499e-c3c0-5d91763708a4"
      },
      "execution_count": null,
      "outputs": [
        {
          "output_type": "stream",
          "name": "stdout",
          "text": [
            "항의 개수: 10000000\n",
            "수열의 합=16.695311 \n",
            "\n"
          ]
        },
        {
          "output_type": "execute_result",
          "data": {
            "text/plain": []
          },
          "metadata": {},
          "execution_count": 33
        }
      ]
    },
    {
      "cell_type": "code",
      "source": [
        "%%writefile lab.c\n",
        "\n",
        "#include <stdio.h>\n",
        "\n",
        "int main(void)\n",
        "{\n",
        "  int i, k;\n",
        "  for (i=1; i<=9; i++)\n",
        "  {\n",
        "    for (k=1; k<=9; k++)\n",
        "    {\n",
        "      printf(\"%d X %d = %d \\n\", i, k, i*k);\n",
        "    }\n",
        "  }\n",
        "  return 0;\n",
        "}"
      ],
      "metadata": {
        "colab": {
          "base_uri": "https://localhost:8080/"
        },
        "id": "ezmP3xSf1F_b",
        "outputId": "ebe307e8-fe6e-42f3-a8ba-d7d78c608a7d"
      },
      "execution_count": null,
      "outputs": [
        {
          "output_type": "stream",
          "name": "stdout",
          "text": [
            "Writing lab.c\n"
          ]
        }
      ]
    },
    {
      "cell_type": "code",
      "source": [
        "%%shell\n",
        "\n",
        "gcc lab.c -o output\n",
        "./output"
      ],
      "metadata": {
        "colab": {
          "base_uri": "https://localhost:8080/"
        },
        "id": "PiRQyxwp1p65",
        "outputId": "e6188fbc-c2d1-4675-ed38-965577bba4c4"
      },
      "execution_count": null,
      "outputs": [
        {
          "output_type": "stream",
          "name": "stdout",
          "text": [
            "1 X 1 = 1 \n",
            "1 X 2 = 2 \n",
            "1 X 3 = 3 \n",
            "1 X 4 = 4 \n",
            "1 X 5 = 5 \n",
            "1 X 6 = 6 \n",
            "1 X 7 = 7 \n",
            "1 X 8 = 8 \n",
            "1 X 9 = 9 \n",
            "2 X 1 = 2 \n",
            "2 X 2 = 4 \n",
            "2 X 3 = 6 \n",
            "2 X 4 = 8 \n",
            "2 X 5 = 10 \n",
            "2 X 6 = 12 \n",
            "2 X 7 = 14 \n",
            "2 X 8 = 16 \n",
            "2 X 9 = 18 \n",
            "3 X 1 = 3 \n",
            "3 X 2 = 6 \n",
            "3 X 3 = 9 \n",
            "3 X 4 = 12 \n",
            "3 X 5 = 15 \n",
            "3 X 6 = 18 \n",
            "3 X 7 = 21 \n",
            "3 X 8 = 24 \n",
            "3 X 9 = 27 \n",
            "4 X 1 = 4 \n",
            "4 X 2 = 8 \n",
            "4 X 3 = 12 \n",
            "4 X 4 = 16 \n",
            "4 X 5 = 20 \n",
            "4 X 6 = 24 \n",
            "4 X 7 = 28 \n",
            "4 X 8 = 32 \n",
            "4 X 9 = 36 \n",
            "5 X 1 = 5 \n",
            "5 X 2 = 10 \n",
            "5 X 3 = 15 \n",
            "5 X 4 = 20 \n",
            "5 X 5 = 25 \n",
            "5 X 6 = 30 \n",
            "5 X 7 = 35 \n",
            "5 X 8 = 40 \n",
            "5 X 9 = 45 \n",
            "6 X 1 = 6 \n",
            "6 X 2 = 12 \n",
            "6 X 3 = 18 \n",
            "6 X 4 = 24 \n",
            "6 X 5 = 30 \n",
            "6 X 6 = 36 \n",
            "6 X 7 = 42 \n",
            "6 X 8 = 48 \n",
            "6 X 9 = 54 \n",
            "7 X 1 = 7 \n",
            "7 X 2 = 14 \n",
            "7 X 3 = 21 \n",
            "7 X 4 = 28 \n",
            "7 X 5 = 35 \n",
            "7 X 6 = 42 \n",
            "7 X 7 = 49 \n",
            "7 X 8 = 56 \n",
            "7 X 9 = 63 \n",
            "8 X 1 = 8 \n",
            "8 X 2 = 16 \n",
            "8 X 3 = 24 \n",
            "8 X 4 = 32 \n",
            "8 X 5 = 40 \n",
            "8 X 6 = 48 \n",
            "8 X 7 = 56 \n",
            "8 X 8 = 64 \n",
            "8 X 9 = 72 \n",
            "9 X 1 = 9 \n",
            "9 X 2 = 18 \n",
            "9 X 3 = 27 \n",
            "9 X 4 = 36 \n",
            "9 X 5 = 45 \n",
            "9 X 6 = 54 \n",
            "9 X 7 = 63 \n",
            "9 X 8 = 72 \n",
            "9 X 9 = 81 \n"
          ]
        },
        {
          "output_type": "execute_result",
          "data": {
            "text/plain": []
          },
          "metadata": {},
          "execution_count": 35
        }
      ]
    },
    {
      "cell_type": "code",
      "source": [
        "%%writefile lab6_8.c\n",
        "\n",
        "#include <stdio.h>\n",
        "#include <stdlib.h>\n",
        "\n",
        "int main(void)\n",
        "{\n",
        "  int i, ans;\n",
        "  printf(\"산수 문제를 자동으로 출제합니다. \\n\");\n",
        "\n",
        "  while (1)\n",
        "  {\n",
        "    int x = rand() % 100;\n",
        "    int y = rand() % 100;\n",
        "    printf(\"%d + %d = \", x, y);\n",
        "    scanf(\"%d\", &ans);\n",
        "    if (x + y == ans)\n",
        "    {\n",
        "      printf(\"맞았습니다. \\n\");\n",
        "      break;\n",
        "    }\n",
        "  else\n",
        "    printf(\"틀렸습니다. \\n\");\n",
        "  }\n",
        "  return 0;\n",
        "}"
      ],
      "metadata": {
        "colab": {
          "base_uri": "https://localhost:8080/"
        },
        "id": "142SS8fG1rqb",
        "outputId": "5e857267-1020-49a5-fc09-643106b95830"
      },
      "execution_count": null,
      "outputs": [
        {
          "output_type": "stream",
          "name": "stdout",
          "text": [
            "Overwriting lab6_8.c\n"
          ]
        }
      ]
    },
    {
      "cell_type": "code",
      "source": [
        "%%shell\n",
        "\n",
        "gcc lab6_8.c -o output\n",
        "./output"
      ],
      "metadata": {
        "colab": {
          "base_uri": "https://localhost:8080/"
        },
        "id": "nu72WK622eUD",
        "outputId": "45fb817d-3933-4b98-c704-f96d00f4b425"
      },
      "execution_count": null,
      "outputs": [
        {
          "output_type": "stream",
          "name": "stdout",
          "text": [
            "산수 문제를 자동으로 출제합니다. \n",
            "83 + 86 = 109\n",
            "틀렸습니다. \n",
            "77 + 15 = 92\n",
            "맞았습니다. \n"
          ]
        },
        {
          "output_type": "execute_result",
          "data": {
            "text/plain": []
          },
          "metadata": {},
          "execution_count": 38
        }
      ]
    },
    {
      "cell_type": "code",
      "source": [
        "%%writefile lab6_9.c\n",
        "\n",
        "#include <stdio.h>\n",
        "\n",
        "int main(void)\n",
        "{\n",
        "  int n, is_prime;\n",
        "\n",
        "  printf(\"어디까지 찾을까요?:\");\n",
        "  scanf(\"%d\", &n);\n",
        "\n",
        "  for (int i=2; i<=n; i++)\n",
        "  {\n",
        "    is_prime = 1;\n",
        "    for (int k=2; k<i; k++)\n",
        "    {\n",
        "      if (i%k == 0)\n",
        "      {\n",
        "        is_prime = 0;\n",
        "        break;\n",
        "      }\n",
        "    }\n",
        "    if (is_prime == 1)\n",
        "      printf(\"%d, \", i);\n",
        "  }\n",
        "  printf(\"\\n\\n\");\n",
        "  return 0;\n",
        "}"
      ],
      "metadata": {
        "colab": {
          "base_uri": "https://localhost:8080/"
        },
        "id": "IsDMrkql2m8k",
        "outputId": "4843d886-c2cb-429d-fa93-a01234b2fd9a"
      },
      "execution_count": null,
      "outputs": [
        {
          "output_type": "stream",
          "name": "stdout",
          "text": [
            "Writing lab6_9.c\n"
          ]
        }
      ]
    },
    {
      "cell_type": "code",
      "source": [
        "%%shell\n",
        "\n",
        "gcc lab6_9.c -o output\n",
        "./output"
      ],
      "metadata": {
        "colab": {
          "base_uri": "https://localhost:8080/"
        },
        "id": "c15-n_lA3S0c",
        "outputId": "5eb25251-9299-429b-c0d4-d32ebd923327"
      },
      "execution_count": null,
      "outputs": [
        {
          "output_type": "stream",
          "name": "stdout",
          "text": [
            "어디까지 찾을까요?:50\n",
            "2, 3, 5, 7, 11, 13, 17, 19, 23, 29, 31, 37, 41, 43, 47, \n",
            "\n"
          ]
        },
        {
          "output_type": "execute_result",
          "data": {
            "text/plain": []
          },
          "metadata": {},
          "execution_count": 40
        }
      ]
    },
    {
      "cell_type": "code",
      "source": [
        "%%writefile lab6_10.c\n",
        "\n",
        "#include <stdio.h>\n",
        "#include <time.h>\n",
        "#include <math.h>\n",
        "#include <stdlib.h>\n",
        "\n",
        "int main(void)\n",
        "{\n",
        "  srand(time(NULL));\n",
        "  int niter, inside_dots = 0;\n",
        "  double x, y, z, pi;\n",
        "\n",
        "  printf(\"반복횟수: \");\n",
        "  scanf(\"%d\", &niter);\n",
        "\n",
        "  inside_dots = 0;\n",
        "\n",
        "  for (int i=0; i<niter; i++)\n",
        "  {\n",
        "    x = (double)rand() / RAND_MAX;\n",
        "    y = (double)rand() / RAND_MAX;\n",
        "    z = x * x + y * y;\n",
        "    if (z<=1)\n",
        "    inside_dots++;\n",
        "  }\n",
        "  pi = (double)inside_dots / niter * 4;\n",
        "  printf(\"파이 = %lf \\n\\n\", pi);\n",
        "\n",
        "  return 0;\n",
        "}"
      ],
      "metadata": {
        "colab": {
          "base_uri": "https://localhost:8080/"
        },
        "id": "LT_Ryhv03Um3",
        "outputId": "2fac2087-608b-4d45-99ed-0b27908957cb"
      },
      "execution_count": null,
      "outputs": [
        {
          "output_type": "stream",
          "name": "stdout",
          "text": [
            "Overwriting lab6_10.c\n"
          ]
        }
      ]
    },
    {
      "cell_type": "code",
      "source": [
        "%%shell\n",
        "\n",
        "gcc lab6_10.c -o output -lm\n",
        "./output"
      ],
      "metadata": {
        "colab": {
          "base_uri": "https://localhost:8080/"
        },
        "id": "W2oSJKKL4POy",
        "outputId": "e7d802c0-fc5c-4990-a239-b29943c9f178"
      },
      "execution_count": null,
      "outputs": [
        {
          "output_type": "stream",
          "name": "stdout",
          "text": [
            "반복횟수: 1000000\n",
            "파이 = 3.140948 \n",
            "\n"
          ]
        },
        {
          "output_type": "execute_result",
          "data": {
            "text/plain": []
          },
          "metadata": {},
          "execution_count": 59
        }
      ]
    },
    {
      "cell_type": "code",
      "source": [
        "%%writefile miniproject6_11.c\n",
        "\n",
        "#define _CRT_SECURE_NO_WARNINGS\n",
        "#include  <stdio.h>\n",
        "#include <time.h>\n",
        "#include <stdlib.h>\n",
        "\n",
        "int main(void)\n",
        "{\n",
        "    int sticks = 12;\n",
        "    int user, computer;\n",
        "\n",
        "    srand(time(NULL));       \n",
        "    printf(\"현재 스틱의 개수:%d\\n\", sticks);\n",
        " \n",
        "    while (sticks > 0)\n",
        "    {\n",
        "        printf(\"몇개의 스틱을 가져가시겠습니까? : \");\n",
        "        scanf(\"%d\", &user);\n",
        "        if (user < 1 || user > 3) {\n",
        "            printf(\"1개부터 3개까지 가능합니다.\\n\\n\");\n",
        "            continue;\n",
        "        }\n",
        "        sticks -= user;\n",
        "        computer = rand() % 4;\n",
        "\n",
        "        if (sticks < computer) \n",
        "        computer = sticks;\n",
        "        sticks -= computer;\n",
        "        printf(\"**컴퓨터는 %d개의 스틱을 가져갔습니다.\\n\", computer);\n",
        "        printf(\"현재 스틱의 개수:%d\\n\\n\", sticks);\n",
        " \n",
        "    }\n",
        "    return 0;\n",
        "}"
      ],
      "metadata": {
        "colab": {
          "base_uri": "https://localhost:8080/"
        },
        "id": "6gLCzRCh4S9B",
        "outputId": "c604ee96-828c-45f8-9966-3be92dd813cf"
      },
      "execution_count": null,
      "outputs": [
        {
          "output_type": "stream",
          "name": "stdout",
          "text": [
            "Overwriting miniproject6_11.c\n"
          ]
        }
      ]
    },
    {
      "cell_type": "code",
      "source": [
        "%%shell\n",
        "\n",
        "gcc miniproject6_11.c -o output\n",
        "./output"
      ],
      "metadata": {
        "colab": {
          "base_uri": "https://localhost:8080/"
        },
        "id": "zPZBTV477QQ5",
        "outputId": "714cf25c-3eca-4e56-aaeb-eba5397663b9"
      },
      "execution_count": null,
      "outputs": [
        {
          "output_type": "stream",
          "name": "stdout",
          "text": [
            "현재 스틱의 개수:12\n",
            "몇개의 스틱을 가져가시겠습니까? : 2\n",
            "**컴퓨터는 0개의 스틱을 가져갔습니다.\n",
            "현재 스틱의 개수:10\n",
            "\n",
            "몇개의 스틱을 가져가시겠습니까? : 3\n",
            "**컴퓨터는 0개의 스틱을 가져갔습니다.\n",
            "현재 스틱의 개수:7\n",
            "\n",
            "몇개의 스틱을 가져가시겠습니까? : 3\n",
            "**컴퓨터는 2개의 스틱을 가져갔습니다.\n",
            "현재 스틱의 개수:2\n",
            "\n",
            "몇개의 스틱을 가져가시겠습니까? : 1\n",
            "**컴퓨터는 1개의 스틱을 가져갔습니다.\n",
            "현재 스틱의 개수:0\n",
            "\n"
          ]
        },
        {
          "output_type": "execute_result",
          "data": {
            "text/plain": []
          },
          "metadata": {},
          "execution_count": 58
        }
      ]
    },
    {
      "cell_type": "code",
      "source": [],
      "metadata": {
        "id": "S4Y5E_ZH7TTU"
      },
      "execution_count": null,
      "outputs": []
    }
  ]
}
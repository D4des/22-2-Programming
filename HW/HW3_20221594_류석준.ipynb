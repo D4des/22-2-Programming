{
  "nbformat": 4,
  "nbformat_minor": 0,
  "metadata": {
    "colab": {
      "provenance": []
    },
    "kernelspec": {
      "name": "python3",
      "display_name": "Python 3"
    },
    "language_info": {
      "name": "python"
    }
  },
  "cells": [
    {
      "cell_type": "code",
      "execution_count": 1,
      "metadata": {
        "colab": {
          "base_uri": "https://localhost:8080/"
        },
        "id": "SUnMQ_x4upuz",
        "outputId": "704512b9-1561-4447-f3e8-207efa851c50"
      },
      "outputs": [
        {
          "output_type": "stream",
          "name": "stdout",
          "text": [
            "Overwriting programming_1.c\n"
          ]
        }
      ],
      "source": [
        "%%writefile programming_1.c\n",
        "\n",
        "#include <stdio.h>\n",
        "\n",
        "int main(void) \n",
        "{\n",
        "  double real_number_point;\n",
        "\n",
        "  printf(\"실수를 입력하시오: \");\n",
        "  scanf(\"%lf\", &real_number_point);\n",
        "\n",
        "  printf(\"지수 형식으로는 %le입니다. \\n\", real_number_point);\n",
        "\n",
        "  return 0;\n",
        "}"
      ]
    },
    {
      "cell_type": "code",
      "source": [
        "%%shell\n",
        "\n",
        "gcc programming_1.c -o output\n",
        "./output"
      ],
      "metadata": {
        "colab": {
          "base_uri": "https://localhost:8080/"
        },
        "id": "CvbxUQKdwbfR",
        "outputId": "e5a7d8d4-6e16-4ca4-fb87-04a8edaea438"
      },
      "execution_count": 2,
      "outputs": [
        {
          "output_type": "stream",
          "name": "stdout",
          "text": [
            "실수를 입력하시오: 1.235\n",
            "지수 형식으로는 1.235000e+00입니다. \n"
          ]
        },
        {
          "output_type": "execute_result",
          "data": {
            "text/plain": []
          },
          "metadata": {},
          "execution_count": 2
        }
      ]
    },
    {
      "cell_type": "code",
      "source": [
        "%%writefile programming_2.c\n",
        "\n",
        "#include <stdio.h>\n",
        "\n",
        "int main(void) \n",
        "{\n",
        "  double real_number_exponent;\n",
        "\n",
        "  printf(\"지수형식으로 실수를 입력하시오: \");\n",
        "  scanf(\"%le\", &real_number_exponent);\n",
        "\n",
        "  printf(\"소수점 표시 형식으로는 %lf입니다. \\n\", real_number_exponent);\n",
        "\n",
        "  return 0;\n",
        "}"
      ],
      "metadata": {
        "colab": {
          "base_uri": "https://localhost:8080/"
        },
        "id": "mi3FMphzwk4q",
        "outputId": "2d4829c3-9a9b-4724-966c-8f393f71932d"
      },
      "execution_count": 3,
      "outputs": [
        {
          "output_type": "stream",
          "name": "stdout",
          "text": [
            "Overwriting programming_2.c\n"
          ]
        }
      ]
    },
    {
      "cell_type": "code",
      "source": [
        "%%shell\n",
        "\n",
        "gcc programming_2.c -o output\n",
        "./output"
      ],
      "metadata": {
        "colab": {
          "base_uri": "https://localhost:8080/"
        },
        "id": "qzDhksa-yScC",
        "outputId": "1630d9f2-f0eb-4926-d2c1-6416223fcf4d"
      },
      "execution_count": 4,
      "outputs": [
        {
          "output_type": "stream",
          "name": "stdout",
          "text": [
            "지수형식으로 실수를 입력하시오: 1.234e10\n",
            "소수점 표시 형식으로는 12340000000.000000입니다. \n"
          ]
        },
        {
          "output_type": "execute_result",
          "data": {
            "text/plain": []
          },
          "metadata": {},
          "execution_count": 4
        }
      ]
    },
    {
      "cell_type": "code",
      "source": [
        "%%writefile programming_3.c\n",
        "\n",
        "#define _CRT_SECURE_NO_WARNINGS\n",
        "#include <stdio.h>\n",
        "#define PI          3.141592\n",
        "\n",
        "int main(void)\n",
        "{\n",
        "    double radius;\n",
        "    double area;\n",
        "    double volume;\n",
        "\n",
        "    printf(\"반지름을 입력하시오:\");\n",
        "    scanf(\"%lf\", &radius);\n",
        "\n",
        "    area = 4.0*PI*(radius*radius);\n",
        "    printf(\"구의 표면적:%lf \\n\", area);\n",
        "\n",
        "    area = 4.0/3.0*PI*(radius*radius*radius);\n",
        "    printf(\"구의 부피:%lf \\n\", area);\n",
        "\n",
        "    return 0;\n",
        "}"
      ],
      "metadata": {
        "colab": {
          "base_uri": "https://localhost:8080/"
        },
        "id": "9r3pQe9NykB7",
        "outputId": "ece7a4e8-14f7-4839-aa93-e659bfef2040"
      },
      "execution_count": 5,
      "outputs": [
        {
          "output_type": "stream",
          "name": "stdout",
          "text": [
            "Overwriting programming_3.c\n"
          ]
        }
      ]
    },
    {
      "cell_type": "code",
      "source": [
        "%%shell\n",
        "\n",
        "gcc programming_3.c -o output\n",
        "./output"
      ],
      "metadata": {
        "colab": {
          "base_uri": "https://localhost:8080/"
        },
        "id": "YoF8qN4Z09BL",
        "outputId": "0040b166-8187-4c49-ee26-34456e71fe73"
      },
      "execution_count": 6,
      "outputs": [
        {
          "output_type": "stream",
          "name": "stdout",
          "text": [
            "반지름을 입력하시오:60.0\n",
            "구의 표면적:45238.924800 \n",
            "구의 부피:904778.496000 \n"
          ]
        },
        {
          "output_type": "execute_result",
          "data": {
            "text/plain": []
          },
          "metadata": {},
          "execution_count": 6
        }
      ]
    },
    {
      "cell_type": "code",
      "source": [
        "%%writefile programming_4.c\n",
        "\n",
        "#include <stdio.h>\n",
        "\n",
        "int main(void) \n",
        "{\n",
        "  double x;\n",
        "  double y;\n",
        "\n",
        "  printf(\"x의 값을 입력하시오: \");\n",
        "  scanf(\"%lf\", &x);\n",
        "\n",
        "  y = (3*x*x*x)-(7*x*x)+9;\n",
        "  printf(\"다항식의 값은 %lf입니다. \\n\", y);\n",
        "\n",
        "  return 0;\n",
        "}"
      ],
      "metadata": {
        "colab": {
          "base_uri": "https://localhost:8080/"
        },
        "id": "4ZicU7rw36MU",
        "outputId": "e9d9b62b-26b5-4af8-9363-49d3fca9e2a1"
      },
      "execution_count": 14,
      "outputs": [
        {
          "output_type": "stream",
          "name": "stdout",
          "text": [
            "Overwriting programming_4.c\n"
          ]
        }
      ]
    },
    {
      "cell_type": "code",
      "source": [
        "%%shell\n",
        "\n",
        "gcc programming_4.c -o output\n",
        "./output"
      ],
      "metadata": {
        "colab": {
          "base_uri": "https://localhost:8080/"
        },
        "id": "TKakBhxt6AN_",
        "outputId": "a7edcbdb-20cf-4501-840b-5069f86a0f79"
      },
      "execution_count": 15,
      "outputs": [
        {
          "output_type": "stream",
          "name": "stdout",
          "text": [
            "x의 값을 입력하시오: 3.9\n",
            "다항식의 값은 80.487000입니다. \n"
          ]
        },
        {
          "output_type": "execute_result",
          "data": {
            "text/plain": []
          },
          "metadata": {},
          "execution_count": 15
        }
      ]
    },
    {
      "cell_type": "code",
      "source": [
        "%%writefile programming_5.c\n",
        "\n",
        "#include <stdio.h>\n",
        "\n",
        "int main(void) \n",
        "{\n",
        "  char ch;\n",
        "\n",
        "  printf(\"문자를 입력하시오: \");\n",
        "  ch = getchar();\n",
        "\n",
        "  printf(\"아스키 코드: %d \\n\", ch);\n",
        "\n",
        "  return 0;\n",
        "}"
      ],
      "metadata": {
        "colab": {
          "base_uri": "https://localhost:8080/"
        },
        "id": "NvJYXBrm6B3B",
        "outputId": "1ca58a8c-35db-4820-bbb6-24945f4ea7cd"
      },
      "execution_count": 16,
      "outputs": [
        {
          "output_type": "stream",
          "name": "stdout",
          "text": [
            "Writing programming_5.c\n"
          ]
        }
      ]
    },
    {
      "cell_type": "code",
      "source": [
        "%%shell\n",
        "\n",
        "gcc programming_5.c -o output\n",
        "./output"
      ],
      "metadata": {
        "colab": {
          "base_uri": "https://localhost:8080/"
        },
        "id": "eTgesGVo8ryD",
        "outputId": "dcd77c3c-9d94-4ac0-cd7c-81fddc7b25fd"
      },
      "execution_count": 17,
      "outputs": [
        {
          "output_type": "stream",
          "name": "stdout",
          "text": [
            "문자를 입력하시오: a\n",
            "아스키 코드: 97 \n"
          ]
        },
        {
          "output_type": "execute_result",
          "data": {
            "text/plain": []
          },
          "metadata": {},
          "execution_count": 17
        }
      ]
    },
    {
      "cell_type": "code",
      "source": [
        "%%writefile programming_6.c\n",
        "\n",
        "#include <stdio.h>\n",
        "\n",
        "int main(void) \n",
        "{\n",
        "  char a;\n",
        "  char b;\n",
        "  char c;\n",
        "\n",
        "  printf(\"문자를 입력하시오: \");\n",
        "  scanf(\"%c %c %c\", &a, &b, &c);\n",
        "\n",
        "  printf(\"문자: %c %c %c \\n\", c, b, a);\n",
        "\n",
        "  return 0;\n",
        "}"
      ],
      "metadata": {
        "colab": {
          "base_uri": "https://localhost:8080/"
        },
        "id": "oTiHj78E8zOm",
        "outputId": "833566f6-586d-4932-c36e-00f8a8feca24"
      },
      "execution_count": 24,
      "outputs": [
        {
          "output_type": "stream",
          "name": "stdout",
          "text": [
            "Overwriting programming_6.c\n"
          ]
        }
      ]
    },
    {
      "cell_type": "code",
      "source": [
        "%%shell\n",
        "\n",
        "gcc programming_6.c -o output\n",
        "./output"
      ],
      "metadata": {
        "colab": {
          "base_uri": "https://localhost:8080/"
        },
        "id": "A04rk8mf9m_H",
        "outputId": "d585f5ac-cf79-4007-e683-9905f75f47f9"
      },
      "execution_count": 25,
      "outputs": [
        {
          "output_type": "stream",
          "name": "stdout",
          "text": [
            "문자를 입력하시오: a b c\n",
            "문자: c b a \n"
          ]
        },
        {
          "output_type": "execute_result",
          "data": {
            "text/plain": []
          },
          "metadata": {},
          "execution_count": 25
        }
      ]
    },
    {
      "cell_type": "code",
      "source": [
        "%%writefile programming_7.c\n",
        "\n",
        "#include <stdio.h>\n",
        "\n",
        "int main(void) \n",
        "{\n",
        "  printf(\"char형의 크기는 %ld바이트입니다. \\n\", sizeof(char));\n",
        "  printf(\"short형의 크기는 %ld바이트입니다. \\n\", sizeof(short));\n",
        "  printf(\"int형의 크기는 %ld바이트입니다. \\n\", sizeof(int));\n",
        "  printf(\"long형의 크기는 %ld바이트입니다. \\n\", sizeof(long));\n",
        "  printf(\"long long형의 크기는 %ld바이트입니다. \\n\", sizeof(long long));\n",
        "  printf(\"float형의 크기는 %ld바이트입니다. \\n\", sizeof(float));\n",
        "  printf(\"double형의 크기는 %ld바이트입니다. \\n\", sizeof(double));\n",
        "  printf(\"long double형의 크기는 %ld바이트입니다. \\n\", sizeof(long double));\n",
        "\n",
        "  return 0;\n",
        "\n",
        "  //long과 long double은 운영체제나 플랫폼에 따라 크기가 달라진다. colab은 우분투x64 기반이므로 LP64,\n",
        "  책에서 보인 결과값은 윈도우(LLP64)를 이용하여 나왔을 가능성이 크다.\n",
        "}"
      ],
      "metadata": {
        "colab": {
          "base_uri": "https://localhost:8080/"
        },
        "id": "MX9PSNma91LK",
        "outputId": "6cdd7b92-d8ce-4355-a332-555e7f9bed1a"
      },
      "execution_count": 92,
      "outputs": [
        {
          "output_type": "stream",
          "name": "stdout",
          "text": [
            "Overwriting programming_7.c\n"
          ]
        }
      ]
    },
    {
      "cell_type": "code",
      "source": [
        "%%shell\n",
        "\n",
        "gcc programming_7.c -o output\n",
        "./output"
      ],
      "metadata": {
        "colab": {
          "base_uri": "https://localhost:8080/"
        },
        "id": "l0ree7_b_cTE",
        "outputId": "0bfc6c62-77d3-4e50-e652-7d4f52727c93"
      },
      "execution_count": 93,
      "outputs": [
        {
          "output_type": "stream",
          "name": "stdout",
          "text": [
            "char형의 크기는 1바이트입니다. \n",
            "short형의 크기는 2바이트입니다. \n",
            "int형의 크기는 4바이트입니다. \n",
            "long형의 크기는 8바이트입니다. \n",
            "long long형의 크기는 8바이트입니다. \n",
            "float형의 크기는 4바이트입니다. \n",
            "double형의 크기는 8바이트입니다. \n",
            "long double형의 크기는 16바이트입니다. \n"
          ]
        },
        {
          "output_type": "execute_result",
          "data": {
            "text/plain": []
          },
          "metadata": {},
          "execution_count": 93
        }
      ]
    },
    {
      "cell_type": "code",
      "source": [
        "%%writefile programming_8.c\n",
        "#define meter_to_kilometer    1000\n",
        "#define hour_to_minute    60\n",
        "#define minute_to_second    3600\n",
        "#include <stdio.h>\n",
        "\n",
        "int main()\n",
        "{\n",
        "  double distance;\n",
        "  double hour;\n",
        "  double minute;\n",
        "  double second;\n",
        "  double velocity;\n",
        "\n",
        "  printf(\"거리를 미터로 입력하시오: \");\n",
        "  scanf(\"%lf\", &distance);\n",
        "  printf(\"시간을 입력하시오: \");\n",
        "  scanf(\"%lf\", &hour);\n",
        "  printf(\"분을 입력하시오: \");\n",
        "  scanf(\"%lf\", &minute);\n",
        "  printf(\"초를 입력하시오: \");\n",
        "  scanf(\"%lf\", &second);\n",
        "\n",
        "  velocity = (distance/meter_to_kilometer)/(hour+(minute/hour_to_minute)+(second/minute_to_second));\n",
        "  printf(\"속도:%lf \\n\",velocity);\n",
        "\n",
        "  return 0;\n",
        "}"
      ],
      "metadata": {
        "colab": {
          "base_uri": "https://localhost:8080/"
        },
        "id": "q1oG_H-gKSbH",
        "outputId": "2f187d04-bb85-4f82-da8a-9b828ba3e1f9"
      },
      "execution_count": 84,
      "outputs": [
        {
          "output_type": "stream",
          "name": "stdout",
          "text": [
            "Overwriting programming_8.c\n"
          ]
        }
      ]
    },
    {
      "cell_type": "code",
      "source": [
        "%%shell\n",
        "\n",
        "gcc programming_8.c -o output\n",
        "./output"
      ],
      "metadata": {
        "colab": {
          "base_uri": "https://localhost:8080/"
        },
        "id": "ra1fY4VJKlQ-",
        "outputId": "6833b78d-46a8-4327-bd41-3f8639bfe5a1"
      },
      "execution_count": 85,
      "outputs": [
        {
          "output_type": "stream",
          "name": "stdout",
          "text": [
            "거리를 미터로 입력하시오: 5000\n",
            "시간을 입력하시오: 1\n",
            "분을 입력하시오: 2\n",
            "초를 입력하시오: 10\n",
            "속도:4.825737 \n"
          ]
        },
        {
          "output_type": "execute_result",
          "data": {
            "text/plain": []
          },
          "metadata": {},
          "execution_count": 85
        }
      ]
    }
  ]
}

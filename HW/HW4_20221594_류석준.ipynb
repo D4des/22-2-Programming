{
  "nbformat": 4,
  "nbformat_minor": 0,
  "metadata": {
    "colab": {
      "provenance": [],
      "collapsed_sections": []
    },
    "kernelspec": {
      "name": "python3",
      "display_name": "Python 3"
    },
    "language_info": {
      "name": "python"
    }
  },
  "cells": [
    {
      "cell_type": "code",
      "execution_count": null,
      "metadata": {
        "colab": {
          "base_uri": "https://localhost:8080/"
        },
        "id": "2fX2Jk62hhxs",
        "outputId": "cba030b6-91e2-432f-e7d6-fcc7b2fc56b0"
      },
      "outputs": [
        {
          "output_type": "stream",
          "name": "stdout",
          "text": [
            "Overwriting pm_1.c\n"
          ]
        }
      ],
      "source": [
        "%%writefile pm_1.c\n",
        "\n",
        "#include <stdio.h>\n",
        "\n",
        "int main(void)\n",
        "{\n",
        "  float weight, height, bmi;\n",
        "\n",
        "  printf(\"체중을 입력하시오: \");\n",
        "  scanf(\"%f\", &weight);\n",
        "\n",
        "  printf(\"신장을 입력하시오(단위: 미터): \");\n",
        "  scanf(\"%f\", &height);\n",
        "\n",
        "  bmi = weight / (height * height);\n",
        "  printf(\"BMI: %.2f\", bmi);\n",
        "\n",
        "  return 0;\n",
        "}"
      ]
    },
    {
      "cell_type": "code",
      "source": [
        "%%shell \n",
        "\n",
        "gcc pm_1.c -o output\n",
        "./output"
      ],
      "metadata": {
        "colab": {
          "base_uri": "https://localhost:8080/"
        },
        "id": "3Trf62z7lRmW",
        "outputId": "aad08a4c-2fa3-45b4-b4ed-34c35cc127a4"
      },
      "execution_count": null,
      "outputs": [
        {
          "output_type": "stream",
          "name": "stdout",
          "text": [
            "체중을 입력하시오: 85\n",
            "신장을 입력하시오(단위: 미터): 1.8\n",
            "BMI: 26.23"
          ]
        },
        {
          "output_type": "execute_result",
          "data": {
            "text/plain": []
          },
          "metadata": {},
          "execution_count": 16
        }
      ]
    },
    {
      "cell_type": "code",
      "source": [
        "%%writefile pm_2.c\n",
        "\n",
        "#include <stdio.h>\n",
        "\n",
        "int main(void)\n",
        "{\n",
        "  int x, y, z, calc;\n",
        "\n",
        "  printf(\"정수를 3개 입력하시오: \");\n",
        "  scanf(\"%d%d%d\", &x, &y, &z);\n",
        "  \n",
        "  calc = x * y - z;\n",
        "  printf(\"%d*%d-%d = %d\",x ,y ,z, calc);\n",
        "\n",
        "  return 0;\n",
        "}"
      ],
      "metadata": {
        "colab": {
          "base_uri": "https://localhost:8080/"
        },
        "id": "2elvW9-wledq",
        "outputId": "6554dc90-0101-4f30-eebf-c2093a89a822"
      },
      "execution_count": null,
      "outputs": [
        {
          "output_type": "stream",
          "name": "stdout",
          "text": [
            "Writing pm_2.c\n"
          ]
        }
      ]
    },
    {
      "cell_type": "code",
      "source": [
        "%%shell \n",
        "\n",
        "gcc pm_2.c -o output\n",
        "./output"
      ],
      "metadata": {
        "colab": {
          "base_uri": "https://localhost:8080/"
        },
        "id": "LaRiInZJn-8a",
        "outputId": "00a5d3c6-62d7-41d1-c290-692e87cb1739"
      },
      "execution_count": null,
      "outputs": [
        {
          "output_type": "stream",
          "name": "stdout",
          "text": [
            "정수를 3개 입력하시오: 1 2 3\n",
            "1*2-3 = -1"
          ]
        },
        {
          "output_type": "execute_result",
          "data": {
            "text/plain": []
          },
          "metadata": {},
          "execution_count": 10
        }
      ]
    },
    {
      "cell_type": "code",
      "source": [
        "%%writefile pm_3.c\n",
        "\n",
        "#include <stdio.h>\n",
        "\n",
        "int main(void)\n",
        "{\n",
        "  int price; //상품 가격\n",
        "  double disc_rate; //할인률\n",
        "  double disc_price; //할인된 가격\n",
        "\n",
        "  printf(\"상품 가격을 입력하시오: \");\n",
        "  scanf(\"%d\", &price);\n",
        "\n",
        "  printf(\"할인률을 입력하시오: \");\n",
        "  scanf(\"%lf\", &disc_rate);\n",
        "\n",
        "  disc_price = (price-price * disc_rate/100.0);\n",
        "  printf(\"할인된 가격은 %.2lf입니다.\", disc_price);\n",
        "\n",
        "  return 0;\n",
        "}"
      ],
      "metadata": {
        "colab": {
          "base_uri": "https://localhost:8080/"
        },
        "id": "Q3vkxLy2oBpy",
        "outputId": "7a2a926d-a47a-40dc-b429-6ca810e8fb1f"
      },
      "execution_count": null,
      "outputs": [
        {
          "output_type": "stream",
          "name": "stdout",
          "text": [
            "Writing pm_3.c\n"
          ]
        }
      ]
    },
    {
      "cell_type": "code",
      "source": [
        "%%shell \n",
        "\n",
        "gcc pm_3.c -o output\n",
        "./output"
      ],
      "metadata": {
        "colab": {
          "base_uri": "https://localhost:8080/"
        },
        "id": "vr9FLG3MphcY",
        "outputId": "e088e482-3330-4fb9-f247-29696739a920"
      },
      "execution_count": null,
      "outputs": [
        {
          "output_type": "stream",
          "name": "stdout",
          "text": [
            "상품 가격을 입력하시오: 20000\n",
            "할인률을 입력하시오: 10\n",
            "할인된 가격은 18000.00입니다."
          ]
        },
        {
          "output_type": "execute_result",
          "data": {
            "text/plain": []
          },
          "metadata": {},
          "execution_count": 14
        }
      ]
    },
    {
      "cell_type": "code",
      "source": [
        "%%writefile pm_4.c\n",
        "\n",
        "#include <stdio.h>\n",
        "\n",
        "int main(void)\n",
        "{\n",
        "  float kor, eng, math, total, avg;\n",
        "\n",
        "  printf(\"3과목의 점수를 입력한다: \");\n",
        "  scanf(\"%f%f%f\", &kor, &eng, &math);\n",
        "\n",
        "  total = kor + eng + math;\n",
        "  printf(\"총점=%.2f \\n\", total);\n",
        "\n",
        "  avg = (kor + eng + math) / 3;\n",
        "  printf(\"평균=%.2f \\n\", avg);\n",
        "  \n",
        "  return 0;\n",
        "}"
      ],
      "metadata": {
        "colab": {
          "base_uri": "https://localhost:8080/"
        },
        "id": "JLs8sBRxpkG_",
        "outputId": "c5dfff19-ed34-4e5c-eff7-7a5a85bc7dcf"
      },
      "execution_count": null,
      "outputs": [
        {
          "output_type": "stream",
          "name": "stdout",
          "text": [
            "Writing pm_4.c\n"
          ]
        }
      ]
    },
    {
      "cell_type": "code",
      "source": [
        "%%shell \n",
        "\n",
        "gcc pm_4.c -o output\n",
        "./output"
      ],
      "metadata": {
        "colab": {
          "base_uri": "https://localhost:8080/"
        },
        "id": "5DCo1_MErU29",
        "outputId": "5563ce27-bac7-4db0-aa68-739339875196"
      },
      "execution_count": null,
      "outputs": [
        {
          "output_type": "stream",
          "name": "stdout",
          "text": [
            "3과목의 점수를 입력한다: 80 70 90\n",
            "총점=240.00 \n",
            "평균=80.00 \n"
          ]
        },
        {
          "output_type": "execute_result",
          "data": {
            "text/plain": []
          },
          "metadata": {},
          "execution_count": 18
        }
      ]
    },
    {
      "cell_type": "code",
      "source": [
        "%%writefile pm_5.c\n",
        "\n",
        "#include <stdio.h>\n",
        "\n",
        "int main(void)\n",
        "{\n",
        "  int x, y, quotient, remainder;\n",
        "\n",
        "  printf(\"첫 번째 정수를 입력하시오: \");\n",
        "  scanf(\"%d\", &x);\n",
        "\n",
        "  printf(\"두 번째 정수를 입력하시오: \");\n",
        "  scanf(\"%d\", &y);\n",
        "\n",
        "  quotient = x / y;\n",
        "  remainder = x % y;\n",
        "  printf(\"몫은 %d이고 나머지는 %d입니다.\",quotient, remainder);\n",
        "\n",
        "  return 0;\n",
        "}"
      ],
      "metadata": {
        "colab": {
          "base_uri": "https://localhost:8080/"
        },
        "id": "e9mzhAWerYFD",
        "outputId": "3af9d278-445d-48eb-ac41-1a36b54ab76a"
      },
      "execution_count": null,
      "outputs": [
        {
          "output_type": "stream",
          "name": "stdout",
          "text": [
            "Overwriting pm_5.c\n"
          ]
        }
      ]
    },
    {
      "cell_type": "code",
      "source": [
        "%%shell \n",
        "\n",
        "gcc pm_5.c -o output\n",
        "./output"
      ],
      "metadata": {
        "colab": {
          "base_uri": "https://localhost:8080/"
        },
        "id": "AKrm7-t_tygb",
        "outputId": "52212ed6-e194-409b-f19a-5cca73d905c1"
      },
      "execution_count": null,
      "outputs": [
        {
          "output_type": "stream",
          "name": "stdout",
          "text": [
            "첫 번째 정수를 입력하시오: 10\n",
            "두 번째 정수를 입력하시오: 3\n",
            "몫은 3이고 나머지는 1입니다."
          ]
        },
        {
          "output_type": "execute_result",
          "data": {
            "text/plain": []
          },
          "metadata": {},
          "execution_count": 23
        }
      ]
    },
    {
      "cell_type": "code",
      "source": [
        "%%writefile pm_6.c\n",
        "\n",
        "#include <stdio.h>\n",
        "\n",
        "int main(void)\n",
        "{\n",
        "  int integer, hundreds, tens, units; \n",
        "\n",
        "  printf(\"정수를 입력하시오: \");\n",
        "  scanf(\"%d\", &integer);\n",
        "\n",
        "  hundreds = integer/100;\n",
        "  printf(\"백의 자리수: %d \\n\", hundreds);\n",
        "\n",
        "  tens = (integer%100)/10;\n",
        "  printf(\"십의 자리수: %d \\n\", tens);\n",
        "\n",
        "  units = (integer%10);\n",
        "  printf(\"일의 자리수: %d \\n\", units);\n",
        "\n",
        "  return 0;\n",
        "}"
      ],
      "metadata": {
        "colab": {
          "base_uri": "https://localhost:8080/"
        },
        "id": "vNG9da3YuQZE",
        "outputId": "b04bafab-acb5-4df6-c573-b0147fbb68b5"
      },
      "execution_count": null,
      "outputs": [
        {
          "output_type": "stream",
          "name": "stdout",
          "text": [
            "Overwriting pm_6.c\n"
          ]
        }
      ]
    },
    {
      "cell_type": "code",
      "source": [
        "%%shell\n",
        "\n",
        "gcc pm_6.c -o output\n",
        "./output"
      ],
      "metadata": {
        "colab": {
          "base_uri": "https://localhost:8080/"
        },
        "id": "jXEe6oriu_Lx",
        "outputId": "6db5a4b0-f2b6-4234-ed81-a68a31be8688"
      },
      "execution_count": null,
      "outputs": [
        {
          "output_type": "stream",
          "name": "stdout",
          "text": [
            "정수를 입력하시오: 378\n",
            "백의 자리수: 3 \n",
            "십의 자리수: 7 \n",
            "일의 자리수: 8 \n"
          ]
        },
        {
          "output_type": "execute_result",
          "data": {
            "text/plain": []
          },
          "metadata": {},
          "execution_count": 28
        }
      ]
    },
    {
      "cell_type": "code",
      "source": [
        "%%writefile pm_7.c\n",
        "\n",
        "#include <stdio.h>\n",
        "\n",
        "int main(void)\n",
        "{\n",
        "  double x, calc;\n",
        "\n",
        "  printf(\"x의 값을 입력하시오: \");\n",
        "  scanf(\"%lf\", &x);\n",
        "\n",
        "  calc = (x*x*x - 20) / (x - 7);\n",
        "  printf(\"수식의 값은 %lf입니다.\", calc);\n",
        "\n",
        "  return 0;\n",
        "}"
      ],
      "metadata": {
        "colab": {
          "base_uri": "https://localhost:8080/"
        },
        "id": "g0ThxfvFzEFR",
        "outputId": "5cda4fe6-e6d5-4c8d-de5e-bfaebd05fa29"
      },
      "execution_count": null,
      "outputs": [
        {
          "output_type": "stream",
          "name": "stdout",
          "text": [
            "Overwriting pm_7.c\n"
          ]
        }
      ]
    },
    {
      "cell_type": "code",
      "source": [
        "%%shell\n",
        "\n",
        "gcc pm_7.c -o output\n",
        "./output"
      ],
      "metadata": {
        "colab": {
          "base_uri": "https://localhost:8080/"
        },
        "id": "NiY5pKOQz-H6",
        "outputId": "1abbb165-7e45-4735-9284-5e159e916b4b"
      },
      "execution_count": null,
      "outputs": [
        {
          "output_type": "stream",
          "name": "stdout",
          "text": [
            "x의 값을 입력하시오: 10.0\n",
            "수식의 값은 326.666667입니다."
          ]
        },
        {
          "output_type": "execute_result",
          "data": {
            "text/plain": []
          },
          "metadata": {},
          "execution_count": 32
        }
      ]
    },
    {
      "cell_type": "code",
      "source": [
        "%%writefile pm_8.c\n",
        "\n",
        "#include <stdio.h>\n",
        "\n",
        "int main(void)\n",
        "{\n",
        "  double x, y;\n",
        "  int value; //정수부를 더한 값\n",
        "\n",
        "  printf(\"2개의 실수를 입력하시오: \");\n",
        "  scanf(\"%lf%lf\", &x, &y);\n",
        "\n",
        "  value = (int)x + (int)y;\n",
        "  printf(\"합의 정수부 = %d\", value);\n",
        "\n",
        "  return 0;\n",
        "}"
      ],
      "metadata": {
        "colab": {
          "base_uri": "https://localhost:8080/"
        },
        "id": "7mRdAv4C0C4y",
        "outputId": "c7e825b5-2759-4a9e-adeb-6c544050fb13"
      },
      "execution_count": null,
      "outputs": [
        {
          "output_type": "stream",
          "name": "stdout",
          "text": [
            "Overwriting pm_8.c\n"
          ]
        }
      ]
    },
    {
      "cell_type": "code",
      "source": [
        "%%shell\n",
        "\n",
        "gcc pm_8.c -o output\n",
        "./output"
      ],
      "metadata": {
        "colab": {
          "base_uri": "https://localhost:8080/"
        },
        "id": "CvypGIFK4Do-",
        "outputId": "cd17891b-ee0b-468f-e005-474a9c162995"
      },
      "execution_count": null,
      "outputs": [
        {
          "output_type": "stream",
          "name": "stdout",
          "text": [
            "2개의 실수를 입력하시오: 1.23456 2.34567\n",
            "합의 정수부 = 3"
          ]
        },
        {
          "output_type": "execute_result",
          "data": {
            "text/plain": []
          },
          "metadata": {},
          "execution_count": 40
        }
      ]
    },
    {
      "cell_type": "code",
      "source": [
        "%%writefile pm_9.c\n",
        "\n",
        "#include <stdio.h>\n",
        "\n",
        "int main(void)\n",
        "{\n",
        "  int num;\n",
        "\n",
        "  printf(\"숫자를 입력하시오: \");\n",
        "  scanf(\"%d\", &num);\n",
        "\n",
        "  num = num & 1;\n",
        "  printf(\"LSB는 %d\", num);\n",
        "  \n",
        "  return 0;\n",
        "}"
      ],
      "metadata": {
        "colab": {
          "base_uri": "https://localhost:8080/"
        },
        "id": "d53Z_KnV4FfJ",
        "outputId": "4fadf975-3c9e-4699-b059-6483e9486ff8"
      },
      "execution_count": null,
      "outputs": [
        {
          "output_type": "stream",
          "name": "stdout",
          "text": [
            "Writing pm_9.c\n"
          ]
        }
      ]
    },
    {
      "cell_type": "code",
      "source": [
        "%%shell\n",
        "\n",
        "gcc pm_9.c -o output\n",
        "./output"
      ],
      "metadata": {
        "colab": {
          "base_uri": "https://localhost:8080/"
        },
        "id": "D0hIINvW5qVe",
        "outputId": "15f2dc40-c62b-4f14-e2fa-daa8fbd7b561"
      },
      "execution_count": null,
      "outputs": [
        {
          "output_type": "stream",
          "name": "stdout",
          "text": [
            "숫자를 입력하시오: 9\n",
            "LSB는 1"
          ]
        },
        {
          "output_type": "execute_result",
          "data": {
            "text/plain": []
          },
          "metadata": {},
          "execution_count": 43
        }
      ]
    },
    {
      "cell_type": "code",
      "source": [
        "%%writefile pm_10.c\n",
        "\n",
        "#include <stdio.h>\n",
        "\n",
        "int main(void)\n",
        "{\n",
        "  int num, n;\n",
        "\n",
        "  printf(\"숫자를 입력하시오: \");\n",
        "  scanf(\"%d\", &num);\n",
        "\n",
        "  printf(\"n을 입력하시오: \");\n",
        "  scanf(\"%d\", &n);\n",
        "\n",
        "  num = (1 << n) | num;\n",
        "  printf(\"새로운 값: %d\", num);\n",
        "  \n",
        "  return 0;\n",
        "}"
      ],
      "metadata": {
        "colab": {
          "base_uri": "https://localhost:8080/"
        },
        "id": "I4RTfx1k5vW6",
        "outputId": "c75f81f9-4654-44f7-e32b-c736c7a51ecf"
      },
      "execution_count": null,
      "outputs": [
        {
          "output_type": "stream",
          "name": "stdout",
          "text": [
            "Writing pm_10.c\n"
          ]
        }
      ]
    },
    {
      "cell_type": "code",
      "source": [
        "%%shell\n",
        "\n",
        "gcc pm_10.c -o output\n",
        "./output"
      ],
      "metadata": {
        "colab": {
          "base_uri": "https://localhost:8080/"
        },
        "id": "xEml1wEL6lRH",
        "outputId": "56fe4782-4db1-4c61-9775-878e75fc5e90"
      },
      "execution_count": null,
      "outputs": [
        {
          "output_type": "stream",
          "name": "stdout",
          "text": [
            "숫자를 입력하시오: 9\n",
            "n을 입력하시오: 2\n",
            "새로운 값: 13"
          ]
        },
        {
          "output_type": "execute_result",
          "data": {
            "text/plain": []
          },
          "metadata": {},
          "execution_count": 45
        }
      ]
    },
    {
      "cell_type": "code",
      "source": [],
      "metadata": {
        "id": "2QMEbSsC6m7j"
      },
      "execution_count": null,
      "outputs": []
    }
  ]
}
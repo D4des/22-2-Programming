{
  "nbformat": 4,
  "nbformat_minor": 0,
  "metadata": {
    "colab": {
      "provenance": []
    },
    "kernelspec": {
      "name": "python3",
      "display_name": "Python 3"
    },
    "language_info": {
      "name": "python"
    }
  },
  "cells": [
    {
      "cell_type": "code",
      "execution_count": null,
      "metadata": {
        "colab": {
          "base_uri": "https://localhost:8080/"
        },
        "id": "JqzalYtk7YKM",
        "outputId": "696315fa-e57b-4597-8c02-5721b8e70a85"
      },
      "outputs": [
        {
          "output_type": "stream",
          "name": "stdout",
          "text": [
            "Writing pm_1.c\n"
          ]
        }
      ],
      "source": [
        "%%writefile pm_1.c\n",
        "\n",
        "#include <stdio.h>\n",
        "\n",
        "int main(void)\n",
        "{\n",
        "  int x;\n",
        "\n",
        "  printf(\"정수를 입력하시오: \");\n",
        "  scanf(\"%d\", &x);\n",
        "\n",
        "  if (x % 2 == 1)\n",
        "  {\n",
        "    printf(\"%d 은 홀수 입니다.\", x);\n",
        "  }\n",
        "  else\n",
        "  {\n",
        "    printf(\"%d 은 짝수 입니다.\", x);\n",
        "  }\n",
        "  \n",
        "  return 0;\n",
        "}"
      ]
    },
    {
      "cell_type": "code",
      "source": [
        "%%shell\n",
        "\n",
        "gcc pm_1.c -o output\n",
        "./output"
      ],
      "metadata": {
        "colab": {
          "base_uri": "https://localhost:8080/"
        },
        "id": "A2_WXxAW8gEe",
        "outputId": "9d971163-4156-40ae-cc0a-b2a8db4ce528"
      },
      "execution_count": null,
      "outputs": [
        {
          "output_type": "stream",
          "name": "stdout",
          "text": [
            "정수를 입력하시오: 3\n",
            "3 은 홀수 입니다."
          ]
        },
        {
          "output_type": "execute_result",
          "data": {
            "text/plain": []
          },
          "metadata": {},
          "execution_count": 5
        }
      ]
    },
    {
      "cell_type": "code",
      "source": [
        "%%writefile pm_2.c\n",
        "\n",
        "#include <stdio.h>\n",
        "\n",
        "int main(void)\n",
        "{\n",
        "  int x, y, add, sub; //add는 합, sub는 차\n",
        "\n",
        "  printf(\"정수를 입력하시오:\");\n",
        "  scanf(\"%d\", &x);\n",
        "\n",
        "  printf(\"정수를 입력하시오:\");\n",
        "  scanf(\"%d\", &y);\n",
        "\n",
        "  add = x + y;\n",
        "  printf(\"두수의 합은 %d입니다. \\n\", add);\n",
        "\n",
        "  if (x > y)\n",
        "  {\n",
        "    sub = x - y;\n",
        "    printf(\"두수의 차는 %d입니다. \\n\", sub);\n",
        "  } \n",
        "  else\n",
        "  {\n",
        "    sub = y - x;\n",
        "    printf(\"두수의 차는 %d입니다. \\n\", sub);\n",
        "  }\n",
        "\n",
        "  return 0;\n",
        "}"
      ],
      "metadata": {
        "colab": {
          "base_uri": "https://localhost:8080/"
        },
        "id": "h-MLtwOa8kTy",
        "outputId": "531ee274-a874-4bc8-a80e-88170f063fe6"
      },
      "execution_count": null,
      "outputs": [
        {
          "output_type": "stream",
          "name": "stdout",
          "text": [
            "Overwriting pm_2.c\n"
          ]
        }
      ]
    },
    {
      "cell_type": "code",
      "source": [
        "%%shell\n",
        "\n",
        "gcc pm_2.c -o output\n",
        "./output"
      ],
      "metadata": {
        "colab": {
          "base_uri": "https://localhost:8080/"
        },
        "id": "GIOqDCx_-FAu",
        "outputId": "b76982ff-7af2-40ff-9c86-2015350888a9"
      },
      "execution_count": null,
      "outputs": [
        {
          "output_type": "stream",
          "name": "stdout",
          "text": [
            "정수를 입력하시오:30\n",
            "정수를 입력하시오:50\n",
            "두수의 합은 80입니다. \n",
            "두수의 차는 20입니다. \n"
          ]
        },
        {
          "output_type": "execute_result",
          "data": {
            "text/plain": []
          },
          "metadata": {},
          "execution_count": 11
        }
      ]
    },
    {
      "cell_type": "code",
      "source": [
        "%%writefile pm_3.c\n",
        "\n",
        "#include <stdio.h>\n",
        "\n",
        "int main(void)\n",
        "{\n",
        "  int day;\n",
        "\n",
        "  printf(\"요일을 0(일요일)에서 6까지의 정수로 입력하시오:\");\n",
        "  scanf(\"%d\", &day);\n",
        "\n",
        "  if (0 < day && day < 6) \n",
        "  {\n",
        "    printf(\"주중입니다.\");\n",
        "  }\n",
        "  else\n",
        "  {\n",
        "    printf(\"주말입니다.\");\n",
        "  }\n",
        "\n",
        "  return 0;\n",
        "}"
      ],
      "metadata": {
        "colab": {
          "base_uri": "https://localhost:8080/"
        },
        "id": "1izhQiGj-IEJ",
        "outputId": "12cad08f-7896-4d0e-d474-312e917e2b4f"
      },
      "execution_count": null,
      "outputs": [
        {
          "output_type": "stream",
          "name": "stdout",
          "text": [
            "Overwriting pm_3.c\n"
          ]
        }
      ]
    },
    {
      "cell_type": "code",
      "source": [
        "%%shell\n",
        "\n",
        "gcc pm_3.c -o output\n",
        "./output"
      ],
      "metadata": {
        "colab": {
          "base_uri": "https://localhost:8080/"
        },
        "id": "fxcuYVRME8rD",
        "outputId": "e741a2b6-82df-45f0-c7af-101531fa8a17"
      },
      "execution_count": null,
      "outputs": [
        {
          "output_type": "stream",
          "name": "stdout",
          "text": [
            "요일을 0(일요일)에서 6까지의 정수로 입력하시오:4\n",
            "주중입니다."
          ]
        },
        {
          "output_type": "execute_result",
          "data": {
            "text/plain": []
          },
          "metadata": {},
          "execution_count": 25
        }
      ]
    },
    {
      "cell_type": "code",
      "source": [
        "%%writefile pm_4.c\n",
        "\n",
        "#include <stdio.h>\n",
        "\n",
        "int main(void)\n",
        "{\n",
        "  char character;\n",
        "\n",
        "  printf(\"문자를 입력하시오:\");\n",
        "  scanf(\"%c\", &character);\n",
        "\n",
        "  if(65<=character && character<=90 || 97<=character && character<=122) //아스키 코드\n",
        "  {\n",
        "    printf(\"알파벳입니다. \\n\");\n",
        "  }\n",
        "  else if(48<=character && character<=57)\n",
        "  {\n",
        "    printf(\"숫자입니다. \\n\");\n",
        "  }\n",
        "  else\n",
        "  {\n",
        "    printf(\"특수문자입니다. \\n\");\n",
        "  }\n",
        "\n",
        "  return 0;\n",
        "}"
      ],
      "metadata": {
        "colab": {
          "base_uri": "https://localhost:8080/"
        },
        "id": "KyzvuIviE_w-",
        "outputId": "9fbf2fc4-3e33-43b7-a960-a197cd373b89"
      },
      "execution_count": null,
      "outputs": [
        {
          "output_type": "stream",
          "name": "stdout",
          "text": [
            "Overwriting pm_4.c\n"
          ]
        }
      ]
    },
    {
      "cell_type": "code",
      "source": [
        "%%shell\n",
        "\n",
        "gcc pm_4.c -o output\n",
        "./output"
      ],
      "metadata": {
        "colab": {
          "base_uri": "https://localhost:8080/"
        },
        "id": "HdTsI7WcHvfo",
        "outputId": "d2d04350-78a1-4e10-e8b0-66438eec1b53"
      },
      "execution_count": null,
      "outputs": [
        {
          "output_type": "stream",
          "name": "stdout",
          "text": [
            "문자를 입력하시오:a\n",
            "알파벳입니다. \n"
          ]
        },
        {
          "output_type": "execute_result",
          "data": {
            "text/plain": []
          },
          "metadata": {},
          "execution_count": 34
        }
      ]
    },
    {
      "cell_type": "code",
      "source": [
        "%%writefile pm_5.c\n",
        "\n",
        "#include <stdio.h>\n",
        "\n",
        "int main(void)\n",
        "{\n",
        "  char character;\n",
        "\n",
        "  printf(\"문자를 입력하시오:\");\n",
        "  scanf(\"%c\", &character);\n",
        "\n",
        "  if(65<=character && character<=90) //아스키 코드\n",
        "  {\n",
        "    printf(\"대문자입니다. \\n\");\n",
        "  }\n",
        "  else if(97<=character && character<=122)\n",
        "  {\n",
        "    printf(\"소문자입니다. \\n\");\n",
        "  }\n",
        "  else\n",
        "  {\n",
        "    printf(\"알파벳이 아닙니다. \\n\");\n",
        "  }\n",
        "\n",
        "  return 0;\n",
        "}"
      ],
      "metadata": {
        "colab": {
          "base_uri": "https://localhost:8080/"
        },
        "id": "OOjKti_EHytN",
        "outputId": "36fb6e19-8799-4fb6-8b50-b987cba4d710"
      },
      "execution_count": null,
      "outputs": [
        {
          "output_type": "stream",
          "name": "stdout",
          "text": [
            "Writing pm_5.c\n"
          ]
        }
      ]
    },
    {
      "cell_type": "code",
      "source": [
        "%%shell\n",
        "\n",
        "gcc pm_5.c -o output\n",
        "./output"
      ],
      "metadata": {
        "colab": {
          "base_uri": "https://localhost:8080/"
        },
        "id": "yeDKA9olItYY",
        "outputId": "60f37895-3ab9-41bb-eaf3-5c2ebefa7295"
      },
      "execution_count": null,
      "outputs": [
        {
          "output_type": "stream",
          "name": "stdout",
          "text": [
            "문자를 입력하시오:A\n",
            "대문자입니다. \n"
          ]
        },
        {
          "output_type": "execute_result",
          "data": {
            "text/plain": []
          },
          "metadata": {},
          "execution_count": 39
        }
      ]
    },
    {
      "cell_type": "code",
      "source": [
        "%%writefile pm_6.c\n",
        "\n",
        "#include <stdio.h>\n",
        "\n",
        "int main(void)\n",
        "{\n",
        "  char light_color;\n",
        "\n",
        "  printf(\"신호등의 색깔 입력 (R, G, Y): \");\n",
        "  scanf(\"%c\", &light_color);\n",
        "\n",
        "  if (light_color == 'R' || light_color == 'r')\n",
        "  {\n",
        "    printf(\"정지!\");\n",
        "  }\n",
        "  else if (light_color == 'G' || light_color == 'g')\n",
        "  {\n",
        "    printf(\"진행!\");\n",
        "  }\n",
        "  else\n",
        "  {\n",
        "    printf(\"주의!\");\n",
        "  }\n",
        "\n",
        "  return 0;\n",
        "}"
      ],
      "metadata": {
        "colab": {
          "base_uri": "https://localhost:8080/"
        },
        "id": "xb9kZbbxIvxm",
        "outputId": "d4b3e480-628d-44aa-903f-4355e91fd8d3"
      },
      "execution_count": null,
      "outputs": [
        {
          "output_type": "stream",
          "name": "stdout",
          "text": [
            "Overwriting pm_6.c\n"
          ]
        }
      ]
    },
    {
      "cell_type": "code",
      "source": [
        "%%shell\n",
        "\n",
        "gcc pm_6.c -o output\n",
        "./output"
      ],
      "metadata": {
        "colab": {
          "base_uri": "https://localhost:8080/"
        },
        "id": "B6cTlhr_M-ar",
        "outputId": "42b9a380-eab4-438d-c2fe-1ce4a1e198b1"
      },
      "execution_count": null,
      "outputs": [
        {
          "output_type": "stream",
          "name": "stdout",
          "text": [
            "신호등의 색깔 입력 (R, G, Y): r\n",
            "정지!"
          ]
        },
        {
          "output_type": "execute_result",
          "data": {
            "text/plain": []
          },
          "metadata": {},
          "execution_count": 48
        }
      ]
    },
    {
      "cell_type": "code",
      "source": [
        "%%writefile pm_7.c\n",
        "\n",
        "#include <stdio.h>\n",
        "\n",
        "int main(void)\n",
        "{\n",
        "  double x, y, z;\n",
        "\n",
        "  printf(\"삼각형의 세변을 입력하시오: \");\n",
        "  scanf(\"%lf%lf%lf\", &x, &y, &z);\n",
        "\n",
        "  if (x == y && y == z)\n",
        "  {\n",
        "    printf(\"정삼각형\");\n",
        "  }\n",
        "  else if (x == y || y == z || z == x)\n",
        "  {\n",
        "    printf(\"이등변삼각형\");\n",
        "  }\n",
        "  else\n",
        "  {\n",
        "    printf(\"정삼각형, 이등변삼각형이 아닙니다.\");\n",
        "  }\n",
        "\n",
        "  return 0;\n",
        "}"
      ],
      "metadata": {
        "colab": {
          "base_uri": "https://localhost:8080/"
        },
        "id": "j9ZGoJmgNXaT",
        "outputId": "bfb041a9-5cea-44ec-8d47-5ffd9a3110d7"
      },
      "execution_count": null,
      "outputs": [
        {
          "output_type": "stream",
          "name": "stdout",
          "text": [
            "Writing pm_7.c\n"
          ]
        }
      ]
    },
    {
      "cell_type": "code",
      "source": [
        "%%shell\n",
        "\n",
        "gcc pm_7.c -o output\n",
        "./output"
      ],
      "metadata": {
        "colab": {
          "base_uri": "https://localhost:8080/"
        },
        "id": "KrhwdbbRPaBI",
        "outputId": "ccda574c-c01f-4818-bd5e-78bdb31cea18"
      },
      "execution_count": null,
      "outputs": [
        {
          "output_type": "stream",
          "name": "stdout",
          "text": [
            "삼각형의 세변을 입력하시오: 30 40 40\n",
            "이등변삼각형"
          ]
        },
        {
          "output_type": "execute_result",
          "data": {
            "text/plain": []
          },
          "metadata": {},
          "execution_count": 52
        }
      ]
    },
    {
      "cell_type": "code",
      "source": [
        "%%writefile pm_8.c\n",
        "\n",
        "#include <stdio.h>\n",
        "\n",
        "int main(void)\n",
        "{\n",
        "  int tax_base, income_tax;\n",
        "\n",
        "  printf(\"과세 표준을 입력하시오(만원): \");\n",
        "  scanf(\"%d\", &tax_base);\n",
        "\n",
        "  if (tax_base <= 1000)\n",
        "  {\n",
        "    income_tax = tax_base * 0.08;\n",
        "  }\n",
        "  else if (tax_base > 1000 && tax_base <= 4000)\n",
        "  {\n",
        "    income_tax = (1000 * 0.08) + (tax_base-1000) * 0.17;\n",
        "  }\n",
        "  else if (tax_base > 4000 && tax_base <= 8000)\n",
        "  {\n",
        "    income_tax = (1000 * 0.08) + ((4000-1000) * 0.17) + (tax_base-4000) * 0.26; \n",
        "  }\n",
        "  else\n",
        "  {\n",
        "    income_tax = (1000 * 0.08) + ((4000-1000) * 0.17) + ((8000-4000) * 0.26) + (tax_base-8000) * 0.35;\n",
        "  }\n",
        "\n",
        "  printf(\"소득세는 %d만원입니다.\", income_tax);\n",
        "  return 0;\n",
        "}"
      ],
      "metadata": {
        "colab": {
          "base_uri": "https://localhost:8080/"
        },
        "id": "m7QRRiFqPcCH",
        "outputId": "289ffb75-9121-430c-a0f7-97ff9ee20fa5"
      },
      "execution_count": null,
      "outputs": [
        {
          "output_type": "stream",
          "name": "stdout",
          "text": [
            "Overwriting pm_8.c\n"
          ]
        }
      ]
    },
    {
      "cell_type": "code",
      "source": [
        "%%shell\n",
        "\n",
        "gcc pm_8.c -o output\n",
        "./output"
      ],
      "metadata": {
        "colab": {
          "base_uri": "https://localhost:8080/"
        },
        "id": "axvHXsZmToVr",
        "outputId": "95b012b0-d761-4881-af1a-e9703aa8fae1"
      },
      "execution_count": null,
      "outputs": [
        {
          "output_type": "stream",
          "name": "stdout",
          "text": [
            "과세 표준을 입력하시오(만원): 3500\n",
            "소득세는 505만원입니다."
          ]
        },
        {
          "output_type": "execute_result",
          "data": {
            "text/plain": []
          },
          "metadata": {},
          "execution_count": 84
        }
      ]
    },
    {
      "cell_type": "code",
      "source": [
        "%%writefile pm_9.c\n",
        "\n",
        "#include <stdio.h>\n",
        "\n",
        "int main(void)\n",
        "{\n",
        "  char op;\n",
        "  int x, y;\n",
        "\n",
        "  printf(\"수식을 입력하시오: \");\n",
        "  scanf(\"%d %c %d\", &x, &op, &y);\n",
        "\n",
        "  switch((int)op)\n",
        "  {\n",
        "    case 43:\n",
        "      printf(\"%d \\n\", x + y);\n",
        "      break;\n",
        "    case 45:\n",
        "      printf(\"%d \\n\", x - y);\n",
        "      break;\n",
        "    case 42:\n",
        "      printf(\"%d \\n\", x * y);\n",
        "      break;\n",
        "    case 47:\n",
        "      printf(\"%d \\n\", x / y);\n",
        "      break;\n",
        "    default:\n",
        "      printf(\"지원되지 않는 연산자입니다. \\n\");\n",
        "      break;\n",
        "  }\n",
        "\n",
        "  return 0;\n",
        "}"
      ],
      "metadata": {
        "colab": {
          "base_uri": "https://localhost:8080/"
        },
        "id": "g7WkZ_y_TrxC",
        "outputId": "d416ddb9-48a1-4deb-a9b0-6d15b607ff4b"
      },
      "execution_count": null,
      "outputs": [
        {
          "output_type": "stream",
          "name": "stdout",
          "text": [
            "Overwriting pm_9.c\n"
          ]
        }
      ]
    },
    {
      "cell_type": "code",
      "source": [
        "%%shell\n",
        "\n",
        "gcc pm_9.c -o output\n",
        "./output"
      ],
      "metadata": {
        "colab": {
          "base_uri": "https://localhost:8080/"
        },
        "id": "8rIzK6wiVjol",
        "outputId": "388fb2ab-d206-4282-e731-5894097eb22a"
      },
      "execution_count": null,
      "outputs": [
        {
          "output_type": "stream",
          "name": "stdout",
          "text": [
            "수식을 입력하시오: 10 + 20\n",
            "30 \n"
          ]
        },
        {
          "output_type": "execute_result",
          "data": {
            "text/plain": []
          },
          "metadata": {},
          "execution_count": 66
        }
      ]
    },
    {
      "cell_type": "code",
      "source": [
        "%%writefile pm_10.c\n",
        "\n",
        "#include <stdio.h>\n",
        "\n",
        "int main(void)\n",
        "{\n",
        "  char grade;\n",
        "\n",
        "  printf(\"학점을 입력하시오: \");\n",
        "  scanf(\"%c\", &grade);\n",
        "\n",
        "  switch((int)grade)\n",
        "  {\n",
        "    case 65:\n",
        "      printf(\"아주 잘했어요!\");\n",
        "      break;\n",
        "    case 66:\n",
        "      printf(\"좋습니다.\");\n",
        "      break;\n",
        "    case 67:\n",
        "      printf(\"만족스럽습니다.\");\n",
        "      break;\n",
        "    case 68:\n",
        "      printf(\"더 노력해보세요.\");\n",
        "      break;\n",
        "    default:\n",
        "      printf(\"안타깝습니다.\");\n",
        "      break;\n",
        "  }\n",
        "\n",
        "  return 0;\n",
        "}"
      ],
      "metadata": {
        "colab": {
          "base_uri": "https://localhost:8080/"
        },
        "id": "IUdceHhaVl5v",
        "outputId": "4bf9da65-ec12-408c-917d-693878c79214"
      },
      "execution_count": null,
      "outputs": [
        {
          "output_type": "stream",
          "name": "stdout",
          "text": [
            "Writing pm_10.c\n"
          ]
        }
      ]
    },
    {
      "cell_type": "code",
      "source": [
        "%%shell\n",
        "\n",
        "gcc pm_10.c -o output\n",
        "./output"
      ],
      "metadata": {
        "colab": {
          "base_uri": "https://localhost:8080/"
        },
        "id": "kR3N3xD5X5US",
        "outputId": "4f7a5c89-8d9e-43eb-f2ba-a3e78855903f"
      },
      "execution_count": null,
      "outputs": [
        {
          "output_type": "stream",
          "name": "stdout",
          "text": [
            "학점을 입력하시오: A\n",
            "아주 잘했어요!"
          ]
        },
        {
          "output_type": "execute_result",
          "data": {
            "text/plain": []
          },
          "metadata": {},
          "execution_count": 72
        }
      ]
    },
    {
      "cell_type": "code",
      "source": [],
      "metadata": {
        "id": "vi0rMcRVX7M2"
      },
      "execution_count": null,
      "outputs": []
    }
  ]
}
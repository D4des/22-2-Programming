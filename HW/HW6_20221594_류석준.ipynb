{
  "nbformat": 4,
  "nbformat_minor": 0,
  "metadata": {
    "colab": {
      "provenance": [],
      "collapsed_sections": []
    },
    "kernelspec": {
      "name": "python3",
      "display_name": "Python 3"
    },
    "language_info": {
      "name": "python"
    }
  },
  "cells": [
    {
      "cell_type": "code",
      "execution_count": null,
      "metadata": {
        "colab": {
          "base_uri": "https://localhost:8080/"
        },
        "id": "vnBEb114LUbf",
        "outputId": "cd8c5d51-00b6-4a5a-e26d-ca1610ab15a0"
      },
      "outputs": [
        {
          "output_type": "stream",
          "name": "stdout",
          "text": [
            "Writing pm_1.c\n"
          ]
        }
      ],
      "source": [
        "%%writefile pm_1.c\n",
        "\n",
        "#include <stdio.h>\n",
        "\n",
        "int main()\n",
        "{\n",
        "  int i;\n",
        "\n",
        "  for(i=60; i>=1; i--)\n",
        "    printf(\"%d \", i);\n",
        "\n",
        "  printf(\"발사\");\n",
        "\n",
        "  return 0;\n",
        "}"
      ]
    },
    {
      "cell_type": "code",
      "source": [
        "%%shell \n",
        "gcc pm_1.c -o output\n",
        "./output"
      ],
      "metadata": {
        "colab": {
          "base_uri": "https://localhost:8080/"
        },
        "id": "l5USc5EgM5j7",
        "outputId": "e4cb3ef0-f778-4ff5-e11e-05869d3fff6c"
      },
      "execution_count": null,
      "outputs": [
        {
          "output_type": "stream",
          "name": "stdout",
          "text": [
            "60 59 58 57 56 55 54 53 52 51 50 49 48 47 46 45 44 43 42 41 40 39 38 37 36 35 34 33 32 31 30 29 28 27 26 25 24 23 22 21 20 19 18 17 16 15 14 13 12 11 10 9 8 7 6 5 4 3 2 1 발사"
          ]
        },
        {
          "output_type": "execute_result",
          "data": {
            "text/plain": []
          },
          "metadata": {},
          "execution_count": 230
        }
      ]
    },
    {
      "cell_type": "code",
      "source": [
        "%%writefile pm_2.c\n",
        "\n",
        "#include <stdio.h>\n",
        "\n",
        "int main()\n",
        "{\n",
        "  int i, j; //반복 횟수 : j, 반복문에 쓴 변수 : i\n",
        "\n",
        "  printf(\"몇 번이나 반복할까요?: \");\n",
        "  scanf(\"%d\", &j);\n",
        "\n",
        "  for (i=1; i<=j; i++)\n",
        "    printf(\"안녕하세요? \\n\");\n",
        "\n",
        "  return 0;\n",
        "}"
      ],
      "metadata": {
        "colab": {
          "base_uri": "https://localhost:8080/"
        },
        "id": "LCMK14r7M_XG",
        "outputId": "ccc09528-dc7b-4137-d3ee-f735c3c43f44"
      },
      "execution_count": null,
      "outputs": [
        {
          "output_type": "stream",
          "name": "stdout",
          "text": [
            "Overwriting pm_2.c\n"
          ]
        }
      ]
    },
    {
      "cell_type": "code",
      "source": [
        "%%shell \n",
        "gcc pm_2.c -o output\n",
        "./output"
      ],
      "metadata": {
        "colab": {
          "base_uri": "https://localhost:8080/"
        },
        "id": "j9lSZJiFO0BF",
        "outputId": "dc06d0a6-92cf-4672-fcba-54df7489be8b"
      },
      "execution_count": null,
      "outputs": [
        {
          "output_type": "stream",
          "name": "stdout",
          "text": [
            "몇 번이나 반복할까요?: 3\n",
            "안녕하세요? \n",
            "안녕하세요? \n",
            "안녕하세요? \n"
          ]
        },
        {
          "output_type": "execute_result",
          "data": {
            "text/plain": []
          },
          "metadata": {},
          "execution_count": 235
        }
      ]
    },
    {
      "cell_type": "code",
      "source": [
        "%%writefile pm_3.c\n",
        "\n",
        "#include <stdio.h>\n",
        " \n",
        "int main()\n",
        "{\n",
        "  int i, j, k;\n",
        "  \n",
        "  for (i=1; i<=7; i++) \n",
        "  {\n",
        "    for(k=1; k<=i; k++) \n",
        "    {\n",
        "      printf(\"%d\", k); // 숫자 출력\n",
        "    }\n",
        "    for (j=1; j<=7-i; j++) \n",
        "    {\n",
        "      printf(\"*\"); // 별표 출력\n",
        "    }\n",
        "    printf(\"\\n\");\n",
        "  }\n",
        " \n",
        "  return 0;\n",
        "}"
      ],
      "metadata": {
        "colab": {
          "base_uri": "https://localhost:8080/"
        },
        "id": "eujUmzHGO490",
        "outputId": "6b105a1e-b295-482c-ab1f-a040d2b20efe"
      },
      "execution_count": null,
      "outputs": [
        {
          "output_type": "stream",
          "name": "stdout",
          "text": [
            "Overwriting pm_3.c\n"
          ]
        }
      ]
    },
    {
      "cell_type": "code",
      "source": [
        "%%shell \n",
        "gcc pm_3.c -o output\n",
        "./output"
      ],
      "metadata": {
        "colab": {
          "base_uri": "https://localhost:8080/"
        },
        "id": "0IYJXEAKQjn8",
        "outputId": "dd2c33d5-dde9-4973-e667-116ba82b72ee"
      },
      "execution_count": null,
      "outputs": [
        {
          "output_type": "stream",
          "name": "stdout",
          "text": [
            "1******\n",
            "12*****\n",
            "123****\n",
            "1234***\n",
            "12345**\n",
            "123456*\n",
            "1234567\n"
          ]
        },
        {
          "output_type": "execute_result",
          "data": {
            "text/plain": []
          },
          "metadata": {},
          "execution_count": 238
        }
      ]
    },
    {
      "cell_type": "code",
      "source": [
        "%%writefile pm_4.c\n",
        "\n",
        "#include <stdio.h>\n",
        "\n",
        "int main()\n",
        "{\n",
        "  int i, k=0;\n",
        "\n",
        "  do\n",
        "  {\n",
        "    printf(\"정수를 입력하시오: \");\n",
        "    scanf(\"%d\", &i);\n",
        "\n",
        "    k += i;\n",
        "  } while (i != 0); // 0을 입력하면 반복문 종료\n",
        "  printf(\"합계=%d\", k);\n",
        "\n",
        "  return 0;\n",
        "}"
      ],
      "metadata": {
        "id": "YbyXhRFYQpBH",
        "colab": {
          "base_uri": "https://localhost:8080/"
        },
        "outputId": "db739548-d75f-47b5-d81c-e3417e7ad299"
      },
      "execution_count": null,
      "outputs": [
        {
          "output_type": "stream",
          "name": "stdout",
          "text": [
            "Overwriting pm_4.c\n"
          ]
        }
      ]
    },
    {
      "cell_type": "code",
      "source": [
        "%%shell\n",
        "\n",
        "gcc pm_4.c -o output\n",
        "./output"
      ],
      "metadata": {
        "colab": {
          "base_uri": "https://localhost:8080/"
        },
        "id": "9F8uI6BiUodV",
        "outputId": "8dfd5e80-12b0-45c0-bc4a-a9d48b14aa69"
      },
      "execution_count": null,
      "outputs": [
        {
          "output_type": "stream",
          "name": "stdout",
          "text": [
            "정수를 입력하시오: 10\n",
            "정수를 입력하시오: 20\n",
            "정수를 입력하시오: 30\n",
            "정수를 입력하시오: 0\n",
            "합계=60"
          ]
        },
        {
          "output_type": "execute_result",
          "data": {
            "text/plain": []
          },
          "metadata": {},
          "execution_count": 29
        }
      ]
    },
    {
      "cell_type": "code",
      "source": [
        "%%writefile pm_5.c\n",
        "\n",
        "#include <stdio.h>\n",
        "\n",
        "int main()\n",
        "{\n",
        "  int i;\n",
        "\n",
        "  for (i=1; i<=100; i++)\n",
        "    if( i%3==0 )          // 3의 배수만 출력\n",
        "      printf(\"%d \", i);\n",
        "\n",
        "  return 0;\n",
        "}"
      ],
      "metadata": {
        "colab": {
          "base_uri": "https://localhost:8080/"
        },
        "id": "7ehDrBSGUtNL",
        "outputId": "41afb8d1-4fbd-4a0f-b638-6c0024e7a153"
      },
      "execution_count": null,
      "outputs": [
        {
          "output_type": "stream",
          "name": "stdout",
          "text": [
            "Overwriting pm_5.c\n"
          ]
        }
      ]
    },
    {
      "cell_type": "code",
      "source": [
        "%%shell\n",
        "\n",
        "gcc pm_5.c -o output\n",
        "./output"
      ],
      "metadata": {
        "colab": {
          "base_uri": "https://localhost:8080/"
        },
        "id": "__8jzEknYd4l",
        "outputId": "41046be5-23f2-4571-ecdc-d3c9d28a33d0"
      },
      "execution_count": null,
      "outputs": [
        {
          "output_type": "stream",
          "name": "stdout",
          "text": [
            "3 6 9 12 15 18 21 24 27 30 33 36 39 42 45 48 51 54 57 60 63 66 69 72 75 78 81 84 87 90 93 96 99 "
          ]
        },
        {
          "output_type": "execute_result",
          "data": {
            "text/plain": []
          },
          "metadata": {},
          "execution_count": 4
        }
      ]
    },
    {
      "cell_type": "code",
      "source": [
        "%%writefile pm_6.c\n",
        "\n",
        "#include <stdio.h>\n",
        "\n",
        "int main()\n",
        "{\n",
        "  int i;\n",
        "\n",
        "  for (i=1; i<=100; i++)\n",
        "    if( i%3==0 && i%5==0 ) // 3과 5의 배수만 출력\n",
        "      printf(\"%d \", i);\n",
        "\n",
        "  return 0;\n",
        "}"
      ],
      "metadata": {
        "id": "RpJAIxmlYpbS",
        "colab": {
          "base_uri": "https://localhost:8080/"
        },
        "outputId": "faabdc4b-48a1-4913-8c4b-cf2a7c1f2c43"
      },
      "execution_count": null,
      "outputs": [
        {
          "output_type": "stream",
          "name": "stdout",
          "text": [
            "Writing pm_6.c\n"
          ]
        }
      ]
    },
    {
      "cell_type": "code",
      "source": [
        "%%shell\n",
        "\n",
        "gcc pm_6.c -o output\n",
        "./output"
      ],
      "metadata": {
        "colab": {
          "base_uri": "https://localhost:8080/"
        },
        "id": "BtHUFOW0Sw3a",
        "outputId": "93220c7d-ad6c-4ca4-839d-34330d82f3c8"
      },
      "execution_count": null,
      "outputs": [
        {
          "output_type": "stream",
          "name": "stdout",
          "text": [
            "15 30 45 60 75 90 "
          ]
        },
        {
          "output_type": "execute_result",
          "data": {
            "text/plain": []
          },
          "metadata": {},
          "execution_count": 6
        }
      ]
    },
    {
      "cell_type": "code",
      "source": [
        "%%writefile pm_7.c\n",
        "\n",
        "#include <stdio.h>\n",
        "\n",
        "int main()\n",
        "{\n",
        "  int x, y, i, sum=0; // 시작정수 : x, 종료정수: y\n",
        "\n",
        "  printf(\"시작정수: \");\n",
        "  scanf(\"%d\", &x);\n",
        "  printf(\"종료정수: \");\n",
        "  scanf(\"%d\", &y);\n",
        "  \n",
        "  for ( i=x; i<=y; i++)\n",
        "    sum = sum + i;\n",
        "\n",
        "  printf(\"%d\", k);\n",
        "\n",
        "  return 0;\n",
        "}"
      ],
      "metadata": {
        "colab": {
          "base_uri": "https://localhost:8080/"
        },
        "id": "RvAhdy3GSx8n",
        "outputId": "9ae6bbb5-329f-43a4-8276-cf5239efa5cb"
      },
      "execution_count": null,
      "outputs": [
        {
          "output_type": "stream",
          "name": "stdout",
          "text": [
            "Writing pm_7.c\n"
          ]
        }
      ]
    },
    {
      "cell_type": "code",
      "source": [
        "%%shell\n",
        "\n",
        "gcc pm_7.c -o output\n",
        "./output"
      ],
      "metadata": {
        "colab": {
          "base_uri": "https://localhost:8080/"
        },
        "id": "zYG_mN4fXSX-",
        "outputId": "11db7f44-1de1-4826-eb5a-1511ccea3aab"
      },
      "execution_count": null,
      "outputs": [
        {
          "output_type": "stream",
          "name": "stdout",
          "text": [
            "시작정수: 1\n",
            "종료정수: 10\n",
            "55"
          ]
        },
        {
          "output_type": "execute_result",
          "data": {
            "text/plain": []
          },
          "metadata": {},
          "execution_count": 5
        }
      ]
    },
    {
      "cell_type": "code",
      "source": [
        "%%writefile pm_8.c\n",
        "\n",
        "#include <stdio.h>\n",
        "\n",
        "int main()\n",
        "{\n",
        "  int ascii;\n",
        "\n",
        "  for (ascii=65; ascii<=127; ascii++)\n",
        "  {\n",
        "    printf(\"%d:       %c \\n\", ascii, ascii);\n",
        "  }\n",
        "\n",
        "  return 0;\n",
        "}"
      ],
      "metadata": {
        "id": "2L44V--xXV91",
        "colab": {
          "base_uri": "https://localhost:8080/"
        },
        "outputId": "17e7a9ec-582b-4e5a-e46e-d40cbe4e8f98"
      },
      "execution_count": null,
      "outputs": [
        {
          "output_type": "stream",
          "name": "stdout",
          "text": [
            "Overwriting pm_8.c\n"
          ]
        }
      ]
    },
    {
      "cell_type": "code",
      "source": [
        "%%shell\n",
        "\n",
        "gcc pm_8.c -o output\n",
        "./output"
      ],
      "metadata": {
        "colab": {
          "base_uri": "https://localhost:8080/"
        },
        "id": "vv2fZ6Mbjora",
        "outputId": "5907add0-eac4-4c38-d0ea-b0e7b6e8efba"
      },
      "execution_count": null,
      "outputs": [
        {
          "output_type": "stream",
          "name": "stdout",
          "text": [
            "65:       A \n",
            "66:       B \n",
            "67:       C \n",
            "68:       D \n",
            "69:       E \n",
            "70:       F \n",
            "71:       G \n",
            "72:       H \n",
            "73:       I \n",
            "74:       J \n",
            "75:       K \n",
            "76:       L \n",
            "77:       M \n",
            "78:       N \n",
            "79:       O \n",
            "80:       P \n",
            "81:       Q \n",
            "82:       R \n",
            "83:       S \n",
            "84:       T \n",
            "85:       U \n",
            "86:       V \n",
            "87:       W \n",
            "88:       X \n",
            "89:       Y \n",
            "90:       Z \n",
            "91:       [ \n",
            "92:       \\ \n",
            "93:       ] \n",
            "94:       ^ \n",
            "95:       _ \n",
            "96:       ` \n",
            "97:       a \n",
            "98:       b \n",
            "99:       c \n",
            "100:       d \n",
            "101:       e \n",
            "102:       f \n",
            "103:       g \n",
            "104:       h \n",
            "105:       i \n",
            "106:       j \n",
            "107:       k \n",
            "108:       l \n",
            "109:       m \n",
            "110:       n \n",
            "111:       o \n",
            "112:       p \n",
            "113:       q \n",
            "114:       r \n",
            "115:       s \n",
            "116:       t \n",
            "117:       u \n",
            "118:       v \n",
            "119:       w \n",
            "120:       x \n",
            "121:       y \n",
            "122:       z \n",
            "123:       { \n",
            "124:       | \n",
            "125:       } \n",
            "126:       ~ \n",
            "127:        \n"
          ]
        },
        {
          "output_type": "execute_result",
          "data": {
            "text/plain": []
          },
          "metadata": {},
          "execution_count": 27
        }
      ]
    },
    {
      "cell_type": "code",
      "source": [
        "%%writefile pm_9.c\n",
        "\n",
        "#include <stdio.h>\n",
        "\n",
        "int main()\n",
        "{\n",
        "  char c;\n",
        "  int stock; // a의 개수를 저장할 변수\n",
        "  \n",
        "  while(c != '.')\n",
        "  {\n",
        "    printf(\"문자를 입력하시오: (종료 .)\");\n",
        "    c = getchar();\n",
        "    getchar();\n",
        "\n",
        "    if ( c=='a')\n",
        "      stock++;\n",
        "  }\n",
        "\n",
        "  printf(\"a의 개수 = %d\", stock);\n",
        "\n",
        "  return 0;\n",
        "}"
      ],
      "metadata": {
        "colab": {
          "base_uri": "https://localhost:8080/"
        },
        "id": "2r1wI97Bjq3m",
        "outputId": "86c21caa-d1b8-4ca0-fefd-519f73f15181"
      },
      "execution_count": null,
      "outputs": [
        {
          "output_type": "stream",
          "name": "stdout",
          "text": [
            "Overwriting pm_9.c\n"
          ]
        }
      ]
    },
    {
      "cell_type": "code",
      "source": [
        "%%shell\n",
        "\n",
        "gcc pm_9.c -o output\n",
        "./output"
      ],
      "metadata": {
        "colab": {
          "base_uri": "https://localhost:8080/"
        },
        "id": "_niomilnnNK9",
        "outputId": "44da1c4b-99ae-4e07-d008-d6da7fac70a0"
      },
      "execution_count": null,
      "outputs": [
        {
          "output_type": "stream",
          "name": "stdout",
          "text": [
            "문자를 입력하시오: (종료 .)a\n",
            "문자를 입력하시오: (종료 .)a\n",
            "문자를 입력하시오: (종료 .)b\n",
            "문자를 입력하시오: (종료 .).\n",
            "a의 개수 = 2"
          ]
        },
        {
          "output_type": "execute_result",
          "data": {
            "text/plain": []
          },
          "metadata": {},
          "execution_count": 70
        }
      ]
    },
    {
      "cell_type": "code",
      "source": [
        "%%writefile pm_10.c\n",
        "\n",
        "#include <stdio.h>\n",
        "#define FAHRENHEIT_CELSIUS(F,C)    C = (F-32.0)*5.0/9.0 // 화씨에서 섭씨로 변환\n",
        "\n",
        "int main()\n",
        "{\n",
        "  int i, f, C; // 반복문에 사용할 변수: i, 화씨온도: f, 섭씨온도: C\n",
        "  \n",
        "  printf(\"======================= \\n\");\n",
        "  printf(\"화씨온도       섭씨온도 \\n\");\n",
        "  printf(\"======================= \\n\");\n",
        "\n",
        "  for (i=0; i<=10; i++)\n",
        "  {\n",
        "    f = i * 10;\n",
        "    FAHRENHEIT_CELSIUS(f,C);\n",
        "    printf(\"%d     %d \\n\", f, C);\n",
        "  }\n",
        "\n",
        "  return 0;\n",
        "}"
      ],
      "metadata": {
        "id": "Oxax8FkfnPNS",
        "colab": {
          "base_uri": "https://localhost:8080/"
        },
        "outputId": "53d22135-adf1-4e13-dfcc-f99b8704ff01"
      },
      "execution_count": null,
      "outputs": [
        {
          "output_type": "stream",
          "name": "stdout",
          "text": [
            "Overwriting pm_10.c\n"
          ]
        }
      ]
    },
    {
      "cell_type": "code",
      "source": [
        "%%shell \n",
        "\n",
        "gcc pm_10.c -o output\n",
        "./output"
      ],
      "metadata": {
        "colab": {
          "base_uri": "https://localhost:8080/"
        },
        "id": "TtHDj2oa3MHE",
        "outputId": "ea6471ee-2fd3-4e79-ef2d-7cd99e673548"
      },
      "execution_count": null,
      "outputs": [
        {
          "output_type": "stream",
          "name": "stdout",
          "text": [
            "======================= \n",
            "화씨온도       섭씨온도 \n",
            "======================= \n",
            "0     -17 \n",
            "10     -12 \n",
            "20     -6 \n",
            "30     -1 \n",
            "40     4 \n",
            "50     10 \n",
            "60     15 \n",
            "70     21 \n",
            "80     26 \n",
            "90     32 \n",
            "100     37 \n"
          ]
        },
        {
          "output_type": "execute_result",
          "data": {
            "text/plain": []
          },
          "metadata": {},
          "execution_count": 247
        }
      ]
    },
    {
      "cell_type": "code",
      "source": [
        "%%writefile pm_11.c\n",
        "\n",
        "#include <stdio.h>\n",
        "\n",
        "int main()\n",
        "{\n",
        "  int i, j, num; //반복문에 사용한 변수:i,j 입력받는 정수형 변수: num\n",
        "  \n",
        "  printf(\"정수를 입력하시오: \");\n",
        "  scanf(\"%d\", &num);\n",
        "\n",
        "  for (i=0; i<num; i++)\n",
        "  {\n",
        "    for (j=0; j<i+1; j++)\n",
        "    {\n",
        "      printf(\"%3d\", j+1);\n",
        "    }\n",
        "    printf(\"\\n\");\n",
        "  }\n",
        "\n",
        "  return 0;\n",
        "}"
      ],
      "metadata": {
        "colab": {
          "base_uri": "https://localhost:8080/"
        },
        "id": "JJDuKfyB3SeN",
        "outputId": "7b9a82f2-160d-4a2f-9564-722ef8ccf247"
      },
      "execution_count": null,
      "outputs": [
        {
          "output_type": "stream",
          "name": "stdout",
          "text": [
            "Overwriting pm_11.c\n"
          ]
        }
      ]
    },
    {
      "cell_type": "code",
      "source": [
        "%%shell\n",
        "\n",
        "gcc pm_11.c -o output\n",
        "./output"
      ],
      "metadata": {
        "colab": {
          "base_uri": "https://localhost:8080/"
        },
        "id": "hc8Xnsfa_MDL",
        "outputId": "3ddab6b6-e564-4fb3-96f2-40a6b1da324d"
      },
      "execution_count": null,
      "outputs": [
        {
          "output_type": "stream",
          "name": "stdout",
          "text": [
            "정수를 입력하시오: 5\n",
            "  1\n",
            "  1  2\n",
            "  1  2  3\n",
            "  1  2  3  4\n",
            "  1  2  3  4  5\n"
          ]
        },
        {
          "output_type": "execute_result",
          "data": {
            "text/plain": []
          },
          "metadata": {},
          "execution_count": 15
        }
      ]
    },
    {
      "cell_type": "code",
      "source": [
        "%%writefile pm_12.c\n",
        "\n",
        "#include <stdio.h>\n",
        "\n",
        "int main()\n",
        "{\n",
        "  int i, j, data;\n",
        "\n",
        "  for (i=1; i<=10; i++)\n",
        "  {\n",
        "    printf(\"데이터를 입력하시오:\");\n",
        "    scanf(\"%d\", &data);\n",
        "\n",
        "    if ( data>=1 && data<=50 )\n",
        "    {\n",
        "      for (j=0; j<data; j++)\n",
        "      {\n",
        "        printf(\"*\");\n",
        "      }\n",
        "      printf(\"\\n\");\n",
        "    }\n",
        "    else\n",
        "    {\n",
        "      printf(\"1부터 50사이의 숫자가 아닙니다. \\n\");\n",
        "      break;\n",
        "    }\n",
        "\n",
        "  }\n",
        "\n",
        "  return 0;\n",
        "}"
      ],
      "metadata": {
        "colab": {
          "base_uri": "https://localhost:8080/"
        },
        "id": "FhraDZdp_SJm",
        "outputId": "b331f460-a35e-4445-ec19-b9d1761d119d"
      },
      "execution_count": null,
      "outputs": [
        {
          "output_type": "stream",
          "name": "stdout",
          "text": [
            "Overwriting pm_12.c\n"
          ]
        }
      ]
    },
    {
      "cell_type": "code",
      "source": [
        "%%shell\n",
        "\n",
        "gcc pm_12.c -o output\n",
        "./output"
      ],
      "metadata": {
        "colab": {
          "base_uri": "https://localhost:8080/"
        },
        "id": "gWImecgsD5wc",
        "outputId": "3e08f67c-4b33-4f62-df5e-9163d8b06a1e"
      },
      "execution_count": null,
      "outputs": [
        {
          "output_type": "stream",
          "name": "stdout",
          "text": [
            "데이터를 입력하시오:10\n",
            "**********\n",
            "데이터를 입력하시오:9\n",
            "*********\n",
            "데이터를 입력하시오:8\n",
            "********\n",
            "데이터를 입력하시오:7\n",
            "*******\n",
            "데이터를 입력하시오:6\n",
            "******\n",
            "데이터를 입력하시오:5\n",
            "*****\n",
            "데이터를 입력하시오:4\n",
            "****\n",
            "데이터를 입력하시오:3\n",
            "***\n",
            "데이터를 입력하시오:2\n",
            "**\n",
            "데이터를 입력하시오:52\n",
            "1부터 50사이의 숫자가 아닙니다. \n"
          ]
        },
        {
          "output_type": "execute_result",
          "data": {
            "text/plain": []
          },
          "metadata": {},
          "execution_count": 265
        }
      ]
    },
    {
      "cell_type": "code",
      "source": [
        "%%writefile pm_13.c\n",
        "\n",
        "#include <stdio.h>\n",
        "\n",
        "int main()\n",
        "{\n",
        "  int i, num, x=0, y=1, fib; // 구하는 항 수: num\n",
        "  printf(\"몇 번째 항까지 구할까요? \");\n",
        "  scanf(\"%d\", &num);\n",
        "\n",
        "  for (i=0; i<num+1; i++)\n",
        "  {\n",
        "    printf(\"%d, \", x);\n",
        "    \n",
        "    fib = y;    //피보나치 수열 계산\n",
        "    y = x + y;\n",
        "    x = fib;\n",
        "  }\n",
        "\n",
        "  return 0;\n",
        "}"
      ],
      "metadata": {
        "colab": {
          "base_uri": "https://localhost:8080/"
        },
        "id": "Mhq9Itf6EJGP",
        "outputId": "737f86fb-3605-4cc6-8891-257b2e387f92"
      },
      "execution_count": null,
      "outputs": [
        {
          "output_type": "stream",
          "name": "stdout",
          "text": [
            "Overwriting pm_13.c\n"
          ]
        }
      ]
    },
    {
      "cell_type": "code",
      "source": [
        "%%shell\n",
        "\n",
        "gcc pm_13.c -o output\n",
        "./output"
      ],
      "metadata": {
        "colab": {
          "base_uri": "https://localhost:8080/"
        },
        "id": "fCDq6NP6GEa-",
        "outputId": "105d4610-72ca-45d1-af20-7a822117e3e6"
      },
      "execution_count": null,
      "outputs": [
        {
          "output_type": "stream",
          "name": "stdout",
          "text": [
            "몇 번째 항까지 구할까요? 10\n",
            "0, 1, 1, 2, 3, 5, 8, 13, 21, 34, 55, "
          ]
        },
        {
          "output_type": "execute_result",
          "data": {
            "text/plain": []
          },
          "metadata": {},
          "execution_count": 103
        }
      ]
    },
    {
      "cell_type": "code",
      "source": [
        "%%writefile pm_14.c\n",
        "\n",
        "#include <stdio.h>\n",
        "\n",
        "int main()\n",
        "{\n",
        "  int i, n, sum=0; \n",
        "\n",
        "  printf(\"n의 값을 입력하시오: \");\n",
        "  scanf(\"%d\", &n);\n",
        "\n",
        "  for (i=1; i<=n; i++)\n",
        "  {\n",
        "    sum += i * i;\n",
        "  }\n",
        "\n",
        "  printf(\"계산값은 %d\", sum);\n",
        "\n",
        "  return 0;\n",
        "}"
      ],
      "metadata": {
        "colab": {
          "base_uri": "https://localhost:8080/"
        },
        "id": "Q6GQTetlGdEO",
        "outputId": "512c46f7-a5ff-42da-fc19-af2036eebe50"
      },
      "execution_count": null,
      "outputs": [
        {
          "output_type": "stream",
          "name": "stdout",
          "text": [
            "Overwriting pm_14.c\n"
          ]
        }
      ]
    },
    {
      "cell_type": "code",
      "source": [
        "%%shell\n",
        "\n",
        "gcc pm_14.c -o output\n",
        "./output"
      ],
      "metadata": {
        "colab": {
          "base_uri": "https://localhost:8080/"
        },
        "id": "s5gU0l5EHiNL",
        "outputId": "2b2bf012-e78f-422c-d80f-c52753b681f7"
      },
      "execution_count": null,
      "outputs": [
        {
          "output_type": "stream",
          "name": "stdout",
          "text": [
            "n의 값을 입력하시오: 10\n",
            "계산값은 385"
          ]
        },
        {
          "output_type": "execute_result",
          "data": {
            "text/plain": []
          },
          "metadata": {},
          "execution_count": 46
        }
      ]
    },
    {
      "cell_type": "code",
      "source": [
        "%%writefile pm_15.c\n",
        "\n",
        "#include <stdio.h>\n",
        "\n",
        "int main()\n",
        "{\n",
        "  float x, y=1000;  // 초기연료량: y, 연료 충전또는 소모값: x\n",
        "\n",
        "  printf(\"초기연료량: %d \\n\", (int)y);\n",
        "  while (y>=100)\n",
        "  {\n",
        "    printf(\"연료 충전은 +, 소모는 -로 입력해주세요: \");\n",
        "    scanf(\"%f\", &x);\n",
        "\n",
        "    y += x;\n",
        "    printf(\"현재 남아있는 양은 %f \\n\", y);\n",
        "  }\n",
        "\n",
        "  printf(\"\\n(경고) 연료가 10%%이하입니다. \");\n",
        "  return 0;\n",
        "}"
      ],
      "metadata": {
        "colab": {
          "base_uri": "https://localhost:8080/"
        },
        "id": "KbRd7S1eHj9Z",
        "outputId": "ad191cee-a7c5-48b4-bad8-ec4611803537"
      },
      "execution_count": null,
      "outputs": [
        {
          "output_type": "stream",
          "name": "stdout",
          "text": [
            "Overwriting pm_15.c\n"
          ]
        }
      ]
    },
    {
      "cell_type": "code",
      "source": [
        "%%shell\n",
        "\n",
        "gcc pm_15.c -o output\n",
        "./output"
      ],
      "metadata": {
        "colab": {
          "base_uri": "https://localhost:8080/"
        },
        "id": "mmBVY1ffJ6fm",
        "outputId": "5afbd5b6-8ef7-49fa-d6d5-da1a795dc50e"
      },
      "execution_count": null,
      "outputs": [
        {
          "output_type": "stream",
          "name": "stdout",
          "text": [
            "초기연료량: 1000 \n",
            "연료 충전은 +, 소모는 -로 입력해주세요: +300\n",
            "현재 남아있는 양은 1300.000000 \n",
            "연료 충전은 +, 소모는 -로 입력해주세요: -500\n",
            "현재 남아있는 양은 800.000000 \n",
            "연료 충전은 +, 소모는 -로 입력해주세요: -700\n",
            "현재 남아있는 양은 100.000000 \n",
            "연료 충전은 +, 소모는 -로 입력해주세요: -50\n",
            "현재 남아있는 양은 50.000000 \n",
            "\n",
            "(경고) 연료가 10%이하입니다. "
          ]
        },
        {
          "output_type": "execute_result",
          "data": {
            "text/plain": []
          },
          "metadata": {},
          "execution_count": 82
        }
      ]
    },
    {
      "cell_type": "code",
      "source": [
        "%%writefile pm_16.c\n",
        "\n",
        "#include <stdio.h>\n",
        "\n",
        "int main()\n",
        "{\n",
        "  int num, x=0, i;\n",
        "  \n",
        "  printf(\"정수를 입력하시오: \");\n",
        "  scanf(\"%d\", &num);\n",
        "\n",
        "  for (i=1; i<=num; i++)\n",
        "  {\n",
        "    if (num%i==0)\n",
        "      x++;\n",
        "  }\n",
        "  if (x!=2) // 2는 소수\n",
        "    printf(\"%d은 소수가 아닙니다.\", num);\n",
        "  else\n",
        "    printf(\"%d은 소수 입니다.\", num);\n",
        "}"
      ],
      "metadata": {
        "colab": {
          "base_uri": "https://localhost:8080/"
        },
        "id": "UGUTr0KZKmc9",
        "outputId": "f5595fce-662c-4c66-9d7c-d284f78b4e28"
      },
      "execution_count": null,
      "outputs": [
        {
          "output_type": "stream",
          "name": "stdout",
          "text": [
            "Overwriting pm_16.c\n"
          ]
        }
      ]
    },
    {
      "cell_type": "code",
      "source": [
        "%%shell \n",
        "\n",
        "gcc pm_16.c -o output\n",
        "./output"
      ],
      "metadata": {
        "colab": {
          "base_uri": "https://localhost:8080/"
        },
        "id": "2KJRhUeeUzQp",
        "outputId": "6ad4c083-8c2e-4d2f-d451-4826fdca6544"
      },
      "execution_count": null,
      "outputs": [
        {
          "output_type": "stream",
          "name": "stdout",
          "text": [
            "정수를 입력하시오: 93\n",
            "93은 소수가 아닙니다."
          ]
        },
        {
          "output_type": "execute_result",
          "data": {
            "text/plain": []
          },
          "metadata": {},
          "execution_count": 92
        }
      ]
    },
    {
      "cell_type": "code",
      "source": [
        "%%writefile pm_17.c\n",
        "\n",
        "#include <stdio.h>\n",
        "#define PYTHAGOREAN_THEOREM    a*a+b*b==c*c   // 피타고라스 정리 정의\n",
        "\n",
        "int main()\n",
        "{\n",
        "  int a, b, c;\n",
        "\n",
        "  for (a=1; a<100; a++)\n",
        "  {\n",
        "    for (b=1; b<100; b++)\n",
        "    {\n",
        "      for (c=1; c<100; c++)\n",
        "      {\n",
        "        if (PYTHAGOREAN_THEOREM)\n",
        "          printf(\"%d %d %d \\n\", a, b, c);\n",
        "      }\n",
        "    }\n",
        "  }\n",
        "\n",
        "  return 0;\n",
        "}"
      ],
      "metadata": {
        "colab": {
          "base_uri": "https://localhost:8080/"
        },
        "id": "8T-e7vXjU4Au",
        "outputId": "48b198d2-cf61-4c8f-b996-8e972eb95169"
      },
      "execution_count": null,
      "outputs": [
        {
          "output_type": "stream",
          "name": "stdout",
          "text": [
            "Overwriting pm_17.c\n"
          ]
        }
      ]
    },
    {
      "cell_type": "code",
      "source": [
        "%%shell\n",
        "\n",
        "gcc pm_17.c -o output\n",
        "./output"
      ],
      "metadata": {
        "colab": {
          "base_uri": "https://localhost:8080/"
        },
        "id": "C-2DSwYuuAXc",
        "outputId": "47c2084e-c8ec-4406-d0eb-abd460a2bcde"
      },
      "execution_count": null,
      "outputs": [
        {
          "output_type": "stream",
          "name": "stdout",
          "text": [
            "3 4 5 \n",
            "4 3 5 \n",
            "5 12 13 \n",
            "6 8 10 \n",
            "7 24 25 \n",
            "8 6 10 \n",
            "8 15 17 \n",
            "9 12 15 \n",
            "9 40 41 \n",
            "10 24 26 \n",
            "11 60 61 \n",
            "12 5 13 \n",
            "12 9 15 \n",
            "12 16 20 \n",
            "12 35 37 \n",
            "13 84 85 \n",
            "14 48 50 \n",
            "15 8 17 \n",
            "15 20 25 \n",
            "15 36 39 \n",
            "16 12 20 \n",
            "16 30 34 \n",
            "16 63 65 \n",
            "18 24 30 \n",
            "18 80 82 \n",
            "20 15 25 \n",
            "20 21 29 \n",
            "20 48 52 \n",
            "21 20 29 \n",
            "21 28 35 \n",
            "21 72 75 \n",
            "24 7 25 \n",
            "24 10 26 \n",
            "24 18 30 \n",
            "24 32 40 \n",
            "24 45 51 \n",
            "24 70 74 \n",
            "25 60 65 \n",
            "27 36 45 \n",
            "28 21 35 \n",
            "28 45 53 \n",
            "30 16 34 \n",
            "30 40 50 \n",
            "30 72 78 \n",
            "32 24 40 \n",
            "32 60 68 \n",
            "33 44 55 \n",
            "33 56 65 \n",
            "35 12 37 \n",
            "35 84 91 \n",
            "36 15 39 \n",
            "36 27 45 \n",
            "36 48 60 \n",
            "36 77 85 \n",
            "39 52 65 \n",
            "39 80 89 \n",
            "40 9 41 \n",
            "40 30 50 \n",
            "40 42 58 \n",
            "40 75 85 \n",
            "42 40 58 \n",
            "42 56 70 \n",
            "44 33 55 \n",
            "45 24 51 \n",
            "45 28 53 \n",
            "45 60 75 \n",
            "48 14 50 \n",
            "48 20 52 \n",
            "48 36 60 \n",
            "48 55 73 \n",
            "48 64 80 \n",
            "51 68 85 \n",
            "52 39 65 \n",
            "54 72 90 \n",
            "55 48 73 \n",
            "56 33 65 \n",
            "56 42 70 \n",
            "57 76 95 \n",
            "60 11 61 \n",
            "60 25 65 \n",
            "60 32 68 \n",
            "60 45 75 \n",
            "60 63 87 \n",
            "63 16 65 \n",
            "63 60 87 \n",
            "64 48 80 \n",
            "65 72 97 \n",
            "68 51 85 \n",
            "70 24 74 \n",
            "72 21 75 \n",
            "72 30 78 \n",
            "72 54 90 \n",
            "72 65 97 \n",
            "75 40 85 \n",
            "76 57 95 \n",
            "77 36 85 \n",
            "80 18 82 \n",
            "80 39 89 \n",
            "84 13 85 \n",
            "84 35 91 \n"
          ]
        },
        {
          "output_type": "execute_result",
          "data": {
            "text/plain": []
          },
          "metadata": {},
          "execution_count": 99
        }
      ]
    },
    {
      "cell_type": "code",
      "source": [
        "%%writefile pm_18.c\n",
        "\n",
        "#include <stdio.h>\n",
        "#include <stdlib.h>\n",
        "\n",
        "int main()\n",
        "{\n",
        "  int bets=0, wins=0, cash = 50;    // 배팅 횟수: bets, 이긴 횟수: wins, 가진 돈: cash\n",
        "  float per;                        // 이긴 확률\n",
        "  printf(\"초기 금액 $%d \\n\", cash);\n",
        "  printf(\"목표 금액 $250 \\n\");\n",
        "\n",
        "  while (cash!=250)\n",
        "  {\n",
        "    bets++;\n",
        "    if ( (double)rand()/RAND_MAX < 0.5 )\n",
        "    {\n",
        "      cash++;\n",
        "      wins++;\n",
        "    }\n",
        "    else\n",
        "      cash--;\n",
        "  }\n",
        "  printf(\"%d 중에 %d번 승리 \\n\", bets, wins);\n",
        "\n",
        "  per = (float)wins / (float)bets * 100.0;\n",
        "  printf(\"이긴 확률=%f\",per);\n",
        "  \n",
        "  return 0;\n",
        "}"
      ],
      "metadata": {
        "colab": {
          "base_uri": "https://localhost:8080/"
        },
        "id": "ocGsZ4L6uCT8",
        "outputId": "938d09cd-d766-46bd-a61e-74ddbee9a548"
      },
      "execution_count": null,
      "outputs": [
        {
          "output_type": "stream",
          "name": "stdout",
          "text": [
            "Overwriting pm_18.c\n"
          ]
        }
      ]
    },
    {
      "cell_type": "code",
      "source": [
        "%%shell\n",
        "\n",
        "gcc pm_18.c -o output\n",
        "./output"
      ],
      "metadata": {
        "colab": {
          "base_uri": "https://localhost:8080/"
        },
        "id": "Y-nWiq9ouaT2",
        "outputId": "40ff7c7e-397b-43f8-c276-3ebe5d38205d"
      },
      "execution_count": null,
      "outputs": [
        {
          "output_type": "stream",
          "name": "stdout",
          "text": [
            "초기 금액 $50 \n",
            "목표 금액 $250 \n",
            "17606 중에 8903번 승리 \n",
            "이긴 확률=50.567989"
          ]
        },
        {
          "output_type": "execute_result",
          "data": {
            "text/plain": []
          },
          "metadata": {},
          "execution_count": 267
        }
      ]
    },
    {
      "cell_type": "code",
      "source": [
        "%%writefile pm_19.c\n",
        "\n",
        "#include <stdio.h>\n",
        "#include <math.h>\n",
        "\n",
        "int main()\n",
        "{\n",
        "  int i;\n",
        "  double j=0, k=0, n=0;\n",
        "  printf(\"반복횟수:\");\n",
        "  scanf(\"%d\", &i);\n",
        "\n",
        "  while(n<=i)\n",
        "  {\n",
        "    n++;\n",
        "    j = 4 / (2*n-1) * pow(-1, n-1);   //Gregory-Leibniz 무한 수열 계산\n",
        "    k += j;\n",
        "  }\n",
        "  printf(\"Pi = %lf\", k);\n",
        "\n",
        "  return 0;\n",
        "}"
      ],
      "metadata": {
        "colab": {
          "base_uri": "https://localhost:8080/"
        },
        "id": "OhupLbmd0M8Z",
        "outputId": "0ea17c8c-a83b-4383-da6a-85c31856352f"
      },
      "execution_count": null,
      "outputs": [
        {
          "output_type": "stream",
          "name": "stdout",
          "text": [
            "Overwriting pm_19.c\n"
          ]
        }
      ]
    },
    {
      "cell_type": "code",
      "source": [
        "%%shell\n",
        "\n",
        "gcc pm_19.c -o output -lm\n",
        "./output"
      ],
      "metadata": {
        "colab": {
          "base_uri": "https://localhost:8080/"
        },
        "id": "t1dYWdWb6hMw",
        "outputId": "8b271089-e0b7-47ad-f1f8-deacf0b23eb4"
      },
      "execution_count": null,
      "outputs": [
        {
          "output_type": "stream",
          "name": "stdout",
          "text": [
            "반복횟수:1000000\n",
            "Pi = 3.141594"
          ]
        },
        {
          "output_type": "execute_result",
          "data": {
            "text/plain": []
          },
          "metadata": {},
          "execution_count": 292
        }
      ]
    },
    {
      "cell_type": "code",
      "source": [],
      "metadata": {
        "id": "LH78w7rb6jMp"
      },
      "execution_count": null,
      "outputs": []
    }
  ]
}